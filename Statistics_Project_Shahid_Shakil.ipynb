{
 "cells": [
  {
   "cell_type": "code",
   "execution_count": 1,
   "metadata": {},
   "outputs": [
    {
     "name": "stdout",
     "output_type": "stream",
     "text": [
      "The mean of Old Scheme is 68.03333333333333\n",
      "The mean of New Scheme is 72.03333333333333\n"
     ]
    }
   ],
   "source": [
    "##Finding the mean of both the columns\n",
    "import pandas as pd\n",
    "titan_df = pd.read_csv('titan1.csv')\n",
    "print(\"The mean of Old Scheme is \" +str( titan_df.loc[:,'Old Scheme (in thousands)'].mean()))\n",
    "print(\"The mean of New Scheme is \" +str( titan_df.loc[:,'New Scheme (in thousands)'].mean()))"
   ]
  },
  {
   "cell_type": "code",
   "execution_count": 25,
   "metadata": {},
   "outputs": [
    {
     "name": "stdout",
     "output_type": "stream",
     "text": [
      "(0.9885101914405823, 0.9813658595085144)\n",
      "(0.9687567353248596, 0.5057420134544373)\n",
      "The data is Normally distributed\n"
     ]
    }
   ],
   "source": [
    "# H0 Dsitribution is Normal\n",
    "from scipy.stats import shapiro,levene,ttest_1samp\n",
    "from statsmodels.stats.power import ttest_power\n",
    "print(shapiro(titan_df['Old Scheme (in thousands)']))\n",
    "print(shapiro(titan_df['New Scheme (in thousands)']))\n",
    "print('The data is Normally distributed')"
   ]
  },
  {
   "cell_type": "code",
   "execution_count": 12,
   "metadata": {},
   "outputs": [
    {
     "data": {
      "text/plain": [
       "LeveneResult(statistic=1.063061539437244, pvalue=0.30679836081811235)"
      ]
     },
     "execution_count": 12,
     "metadata": {},
     "output_type": "execute_result"
    }
   ],
   "source": [
    "# H0 The mean of the old scheme is not same as New Scheme\n",
    "levene((titan_df['Old Scheme (in thousands)']),(titan_df['New Scheme (in thousands)']))\n",
    "#Based on the result we can reject the NULL hypothesis"
   ]
  },
  {
   "cell_type": "code",
   "execution_count": 17,
   "metadata": {},
   "outputs": [
    {
     "name": "stdout",
     "output_type": "stream",
     "text": [
      "1.5559143823544377 0.06528776980668831\n"
     ]
    }
   ],
   "source": [
    "#The probability of a type 1 error\n",
    "t_statistic, p_value = ttest_1samp((titan_df['New Scheme (in thousands)']) - (titan_df['Old Scheme (in thousands)']),0 )\n",
    "print(t_statistic, p_value/2)"
   ]
  },
  {
   "cell_type": "code",
   "execution_count": 19,
   "metadata": {},
   "outputs": [
    {
     "name": "stdout",
     "output_type": "stream",
     "text": [
      "-1943.3370635606927 5.044245168420754e-76\n"
     ]
    }
   ],
   "source": [
    "#p- value of the hypothesis test if we test for a difference of $5000\n",
    "t_statistic, p_value = ttest_1samp((titan_df['New Scheme (in thousands)']) - (titan_df['Old Scheme (in thousands)']),5000 )\n",
    "print(t_statistic,p_value/2)"
   ]
  },
  {
   "cell_type": "code",
   "execution_count": 26,
   "metadata": {},
   "outputs": [
    {
     "name": "stdout",
     "output_type": "stream",
     "text": [
      "0.10506757964046301\n"
     ]
    },
    {
     "data": {
      "text/plain": [
       "0.12909555513169643"
      ]
     },
     "execution_count": 26,
     "metadata": {},
     "output_type": "execute_result"
    }
   ],
   "source": [
    "#Power of the test\n",
    "import numpy as np\n",
    "x=(np.mean(titan_df['New Scheme (in thousands)']) - np.mean(titan_df['Old Scheme (in thousands)'])) / np.sqrt(((30-1)*np.var(titan_df['Old Scheme (in thousands)']) + (30-1)*np.var(titan_df['New Scheme (in thousands)'])) / 30+30-2)\n",
    "print(ttest_power(x, nobs=30, alpha=0.05, alternative='two-sided'))\n",
    "x"
   ]
  }
 ],
 "metadata": {
  "kernelspec": {
   "display_name": "Python 3",
   "language": "python",
   "name": "python3"
  },
  "language_info": {
   "codemirror_mode": {
    "name": "ipython",
    "version": 3
   },
   "file_extension": ".py",
   "mimetype": "text/x-python",
   "name": "python",
   "nbconvert_exporter": "python",
   "pygments_lexer": "ipython3",
   "version": "3.6.5"
  }
 },
 "nbformat": 4,
 "nbformat_minor": 2
}
