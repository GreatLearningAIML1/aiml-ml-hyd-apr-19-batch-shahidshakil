{
 "cells": [
  {
   "cell_type": "code",
   "execution_count": 1,
   "metadata": {},
   "outputs": [
    {
     "name": "stderr",
     "output_type": "stream",
     "text": [
      "C:\\Users\\SUPERMAN1\\Anaconda3\\lib\\site-packages\\tensorflow\\python\\framework\\dtypes.py:526: FutureWarning: Passing (type, 1) or '1type' as a synonym of type is deprecated; in a future version of numpy, it will be understood as (type, (1,)) / '(1,)type'.\n",
      "  _np_qint8 = np.dtype([(\"qint8\", np.int8, 1)])\n",
      "C:\\Users\\SUPERMAN1\\Anaconda3\\lib\\site-packages\\tensorflow\\python\\framework\\dtypes.py:527: FutureWarning: Passing (type, 1) or '1type' as a synonym of type is deprecated; in a future version of numpy, it will be understood as (type, (1,)) / '(1,)type'.\n",
      "  _np_quint8 = np.dtype([(\"quint8\", np.uint8, 1)])\n",
      "C:\\Users\\SUPERMAN1\\Anaconda3\\lib\\site-packages\\tensorflow\\python\\framework\\dtypes.py:528: FutureWarning: Passing (type, 1) or '1type' as a synonym of type is deprecated; in a future version of numpy, it will be understood as (type, (1,)) / '(1,)type'.\n",
      "  _np_qint16 = np.dtype([(\"qint16\", np.int16, 1)])\n",
      "C:\\Users\\SUPERMAN1\\Anaconda3\\lib\\site-packages\\tensorflow\\python\\framework\\dtypes.py:529: FutureWarning: Passing (type, 1) or '1type' as a synonym of type is deprecated; in a future version of numpy, it will be understood as (type, (1,)) / '(1,)type'.\n",
      "  _np_quint16 = np.dtype([(\"quint16\", np.uint16, 1)])\n",
      "C:\\Users\\SUPERMAN1\\Anaconda3\\lib\\site-packages\\tensorflow\\python\\framework\\dtypes.py:530: FutureWarning: Passing (type, 1) or '1type' as a synonym of type is deprecated; in a future version of numpy, it will be understood as (type, (1,)) / '(1,)type'.\n",
      "  _np_qint32 = np.dtype([(\"qint32\", np.int32, 1)])\n",
      "C:\\Users\\SUPERMAN1\\Anaconda3\\lib\\site-packages\\tensorflow\\python\\framework\\dtypes.py:535: FutureWarning: Passing (type, 1) or '1type' as a synonym of type is deprecated; in a future version of numpy, it will be understood as (type, (1,)) / '(1,)type'.\n",
      "  np_resource = np.dtype([(\"resource\", np.ubyte, 1)])\n",
      "C:\\Users\\SUPERMAN1\\Anaconda3\\lib\\site-packages\\h5py\\__init__.py:36: FutureWarning: Conversion of the second argument of issubdtype from `float` to `np.floating` is deprecated. In future, it will be treated as `np.float64 == np.dtype(float).type`.\n",
      "  from ._conv import register_converters as _register_converters\n",
      "Using TensorFlow backend.\n"
     ]
    }
   ],
   "source": [
    "import numpy as np\n",
    "import pandas as pd\n",
    "from sklearn import metrics\n",
    "from sklearn import preprocessing\n",
    "import tensorflow as tf\n",
    "tf.set_random_seed(42)\n",
    "import keras\n",
    "from sklearn.preprocessing import LabelEncoder,OneHotEncoder\n",
    "from sklearn.model_selection import train_test_split\n",
    "from sklearn.preprocessing import StandardScaler\n",
    "from keras.models import Sequential\n",
    "from keras.layers import Dense\n",
    "from sklearn.metrics import confusion_matrix"
   ]
  },
  {
   "cell_type": "code",
   "execution_count": 2,
   "metadata": {},
   "outputs": [],
   "source": [
    "bank_df = pd.read_csv(\"bank.csv\")"
   ]
  },
  {
   "cell_type": "code",
   "execution_count": 3,
   "metadata": {},
   "outputs": [
    {
     "data": {
      "text/html": [
       "<div>\n",
       "<style scoped>\n",
       "    .dataframe tbody tr th:only-of-type {\n",
       "        vertical-align: middle;\n",
       "    }\n",
       "\n",
       "    .dataframe tbody tr th {\n",
       "        vertical-align: top;\n",
       "    }\n",
       "\n",
       "    .dataframe thead th {\n",
       "        text-align: right;\n",
       "    }\n",
       "</style>\n",
       "<table border=\"1\" class=\"dataframe\">\n",
       "  <thead>\n",
       "    <tr style=\"text-align: right;\">\n",
       "      <th></th>\n",
       "      <th>RowNumber</th>\n",
       "      <th>CustomerId</th>\n",
       "      <th>Surname</th>\n",
       "      <th>CreditScore</th>\n",
       "      <th>Geography</th>\n",
       "      <th>Gender</th>\n",
       "      <th>Age</th>\n",
       "      <th>Tenure</th>\n",
       "      <th>Balance</th>\n",
       "      <th>NumOfProducts</th>\n",
       "      <th>HasCrCard</th>\n",
       "      <th>IsActiveMember</th>\n",
       "      <th>EstimatedSalary</th>\n",
       "      <th>Exited</th>\n",
       "    </tr>\n",
       "  </thead>\n",
       "  <tbody>\n",
       "    <tr>\n",
       "      <td>6956</td>\n",
       "      <td>6957</td>\n",
       "      <td>15696605</td>\n",
       "      <td>Angelo</td>\n",
       "      <td>571</td>\n",
       "      <td>France</td>\n",
       "      <td>Male</td>\n",
       "      <td>49</td>\n",
       "      <td>4</td>\n",
       "      <td>180614.04</td>\n",
       "      <td>1</td>\n",
       "      <td>0</td>\n",
       "      <td>0</td>\n",
       "      <td>523.00</td>\n",
       "      <td>0</td>\n",
       "    </tr>\n",
       "    <tr>\n",
       "      <td>698</td>\n",
       "      <td>699</td>\n",
       "      <td>15669516</td>\n",
       "      <td>Steele</td>\n",
       "      <td>746</td>\n",
       "      <td>Spain</td>\n",
       "      <td>Male</td>\n",
       "      <td>36</td>\n",
       "      <td>2</td>\n",
       "      <td>0.00</td>\n",
       "      <td>2</td>\n",
       "      <td>1</td>\n",
       "      <td>1</td>\n",
       "      <td>16436.56</td>\n",
       "      <td>0</td>\n",
       "    </tr>\n",
       "    <tr>\n",
       "      <td>4085</td>\n",
       "      <td>4086</td>\n",
       "      <td>15627251</td>\n",
       "      <td>Tsui</td>\n",
       "      <td>520</td>\n",
       "      <td>France</td>\n",
       "      <td>Male</td>\n",
       "      <td>34</td>\n",
       "      <td>4</td>\n",
       "      <td>134007.90</td>\n",
       "      <td>1</td>\n",
       "      <td>1</td>\n",
       "      <td>1</td>\n",
       "      <td>193209.11</td>\n",
       "      <td>0</td>\n",
       "    </tr>\n",
       "    <tr>\n",
       "      <td>7807</td>\n",
       "      <td>7808</td>\n",
       "      <td>15568904</td>\n",
       "      <td>Kruglova</td>\n",
       "      <td>608</td>\n",
       "      <td>Germany</td>\n",
       "      <td>Male</td>\n",
       "      <td>34</td>\n",
       "      <td>3</td>\n",
       "      <td>106288.54</td>\n",
       "      <td>1</td>\n",
       "      <td>1</td>\n",
       "      <td>1</td>\n",
       "      <td>36639.25</td>\n",
       "      <td>0</td>\n",
       "    </tr>\n",
       "    <tr>\n",
       "      <td>2011</td>\n",
       "      <td>2012</td>\n",
       "      <td>15726267</td>\n",
       "      <td>Paterson</td>\n",
       "      <td>570</td>\n",
       "      <td>France</td>\n",
       "      <td>Male</td>\n",
       "      <td>32</td>\n",
       "      <td>9</td>\n",
       "      <td>117337.54</td>\n",
       "      <td>2</td>\n",
       "      <td>0</td>\n",
       "      <td>1</td>\n",
       "      <td>62810.91</td>\n",
       "      <td>0</td>\n",
       "    </tr>\n",
       "  </tbody>\n",
       "</table>\n",
       "</div>"
      ],
      "text/plain": [
       "      RowNumber  CustomerId   Surname  CreditScore Geography Gender  Age  \\\n",
       "6956       6957    15696605    Angelo          571    France   Male   49   \n",
       "698         699    15669516    Steele          746     Spain   Male   36   \n",
       "4085       4086    15627251      Tsui          520    France   Male   34   \n",
       "7807       7808    15568904  Kruglova          608   Germany   Male   34   \n",
       "2011       2012    15726267  Paterson          570    France   Male   32   \n",
       "\n",
       "      Tenure    Balance  NumOfProducts  HasCrCard  IsActiveMember  \\\n",
       "6956       4  180614.04              1          0               0   \n",
       "698        2       0.00              2          1               1   \n",
       "4085       4  134007.90              1          1               1   \n",
       "7807       3  106288.54              1          1               1   \n",
       "2011       9  117337.54              2          0               1   \n",
       "\n",
       "      EstimatedSalary  Exited  \n",
       "6956           523.00       0  \n",
       "698          16436.56       0  \n",
       "4085        193209.11       0  \n",
       "7807         36639.25       0  \n",
       "2011         62810.91       0  "
      ]
     },
     "execution_count": 3,
     "metadata": {},
     "output_type": "execute_result"
    }
   ],
   "source": [
    "bank_df.sample(5)"
   ]
  },
  {
   "cell_type": "code",
   "execution_count": 4,
   "metadata": {},
   "outputs": [
    {
     "name": "stdout",
     "output_type": "stream",
     "text": [
      "<class 'pandas.core.frame.DataFrame'>\n",
      "RangeIndex: 10000 entries, 0 to 9999\n",
      "Data columns (total 14 columns):\n",
      "RowNumber          10000 non-null int64\n",
      "CustomerId         10000 non-null int64\n",
      "Surname            10000 non-null object\n",
      "CreditScore        10000 non-null int64\n",
      "Geography          10000 non-null object\n",
      "Gender             10000 non-null object\n",
      "Age                10000 non-null int64\n",
      "Tenure             10000 non-null int64\n",
      "Balance            10000 non-null float64\n",
      "NumOfProducts      10000 non-null int64\n",
      "HasCrCard          10000 non-null int64\n",
      "IsActiveMember     10000 non-null int64\n",
      "EstimatedSalary    10000 non-null float64\n",
      "Exited             10000 non-null int64\n",
      "dtypes: float64(2), int64(9), object(3)\n",
      "memory usage: 1.1+ MB\n"
     ]
    }
   ],
   "source": [
    "bank_df.info()"
   ]
  },
  {
   "cell_type": "code",
   "execution_count": 5,
   "metadata": {},
   "outputs": [
    {
     "data": {
      "text/plain": [
       "(10000, 14)"
      ]
     },
     "execution_count": 5,
     "metadata": {},
     "output_type": "execute_result"
    }
   ],
   "source": [
    "bank_df.shape"
   ]
  },
  {
   "cell_type": "code",
   "execution_count": 6,
   "metadata": {},
   "outputs": [],
   "source": [
    "bank_df.drop(['RowNumber','CustomerId','Surname',],axis=1,inplace=True)"
   ]
  },
  {
   "cell_type": "code",
   "execution_count": 7,
   "metadata": {},
   "outputs": [
    {
     "name": "stdout",
     "output_type": "stream",
     "text": [
      "<class 'pandas.core.frame.DataFrame'>\n",
      "RangeIndex: 10000 entries, 0 to 9999\n",
      "Data columns (total 11 columns):\n",
      "CreditScore        10000 non-null int64\n",
      "Geography          10000 non-null object\n",
      "Gender             10000 non-null object\n",
      "Age                10000 non-null int64\n",
      "Tenure             10000 non-null int64\n",
      "Balance            10000 non-null float64\n",
      "NumOfProducts      10000 non-null int64\n",
      "HasCrCard          10000 non-null int64\n",
      "IsActiveMember     10000 non-null int64\n",
      "EstimatedSalary    10000 non-null float64\n",
      "Exited             10000 non-null int64\n",
      "dtypes: float64(2), int64(7), object(2)\n",
      "memory usage: 859.5+ KB\n"
     ]
    }
   ],
   "source": [
    "bank_df.info()"
   ]
  },
  {
   "cell_type": "code",
   "execution_count": 8,
   "metadata": {},
   "outputs": [
    {
     "data": {
      "text/html": [
       "<div>\n",
       "<style scoped>\n",
       "    .dataframe tbody tr th:only-of-type {\n",
       "        vertical-align: middle;\n",
       "    }\n",
       "\n",
       "    .dataframe tbody tr th {\n",
       "        vertical-align: top;\n",
       "    }\n",
       "\n",
       "    .dataframe thead th {\n",
       "        text-align: right;\n",
       "    }\n",
       "</style>\n",
       "<table border=\"1\" class=\"dataframe\">\n",
       "  <thead>\n",
       "    <tr style=\"text-align: right;\">\n",
       "      <th></th>\n",
       "      <th>CreditScore</th>\n",
       "      <th>Geography</th>\n",
       "      <th>Gender</th>\n",
       "      <th>Age</th>\n",
       "      <th>Tenure</th>\n",
       "      <th>Balance</th>\n",
       "      <th>NumOfProducts</th>\n",
       "      <th>HasCrCard</th>\n",
       "      <th>IsActiveMember</th>\n",
       "      <th>EstimatedSalary</th>\n",
       "      <th>Exited</th>\n",
       "    </tr>\n",
       "  </thead>\n",
       "  <tbody>\n",
       "    <tr>\n",
       "      <td>0</td>\n",
       "      <td>619</td>\n",
       "      <td>France</td>\n",
       "      <td>Female</td>\n",
       "      <td>42</td>\n",
       "      <td>2</td>\n",
       "      <td>0.00</td>\n",
       "      <td>1</td>\n",
       "      <td>1</td>\n",
       "      <td>1</td>\n",
       "      <td>101348.88</td>\n",
       "      <td>1</td>\n",
       "    </tr>\n",
       "    <tr>\n",
       "      <td>1</td>\n",
       "      <td>608</td>\n",
       "      <td>Spain</td>\n",
       "      <td>Female</td>\n",
       "      <td>41</td>\n",
       "      <td>1</td>\n",
       "      <td>83807.86</td>\n",
       "      <td>1</td>\n",
       "      <td>0</td>\n",
       "      <td>1</td>\n",
       "      <td>112542.58</td>\n",
       "      <td>0</td>\n",
       "    </tr>\n",
       "    <tr>\n",
       "      <td>2</td>\n",
       "      <td>502</td>\n",
       "      <td>France</td>\n",
       "      <td>Female</td>\n",
       "      <td>42</td>\n",
       "      <td>8</td>\n",
       "      <td>159660.80</td>\n",
       "      <td>3</td>\n",
       "      <td>1</td>\n",
       "      <td>0</td>\n",
       "      <td>113931.57</td>\n",
       "      <td>1</td>\n",
       "    </tr>\n",
       "    <tr>\n",
       "      <td>3</td>\n",
       "      <td>699</td>\n",
       "      <td>France</td>\n",
       "      <td>Female</td>\n",
       "      <td>39</td>\n",
       "      <td>1</td>\n",
       "      <td>0.00</td>\n",
       "      <td>2</td>\n",
       "      <td>0</td>\n",
       "      <td>0</td>\n",
       "      <td>93826.63</td>\n",
       "      <td>0</td>\n",
       "    </tr>\n",
       "    <tr>\n",
       "      <td>4</td>\n",
       "      <td>850</td>\n",
       "      <td>Spain</td>\n",
       "      <td>Female</td>\n",
       "      <td>43</td>\n",
       "      <td>2</td>\n",
       "      <td>125510.82</td>\n",
       "      <td>1</td>\n",
       "      <td>1</td>\n",
       "      <td>1</td>\n",
       "      <td>79084.10</td>\n",
       "      <td>0</td>\n",
       "    </tr>\n",
       "  </tbody>\n",
       "</table>\n",
       "</div>"
      ],
      "text/plain": [
       "   CreditScore Geography  Gender  Age  Tenure    Balance  NumOfProducts  \\\n",
       "0          619    France  Female   42       2       0.00              1   \n",
       "1          608     Spain  Female   41       1   83807.86              1   \n",
       "2          502    France  Female   42       8  159660.80              3   \n",
       "3          699    France  Female   39       1       0.00              2   \n",
       "4          850     Spain  Female   43       2  125510.82              1   \n",
       "\n",
       "   HasCrCard  IsActiveMember  EstimatedSalary  Exited  \n",
       "0          1               1        101348.88       1  \n",
       "1          0               1        112542.58       0  \n",
       "2          1               0        113931.57       1  \n",
       "3          0               0         93826.63       0  \n",
       "4          1               1         79084.10       0  "
      ]
     },
     "execution_count": 8,
     "metadata": {},
     "output_type": "execute_result"
    }
   ],
   "source": [
    "bank_df.head()"
   ]
  },
  {
   "cell_type": "code",
   "execution_count": 9,
   "metadata": {},
   "outputs": [],
   "source": [
    "X = bank_df.iloc[:,0:10].values"
   ]
  },
  {
   "cell_type": "code",
   "execution_count": 10,
   "metadata": {},
   "outputs": [],
   "source": [
    "Y = bank_df.iloc[:,-1].values"
   ]
  },
  {
   "cell_type": "code",
   "execution_count": 11,
   "metadata": {},
   "outputs": [],
   "source": [
    "X_Encoder = LabelEncoder()"
   ]
  },
  {
   "cell_type": "code",
   "execution_count": 12,
   "metadata": {},
   "outputs": [],
   "source": [
    "X[:,1] = X_Encoder.fit_transform(X[:,1])"
   ]
  },
  {
   "cell_type": "code",
   "execution_count": 13,
   "metadata": {},
   "outputs": [],
   "source": [
    "X_Encoder1 = LabelEncoder()"
   ]
  },
  {
   "cell_type": "code",
   "execution_count": 14,
   "metadata": {},
   "outputs": [],
   "source": [
    "X[:,2] = X_Encoder1.fit_transform(X[:,2])"
   ]
  },
  {
   "cell_type": "code",
   "execution_count": 15,
   "metadata": {},
   "outputs": [],
   "source": [
    "oneHotEncoder = OneHotEncoder(categorical_features = [1])"
   ]
  },
  {
   "cell_type": "code",
   "execution_count": 16,
   "metadata": {},
   "outputs": [
    {
     "name": "stderr",
     "output_type": "stream",
     "text": [
      "C:\\Users\\SUPERMAN1\\Anaconda3\\lib\\site-packages\\sklearn\\preprocessing\\_encoders.py:415: FutureWarning: The handling of integer data will change in version 0.22. Currently, the categories are determined based on the range [0, max(values)], while in the future they will be determined based on the unique values.\n",
      "If you want the future behaviour and silence this warning, you can specify \"categories='auto'\".\n",
      "In case you used a LabelEncoder before this OneHotEncoder to convert the categories to integers, then you can now use the OneHotEncoder directly.\n",
      "  warnings.warn(msg, FutureWarning)\n",
      "C:\\Users\\SUPERMAN1\\Anaconda3\\lib\\site-packages\\sklearn\\preprocessing\\_encoders.py:451: DeprecationWarning: The 'categorical_features' keyword is deprecated in version 0.20 and will be removed in 0.22. You can use the ColumnTransformer instead.\n",
      "  \"use the ColumnTransformer instead.\", DeprecationWarning)\n"
     ]
    }
   ],
   "source": [
    "X = oneHotEncoder.fit_transform(X).toarray()"
   ]
  },
  {
   "cell_type": "code",
   "execution_count": 17,
   "metadata": {},
   "outputs": [],
   "source": [
    "X = X[:,1:]"
   ]
  },
  {
   "cell_type": "code",
   "execution_count": 18,
   "metadata": {},
   "outputs": [],
   "source": [
    "X_train, X_test, y_train, y_test = train_test_split(X, Y, test_size=0.2, random_state=7)"
   ]
  },
  {
   "cell_type": "code",
   "execution_count": 19,
   "metadata": {},
   "outputs": [],
   "source": [
    "scaler = StandardScaler()"
   ]
  },
  {
   "cell_type": "code",
   "execution_count": 21,
   "metadata": {},
   "outputs": [],
   "source": [
    "X_train_Scale = scaler.fit_transform(X_train)"
   ]
  },
  {
   "cell_type": "code",
   "execution_count": 22,
   "metadata": {},
   "outputs": [],
   "source": [
    "X_test_Scale = scaler.transform(X_test)"
   ]
  },
  {
   "cell_type": "code",
   "execution_count": 23,
   "metadata": {},
   "outputs": [
    {
     "data": {
      "text/plain": [
       "(8000, 11)"
      ]
     },
     "execution_count": 23,
     "metadata": {},
     "output_type": "execute_result"
    }
   ],
   "source": [
    "X_train_Scale.shape"
   ]
  },
  {
   "cell_type": "code",
   "execution_count": 24,
   "metadata": {},
   "outputs": [
    {
     "data": {
      "text/plain": [
       "(2000, 11)"
      ]
     },
     "execution_count": 24,
     "metadata": {},
     "output_type": "execute_result"
    }
   ],
   "source": [
    "X_test_Scale.shape"
   ]
  },
  {
   "cell_type": "code",
   "execution_count": 25,
   "metadata": {},
   "outputs": [
    {
     "name": "stdout",
     "output_type": "stream",
     "text": [
      "WARNING:tensorflow:From C:\\Users\\SUPERMAN1\\Anaconda3\\lib\\site-packages\\tensorflow\\python\\framework\\op_def_library.py:263: colocate_with (from tensorflow.python.framework.ops) is deprecated and will be removed in a future version.\n",
      "Instructions for updating:\n",
      "Colocations handled automatically by placer.\n"
     ]
    }
   ],
   "source": [
    "model = Sequential()\n",
    "model.add(Dense(6, input_dim=11, activation='relu'))\n",
    "model.add(Dense(6, activation='relu'))\n",
    "model.add(Dense(1, activation='sigmoid'))\n",
    "model.compile(loss='binary_crossentropy', optimizer='adam', metrics=['accuracy'])"
   ]
  },
  {
   "cell_type": "code",
   "execution_count": 26,
   "metadata": {},
   "outputs": [
    {
     "name": "stdout",
     "output_type": "stream",
     "text": [
      "WARNING:tensorflow:From C:\\Users\\SUPERMAN1\\Anaconda3\\lib\\site-packages\\tensorflow\\python\\ops\\math_ops.py:3066: to_int32 (from tensorflow.python.ops.math_ops) is deprecated and will be removed in a future version.\n",
      "Instructions for updating:\n",
      "Use tf.cast instead.\n",
      "Train on 8000 samples, validate on 2000 samples\n",
      "Epoch 1/50\n",
      "8000/8000 [==============================] - 0s 43us/step - loss: 0.7528 - acc: 0.4835 - val_loss: 0.7480 - val_acc: 0.4945\n",
      "Epoch 2/50\n",
      "8000/8000 [==============================] - 0s 1us/step - loss: 0.7499 - acc: 0.4899 - val_loss: 0.7447 - val_acc: 0.5035\n",
      "Epoch 3/50\n",
      "8000/8000 [==============================] - 0s 1us/step - loss: 0.7465 - acc: 0.4980 - val_loss: 0.7410 - val_acc: 0.5105\n",
      "Epoch 4/50\n",
      "8000/8000 [==============================] - 0s 2us/step - loss: 0.7427 - acc: 0.5046 - val_loss: 0.7376 - val_acc: 0.5165\n",
      "Epoch 5/50\n",
      "8000/8000 [==============================] - 0s 1us/step - loss: 0.7391 - acc: 0.5113 - val_loss: 0.7341 - val_acc: 0.5215\n",
      "Epoch 6/50\n",
      "8000/8000 [==============================] - 0s 2us/step - loss: 0.7356 - acc: 0.5161 - val_loss: 0.7307 - val_acc: 0.5275\n",
      "Epoch 7/50\n",
      "8000/8000 [==============================] - 0s 2us/step - loss: 0.7320 - acc: 0.5219 - val_loss: 0.7273 - val_acc: 0.5330\n",
      "Epoch 8/50\n",
      "8000/8000 [==============================] - 0s 2us/step - loss: 0.7284 - acc: 0.5274 - val_loss: 0.7239 - val_acc: 0.5450\n",
      "Epoch 9/50\n",
      "8000/8000 [==============================] - 0s 1us/step - loss: 0.7249 - acc: 0.5324 - val_loss: 0.7206 - val_acc: 0.5560\n",
      "Epoch 10/50\n",
      "8000/8000 [==============================] - 0s 1us/step - loss: 0.7215 - acc: 0.5372 - val_loss: 0.7173 - val_acc: 0.5585\n",
      "Epoch 11/50\n",
      "8000/8000 [==============================] - 0s 1us/step - loss: 0.7180 - acc: 0.5447 - val_loss: 0.7140 - val_acc: 0.5635\n",
      "Epoch 12/50\n",
      "8000/8000 [==============================] - 0s 1us/step - loss: 0.7147 - acc: 0.5502 - val_loss: 0.7108 - val_acc: 0.5715\n",
      "Epoch 13/50\n",
      "8000/8000 [==============================] - 0s 2us/step - loss: 0.7113 - acc: 0.5554 - val_loss: 0.7077 - val_acc: 0.5790\n",
      "Epoch 14/50\n",
      "8000/8000 [==============================] - 0s 1us/step - loss: 0.7081 - acc: 0.5619 - val_loss: 0.7046 - val_acc: 0.5835\n",
      "Epoch 15/50\n",
      "8000/8000 [==============================] - 0s 1us/step - loss: 0.7049 - acc: 0.5679 - val_loss: 0.7016 - val_acc: 0.5900\n",
      "Epoch 16/50\n",
      "8000/8000 [==============================] - 0s 2us/step - loss: 0.7017 - acc: 0.5719 - val_loss: 0.6985 - val_acc: 0.5930\n",
      "Epoch 17/50\n",
      "8000/8000 [==============================] - 0s 2us/step - loss: 0.6986 - acc: 0.5784 - val_loss: 0.6956 - val_acc: 0.5960\n",
      "Epoch 18/50\n",
      "8000/8000 [==============================] - 0s 2us/step - loss: 0.6956 - acc: 0.5841 - val_loss: 0.6927 - val_acc: 0.6015\n",
      "Epoch 19/50\n",
      "8000/8000 [==============================] - 0s 1us/step - loss: 0.6926 - acc: 0.5896 - val_loss: 0.6899 - val_acc: 0.6070\n",
      "Epoch 20/50\n",
      "8000/8000 [==============================] - 0s 2us/step - loss: 0.6897 - acc: 0.5945 - val_loss: 0.6871 - val_acc: 0.6095\n",
      "Epoch 21/50\n",
      "8000/8000 [==============================] - 0s 1us/step - loss: 0.6868 - acc: 0.5982 - val_loss: 0.6844 - val_acc: 0.6110\n",
      "Epoch 22/50\n",
      "8000/8000 [==============================] - 0s 2us/step - loss: 0.6840 - acc: 0.6037 - val_loss: 0.6817 - val_acc: 0.6160\n",
      "Epoch 23/50\n",
      "8000/8000 [==============================] - 0s 2us/step - loss: 0.6812 - acc: 0.6097 - val_loss: 0.6791 - val_acc: 0.6190\n",
      "Epoch 24/50\n",
      "8000/8000 [==============================] - 0s 1us/step - loss: 0.6785 - acc: 0.6135 - val_loss: 0.6765 - val_acc: 0.6200\n",
      "Epoch 25/50\n",
      "8000/8000 [==============================] - 0s 2us/step - loss: 0.6758 - acc: 0.6190 - val_loss: 0.6740 - val_acc: 0.6265\n",
      "Epoch 26/50\n",
      "8000/8000 [==============================] - 0s 1us/step - loss: 0.6732 - acc: 0.6241 - val_loss: 0.6715 - val_acc: 0.6300\n",
      "Epoch 27/50\n",
      "8000/8000 [==============================] - 0s 2us/step - loss: 0.6706 - acc: 0.6286 - val_loss: 0.6691 - val_acc: 0.6350\n",
      "Epoch 28/50\n",
      "8000/8000 [==============================] - 0s 2us/step - loss: 0.6681 - acc: 0.6350 - val_loss: 0.6667 - val_acc: 0.6390\n",
      "Epoch 29/50\n",
      "8000/8000 [==============================] - 0s 1us/step - loss: 0.6656 - acc: 0.6396 - val_loss: 0.6643 - val_acc: 0.6430\n",
      "Epoch 30/50\n",
      "8000/8000 [==============================] - 0s 2us/step - loss: 0.6632 - acc: 0.6445 - val_loss: 0.6620 - val_acc: 0.6480\n",
      "Epoch 31/50\n",
      "8000/8000 [==============================] - 0s 2us/step - loss: 0.6608 - acc: 0.6490 - val_loss: 0.6597 - val_acc: 0.6505\n",
      "Epoch 32/50\n",
      "8000/8000 [==============================] - 0s 1us/step - loss: 0.6584 - acc: 0.6531 - val_loss: 0.6575 - val_acc: 0.6545\n",
      "Epoch 33/50\n",
      "8000/8000 [==============================] - 0s 2us/step - loss: 0.6561 - acc: 0.6565 - val_loss: 0.6553 - val_acc: 0.6565\n",
      "Epoch 34/50\n",
      "8000/8000 [==============================] - 0s 2us/step - loss: 0.6539 - acc: 0.6607 - val_loss: 0.6531 - val_acc: 0.6620\n",
      "Epoch 35/50\n",
      "8000/8000 [==============================] - 0s 1us/step - loss: 0.6516 - acc: 0.6635 - val_loss: 0.6510 - val_acc: 0.6720\n",
      "Epoch 36/50\n",
      "8000/8000 [==============================] - 0s 1us/step - loss: 0.6494 - acc: 0.6661 - val_loss: 0.6489 - val_acc: 0.6765\n",
      "Epoch 37/50\n",
      "8000/8000 [==============================] - 0s 2us/step - loss: 0.6473 - acc: 0.6693 - val_loss: 0.6468 - val_acc: 0.6785\n",
      "Epoch 38/50\n",
      "8000/8000 [==============================] - 0s 1us/step - loss: 0.6452 - acc: 0.6715 - val_loss: 0.6448 - val_acc: 0.6810\n",
      "Epoch 39/50\n",
      "8000/8000 [==============================] - 0s 2us/step - loss: 0.6431 - acc: 0.6756 - val_loss: 0.6428 - val_acc: 0.6835\n",
      "Epoch 40/50\n",
      "8000/8000 [==============================] - 0s 2us/step - loss: 0.6411 - acc: 0.6789 - val_loss: 0.6408 - val_acc: 0.6855\n",
      "Epoch 41/50\n",
      "8000/8000 [==============================] - 0s 1us/step - loss: 0.6390 - acc: 0.6814 - val_loss: 0.6389 - val_acc: 0.6890\n",
      "Epoch 42/50\n",
      "8000/8000 [==============================] - 0s 2us/step - loss: 0.6371 - acc: 0.6856 - val_loss: 0.6370 - val_acc: 0.6930\n",
      "Epoch 43/50\n",
      "8000/8000 [==============================] - 0s 1us/step - loss: 0.6351 - acc: 0.6901 - val_loss: 0.6351 - val_acc: 0.6965\n",
      "Epoch 44/50\n",
      "8000/8000 [==============================] - 0s 1us/step - loss: 0.6332 - acc: 0.6941 - val_loss: 0.6332 - val_acc: 0.7030\n",
      "Epoch 45/50\n",
      "8000/8000 [==============================] - 0s 2us/step - loss: 0.6313 - acc: 0.6980 - val_loss: 0.6313 - val_acc: 0.7050\n",
      "Epoch 46/50\n",
      "8000/8000 [==============================] - 0s 1us/step - loss: 0.6294 - acc: 0.7014 - val_loss: 0.6295 - val_acc: 0.7075\n",
      "Epoch 47/50\n",
      "8000/8000 [==============================] - 0s 2us/step - loss: 0.6276 - acc: 0.7053 - val_loss: 0.6277 - val_acc: 0.7085\n",
      "Epoch 48/50\n",
      "8000/8000 [==============================] - 0s 2us/step - loss: 0.6258 - acc: 0.7082 - val_loss: 0.6260 - val_acc: 0.7130\n",
      "Epoch 49/50\n",
      "8000/8000 [==============================] - 0s 1us/step - loss: 0.6240 - acc: 0.7111 - val_loss: 0.6242 - val_acc: 0.7155\n",
      "Epoch 50/50\n",
      "8000/8000 [==============================] - 0s 1us/step - loss: 0.6223 - acc: 0.7134 - val_loss: 0.6225 - val_acc: 0.7170\n"
     ]
    },
    {
     "data": {
      "text/plain": [
       "<keras.callbacks.History at 0x1b834d3518>"
      ]
     },
     "execution_count": 26,
     "metadata": {},
     "output_type": "execute_result"
    }
   ],
   "source": [
    "model.fit(X_train_Scale, y_train, \n",
    "          validation_data=(X_test_Scale, y_test), \n",
    "          epochs=50,\n",
    "          batch_size=X_train_Scale.shape[0])"
   ]
  },
  {
   "cell_type": "code",
   "execution_count": 27,
   "metadata": {},
   "outputs": [],
   "source": [
    "y_predict = model.predict(X_test_Scale)"
   ]
  },
  {
   "cell_type": "code",
   "execution_count": 28,
   "metadata": {},
   "outputs": [],
   "source": [
    "y_predict = (y_predict>0.5)"
   ]
  },
  {
   "cell_type": "code",
   "execution_count": 29,
   "metadata": {},
   "outputs": [],
   "source": [
    "cm = confusion_matrix(y_test,y_predict)"
   ]
  },
  {
   "cell_type": "code",
   "execution_count": 30,
   "metadata": {},
   "outputs": [
    {
     "data": {
      "text/plain": [
       "array([[1384,  205],\n",
       "       [ 361,   50]], dtype=int64)"
      ]
     },
     "execution_count": 30,
     "metadata": {},
     "output_type": "execute_result"
    }
   ],
   "source": [
    "cm"
   ]
  },
  {
   "cell_type": "code",
   "execution_count": 31,
   "metadata": {},
   "outputs": [
    {
     "data": {
      "text/plain": [
       "0.717"
      ]
     },
     "execution_count": 31,
     "metadata": {},
     "output_type": "execute_result"
    }
   ],
   "source": [
    "metrics.accuracy_score(y_test,y_predict)"
   ]
  },
  {
   "cell_type": "code",
   "execution_count": 32,
   "metadata": {},
   "outputs": [
    {
     "name": "stdout",
     "output_type": "stream",
     "text": [
      "              precision    recall  f1-score   support\n",
      "\n",
      "           0       0.79      0.87      0.83      1589\n",
      "           1       0.20      0.12      0.15       411\n",
      "\n",
      "    accuracy                           0.72      2000\n",
      "   macro avg       0.49      0.50      0.49      2000\n",
      "weighted avg       0.67      0.72      0.69      2000\n",
      "\n"
     ]
    }
   ],
   "source": [
    "cr=metrics.classification_report(y_test,y_predict)\n",
    "print(cr)"
   ]
  }
 ],
 "metadata": {
  "kernelspec": {
   "display_name": "Python 3",
   "language": "python",
   "name": "python3"
  },
  "language_info": {
   "codemirror_mode": {
    "name": "ipython",
    "version": 3
   },
   "file_extension": ".py",
   "mimetype": "text/x-python",
   "name": "python",
   "nbconvert_exporter": "python",
   "pygments_lexer": "ipython3",
   "version": "3.6.5"
  }
 },
 "nbformat": 4,
 "nbformat_minor": 2
}
