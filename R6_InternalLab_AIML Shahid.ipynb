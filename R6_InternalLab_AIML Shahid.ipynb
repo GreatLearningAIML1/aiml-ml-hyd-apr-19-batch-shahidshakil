{
 "cells": [
  {
   "cell_type": "markdown",
   "metadata": {
    "colab_type": "text",
    "id": "sb7Epo0VOB58"
   },
   "source": [
    "### Load tensorflow"
   ]
  },
  {
   "cell_type": "code",
   "execution_count": 2,
   "metadata": {
    "colab": {},
    "colab_type": "code",
    "id": "fHpCNRv1OB5-"
   },
   "outputs": [
    {
     "name": "stderr",
     "output_type": "stream",
     "text": [
      "C:\\Users\\SUPERMAN1\\Anaconda3\\lib\\site-packages\\tensorflow\\python\\framework\\dtypes.py:526: FutureWarning: Passing (type, 1) or '1type' as a synonym of type is deprecated; in a future version of numpy, it will be understood as (type, (1,)) / '(1,)type'.\n",
      "  _np_qint8 = np.dtype([(\"qint8\", np.int8, 1)])\n",
      "C:\\Users\\SUPERMAN1\\Anaconda3\\lib\\site-packages\\tensorflow\\python\\framework\\dtypes.py:527: FutureWarning: Passing (type, 1) or '1type' as a synonym of type is deprecated; in a future version of numpy, it will be understood as (type, (1,)) / '(1,)type'.\n",
      "  _np_quint8 = np.dtype([(\"quint8\", np.uint8, 1)])\n",
      "C:\\Users\\SUPERMAN1\\Anaconda3\\lib\\site-packages\\tensorflow\\python\\framework\\dtypes.py:528: FutureWarning: Passing (type, 1) or '1type' as a synonym of type is deprecated; in a future version of numpy, it will be understood as (type, (1,)) / '(1,)type'.\n",
      "  _np_qint16 = np.dtype([(\"qint16\", np.int16, 1)])\n",
      "C:\\Users\\SUPERMAN1\\Anaconda3\\lib\\site-packages\\tensorflow\\python\\framework\\dtypes.py:529: FutureWarning: Passing (type, 1) or '1type' as a synonym of type is deprecated; in a future version of numpy, it will be understood as (type, (1,)) / '(1,)type'.\n",
      "  _np_quint16 = np.dtype([(\"quint16\", np.uint16, 1)])\n",
      "C:\\Users\\SUPERMAN1\\Anaconda3\\lib\\site-packages\\tensorflow\\python\\framework\\dtypes.py:530: FutureWarning: Passing (type, 1) or '1type' as a synonym of type is deprecated; in a future version of numpy, it will be understood as (type, (1,)) / '(1,)type'.\n",
      "  _np_qint32 = np.dtype([(\"qint32\", np.int32, 1)])\n",
      "C:\\Users\\SUPERMAN1\\Anaconda3\\lib\\site-packages\\tensorflow\\python\\framework\\dtypes.py:535: FutureWarning: Passing (type, 1) or '1type' as a synonym of type is deprecated; in a future version of numpy, it will be understood as (type, (1,)) / '(1,)type'.\n",
      "  np_resource = np.dtype([(\"resource\", np.ubyte, 1)])\n",
      "C:\\Users\\SUPERMAN1\\Anaconda3\\lib\\site-packages\\h5py\\__init__.py:36: FutureWarning: Conversion of the second argument of issubdtype from `float` to `np.floating` is deprecated. In future, it will be treated as `np.float64 == np.dtype(float).type`.\n",
      "  from ._conv import register_converters as _register_converters\n"
     ]
    }
   ],
   "source": [
    "import tensorflow as tf"
   ]
  },
  {
   "cell_type": "code",
   "execution_count": 170,
   "metadata": {},
   "outputs": [],
   "source": [
    "import numpy as np "
   ]
  },
  {
   "cell_type": "markdown",
   "metadata": {},
   "source": [
    "### Enable Eager Execution if you are using tensorflow 1.x"
   ]
  },
  {
   "cell_type": "code",
   "execution_count": 171,
   "metadata": {
    "colab": {},
    "colab_type": "code",
    "id": "tnSsH8sNOB6F",
    "slideshow": {
     "slide_type": "fragment"
    }
   },
   "outputs": [],
   "source": [
    "tf.enable_eager_execution()"
   ]
  },
  {
   "cell_type": "markdown",
   "metadata": {
    "colab_type": "text",
    "id": "DxJDmJqqOB6K",
    "slideshow": {
     "slide_type": "slide"
    }
   },
   "source": [
    "### Collect Data"
   ]
  },
  {
   "cell_type": "code",
   "execution_count": 172,
   "metadata": {
    "colab": {},
    "colab_type": "code",
    "id": "FhllFLyKOB6N"
   },
   "outputs": [],
   "source": [
    "import pandas as pd"
   ]
  },
  {
   "cell_type": "code",
   "execution_count": 173,
   "metadata": {
    "colab": {},
    "colab_type": "code",
    "id": "B4yQKMiJOB6R"
   },
   "outputs": [],
   "source": [
    "data = pd.read_csv('prices.csv')"
   ]
  },
  {
   "cell_type": "markdown",
   "metadata": {
    "colab_type": "text",
    "id": "fgkX6SEqOB6W"
   },
   "source": [
    "### Check all columns in the dataset"
   ]
  },
  {
   "cell_type": "code",
   "execution_count": 174,
   "metadata": {
    "colab": {},
    "colab_type": "code",
    "id": "7K8pWsNQOB6X"
   },
   "outputs": [
    {
     "name": "stdout",
     "output_type": "stream",
     "text": [
      "Index(['date', 'symbol', 'open', 'close', 'low', 'high', 'volume'], dtype='object')\n"
     ]
    }
   ],
   "source": [
    "cols = data.columns\n",
    "print(cols)"
   ]
  },
  {
   "cell_type": "markdown",
   "metadata": {
    "colab_type": "text",
    "id": "7dU6X7MpOB6c"
   },
   "source": [
    "### Drop columns `date` and  `symbol`"
   ]
  },
  {
   "cell_type": "code",
   "execution_count": 175,
   "metadata": {
    "colab": {},
    "colab_type": "code",
    "id": "lh_6spSKOB6e"
   },
   "outputs": [],
   "source": [
    "data = data.drop([\"date\", \"symbol\"], axis=1)"
   ]
  },
  {
   "cell_type": "code",
   "execution_count": 176,
   "metadata": {
    "colab": {},
    "colab_type": "code",
    "id": "xlwbUgTwOB6i",
    "outputId": "56bad82a-f271-415a-e0d6-cbe1c4290743"
   },
   "outputs": [
    {
     "data": {
      "text/html": [
       "<div>\n",
       "<style scoped>\n",
       "    .dataframe tbody tr th:only-of-type {\n",
       "        vertical-align: middle;\n",
       "    }\n",
       "\n",
       "    .dataframe tbody tr th {\n",
       "        vertical-align: top;\n",
       "    }\n",
       "\n",
       "    .dataframe thead th {\n",
       "        text-align: right;\n",
       "    }\n",
       "</style>\n",
       "<table border=\"1\" class=\"dataframe\">\n",
       "  <thead>\n",
       "    <tr style=\"text-align: right;\">\n",
       "      <th></th>\n",
       "      <th>open</th>\n",
       "      <th>close</th>\n",
       "      <th>low</th>\n",
       "      <th>high</th>\n",
       "      <th>volume</th>\n",
       "    </tr>\n",
       "  </thead>\n",
       "  <tbody>\n",
       "    <tr>\n",
       "      <td>0</td>\n",
       "      <td>123.430000</td>\n",
       "      <td>125.839996</td>\n",
       "      <td>122.309998</td>\n",
       "      <td>126.250000</td>\n",
       "      <td>2163600.0</td>\n",
       "    </tr>\n",
       "    <tr>\n",
       "      <td>1</td>\n",
       "      <td>125.239998</td>\n",
       "      <td>119.980003</td>\n",
       "      <td>119.940002</td>\n",
       "      <td>125.540001</td>\n",
       "      <td>2386400.0</td>\n",
       "    </tr>\n",
       "    <tr>\n",
       "      <td>2</td>\n",
       "      <td>116.379997</td>\n",
       "      <td>114.949997</td>\n",
       "      <td>114.930000</td>\n",
       "      <td>119.739998</td>\n",
       "      <td>2489500.0</td>\n",
       "    </tr>\n",
       "    <tr>\n",
       "      <td>3</td>\n",
       "      <td>115.480003</td>\n",
       "      <td>116.620003</td>\n",
       "      <td>113.500000</td>\n",
       "      <td>117.440002</td>\n",
       "      <td>2006300.0</td>\n",
       "    </tr>\n",
       "    <tr>\n",
       "      <td>4</td>\n",
       "      <td>117.010002</td>\n",
       "      <td>114.970001</td>\n",
       "      <td>114.089996</td>\n",
       "      <td>117.330002</td>\n",
       "      <td>1408600.0</td>\n",
       "    </tr>\n",
       "  </tbody>\n",
       "</table>\n",
       "</div>"
      ],
      "text/plain": [
       "         open       close         low        high     volume\n",
       "0  123.430000  125.839996  122.309998  126.250000  2163600.0\n",
       "1  125.239998  119.980003  119.940002  125.540001  2386400.0\n",
       "2  116.379997  114.949997  114.930000  119.739998  2489500.0\n",
       "3  115.480003  116.620003  113.500000  117.440002  2006300.0\n",
       "4  117.010002  114.970001  114.089996  117.330002  1408600.0"
      ]
     },
     "execution_count": 176,
     "metadata": {},
     "output_type": "execute_result"
    }
   ],
   "source": [
    "data.head()"
   ]
  },
  {
   "cell_type": "markdown",
   "metadata": {
    "colab_type": "text",
    "id": "3DBv3WWYOB6q"
   },
   "source": [
    "### Consider only first 1000 rows in the dataset for building feature set and target set"
   ]
  },
  {
   "cell_type": "code",
   "execution_count": 177,
   "metadata": {
    "colab": {},
    "colab_type": "code",
    "id": "Z_hG9rGBOB6s"
   },
   "outputs": [],
   "source": [
    "data = data.head(1000)"
   ]
  },
  {
   "cell_type": "code",
   "execution_count": 178,
   "metadata": {},
   "outputs": [
    {
     "data": {
      "text/plain": [
       "(1000, 5)"
      ]
     },
     "execution_count": 178,
     "metadata": {},
     "output_type": "execute_result"
    }
   ],
   "source": [
    "data.shape"
   ]
  },
  {
   "cell_type": "code",
   "execution_count": 179,
   "metadata": {},
   "outputs": [
    {
     "data": {
      "text/plain": [
       "open      float64\n",
       "close     float64\n",
       "low       float64\n",
       "high      float64\n",
       "volume    float64\n",
       "dtype: object"
      ]
     },
     "execution_count": 179,
     "metadata": {},
     "output_type": "execute_result"
    }
   ],
   "source": [
    "data.dtypes"
   ]
  },
  {
   "cell_type": "markdown",
   "metadata": {},
   "source": [
    "### Convert Float64 to Float32"
   ]
  },
  {
   "cell_type": "code",
   "execution_count": 180,
   "metadata": {},
   "outputs": [],
   "source": [
    "data['open'] = np.float32(data['open'])\n",
    "data['close'] = np.float32(data['close'])\n",
    "data['low'] = np.float32(data['low'])\n",
    "data['high'] = np.float32(data['high'])\n",
    "data['volume'] = np.float32(data['volume'])"
   ]
  },
  {
   "cell_type": "code",
   "execution_count": 181,
   "metadata": {},
   "outputs": [
    {
     "data": {
      "text/plain": [
       "open      float32\n",
       "close     float32\n",
       "low       float32\n",
       "high      float32\n",
       "volume    float32\n",
       "dtype: object"
      ]
     },
     "execution_count": 181,
     "metadata": {},
     "output_type": "execute_result"
    }
   ],
   "source": [
    "data.dtypes"
   ]
  },
  {
   "cell_type": "code",
   "execution_count": 182,
   "metadata": {},
   "outputs": [],
   "source": [
    "x = data.drop(columns = \"close\",axis=1)\n",
    "y=data['close']"
   ]
  },
  {
   "cell_type": "markdown",
   "metadata": {
    "colab_type": "text",
    "id": "M3UaApqYOB6x"
   },
   "source": [
    "### Divide the data into train and test sets"
   ]
  },
  {
   "cell_type": "code",
   "execution_count": 183,
   "metadata": {
    "colab": {},
    "colab_type": "code",
    "id": "2EkKAy7fOB6y"
   },
   "outputs": [],
   "source": [
    "# from sklearn.model_selection import train_test_split\n",
    "# x_train,x_test,y_train,y_test=train_test_split(x,y,train_size=0.7,test_size=0.3,random_state=123)"
   ]
  },
  {
   "cell_type": "markdown",
   "metadata": {},
   "source": [
    "### Normalize Train and Test Data "
   ]
  },
  {
   "cell_type": "code",
   "execution_count": 184,
   "metadata": {},
   "outputs": [],
   "source": [
    "from sklearn.preprocessing import Normalizer\n",
    "transformer = Normalizer()\n",
    "x= transformer.fit_transform(x)\n",
    "y= np.array(y)\n",
    "\n",
    "\n",
    "train_x, test_x,train_y,test_y = train_test_split(x, y, test_size=.3, random_state=7)"
   ]
  },
  {
   "cell_type": "markdown",
   "metadata": {
    "colab_type": "text",
    "id": "v6vE4eYCOB62",
    "slideshow": {
     "slide_type": "slide"
    }
   },
   "source": [
    "## Building the graph in tensorflow"
   ]
  },
  {
   "cell_type": "markdown",
   "metadata": {
    "colab_type": "text",
    "id": "297_qja4OB7A",
    "slideshow": {
     "slide_type": "slide"
    }
   },
   "source": [
    "2.Define Weights and Bias"
   ]
  },
  {
   "cell_type": "code",
   "execution_count": 185,
   "metadata": {
    "colab": {},
    "colab_type": "code",
    "id": "L205qPeQOB7B"
   },
   "outputs": [],
   "source": [
    "w = tf.zeros(shape=(4,1))\n",
    "b = tf.zeros(shape=(1))"
   ]
  },
  {
   "cell_type": "markdown",
   "metadata": {
    "colab_type": "text",
    "id": "HgtWA-UIOB7F",
    "slideshow": {
     "slide_type": "slide"
    }
   },
   "source": [
    "3.Prediction"
   ]
  },
  {
   "cell_type": "code",
   "execution_count": 186,
   "metadata": {
    "colab": {},
    "colab_type": "code",
    "id": "JveGlx25OB7H"
   },
   "outputs": [],
   "source": [
    "def prediction(x, w, b):\n",
    "    \n",
    "    xw_matmul = tf.matmul(x, w)\n",
    "    y = tf.add(xw_matmul, b)\n",
    "    \n",
    "    return y"
   ]
  },
  {
   "cell_type": "markdown",
   "metadata": {
    "colab_type": "text",
    "id": "TL1hIwf_OB7M",
    "slideshow": {
     "slide_type": "slide"
    }
   },
   "source": [
    "4.Loss (Cost) Function [Mean square error]"
   ]
  },
  {
   "cell_type": "code",
   "execution_count": 187,
   "metadata": {
    "colab": {},
    "colab_type": "code",
    "id": "8VSWPiGXOB7P"
   },
   "outputs": [],
   "source": [
    "def loss(y_actual, y_predicted):\n",
    "    \n",
    "    diff = y_actual - y_predicted\n",
    "    sqr = tf.square(diff)\n",
    "    avg = tf.reduce_mean(sqr)\n",
    "    \n",
    "    return avg"
   ]
  },
  {
   "cell_type": "markdown",
   "metadata": {
    "colab_type": "text",
    "id": "jzG85FUlOB7U",
    "slideshow": {
     "slide_type": "slide"
    }
   },
   "source": [
    "5.GradientDescent Optimizer to minimize Loss [GradientDescentOptimizer]"
   ]
  },
  {
   "cell_type": "code",
   "execution_count": 188,
   "metadata": {
    "colab": {},
    "colab_type": "code",
    "id": "cj802w-3OB7X"
   },
   "outputs": [],
   "source": [
    "def train(x, y_train, w, b, learning_rate=0.01):\n",
    "    \n",
    "    #Record mathematical operations on 'tape' to calculate loss\n",
    "    with tf.GradientTape() as t:\n",
    "        \n",
    "        t.watch([w,b])\n",
    "        \n",
    "        current_prediction = prediction(x, w, b)\n",
    "        current_loss = loss(y_train, current_prediction)\n",
    "    \n",
    "    #Calculate Gradients for Loss with respect to Weights and Bias\n",
    "    dw, db = t.gradient(current_loss,[w, b])\n",
    "    \n",
    "    #Update Weights and Bias\n",
    "    w = w - learning_rate*dw\n",
    "    b = b - learning_rate*db\n",
    "    \n",
    "    return w, b"
   ]
  },
  {
   "cell_type": "markdown",
   "metadata": {
    "colab_type": "text",
    "id": "xSypb_u8OB7e",
    "slideshow": {
     "slide_type": "slide"
    }
   },
   "source": [
    "## Execute the Graph for 100 epochs and observe the loss"
   ]
  },
  {
   "cell_type": "code",
   "execution_count": 189,
   "metadata": {
    "colab": {},
    "colab_type": "code",
    "id": "DVvgj7eQOB7f"
   },
   "outputs": [
    {
     "name": "stdout",
     "output_type": "stream",
     "text": [
      "Current Loss on iteration 0 8002.651\n",
      "Current Loss on iteration 1 7663.5674\n",
      "Current Loss on iteration 2 7351.068\n",
      "Current Loss on iteration 3 7063.063\n",
      "Current Loss on iteration 4 6797.648\n",
      "Current Loss on iteration 5 6553.0317\n",
      "Current Loss on iteration 6 6327.598\n",
      "Current Loss on iteration 7 6119.837\n",
      "Current Loss on iteration 8 5928.3623\n",
      "Current Loss on iteration 9 5751.9053\n",
      "Current Loss on iteration 10 5589.2764\n",
      "Current Loss on iteration 11 5439.4004\n",
      "Current Loss on iteration 12 5301.2764\n",
      "Current Loss on iteration 13 5173.976\n",
      "Current Loss on iteration 14 5056.6597\n",
      "Current Loss on iteration 15 4948.5464\n",
      "Current Loss on iteration 16 4848.9014\n",
      "Current Loss on iteration 17 4757.0674\n",
      "Current Loss on iteration 18 4672.435\n",
      "Current Loss on iteration 19 4594.4414\n",
      "Current Loss on iteration 20 4522.5615\n",
      "Current Loss on iteration 21 4456.3125\n",
      "Current Loss on iteration 22 4395.264\n",
      "Current Loss on iteration 23 4338.998\n",
      "Current Loss on iteration 24 4287.1445\n",
      "Current Loss on iteration 25 4239.3525\n",
      "Current Loss on iteration 26 4195.312\n",
      "Current Loss on iteration 27 4154.721\n",
      "Current Loss on iteration 28 4117.3145\n",
      "Current Loss on iteration 29 4082.8386\n",
      "Current Loss on iteration 30 4051.069\n",
      "Current Loss on iteration 31 4021.7883\n",
      "Current Loss on iteration 32 3994.8042\n",
      "Current Loss on iteration 33 3969.9346\n",
      "Current Loss on iteration 34 3947.0127\n",
      "Current Loss on iteration 35 3925.89\n",
      "Current Loss on iteration 36 3906.423\n",
      "Current Loss on iteration 37 3888.4844\n",
      "Current Loss on iteration 38 3871.9482\n",
      "Current Loss on iteration 39 3856.713\n",
      "Current Loss on iteration 40 3842.6687\n",
      "Current Loss on iteration 41 3829.7268\n",
      "Current Loss on iteration 42 3817.7986\n",
      "Current Loss on iteration 43 3806.8076\n",
      "Current Loss on iteration 44 3796.6753\n",
      "Current Loss on iteration 45 3787.3428\n",
      "Current Loss on iteration 46 3778.7358\n",
      "Current Loss on iteration 47 3770.807\n",
      "Current Loss on iteration 48 3763.4978\n",
      "Current Loss on iteration 49 3756.763\n",
      "Current Loss on iteration 50 3750.5557\n",
      "Current Loss on iteration 51 3744.8318\n",
      "Current Loss on iteration 52 3739.5645\n",
      "Current Loss on iteration 53 3734.7043\n",
      "Current Loss on iteration 54 3730.2256\n",
      "Current Loss on iteration 55 3726.0999\n",
      "Current Loss on iteration 56 3722.2964\n",
      "Current Loss on iteration 57 3718.7917\n",
      "Current Loss on iteration 58 3715.5593\n",
      "Current Loss on iteration 59 3712.5835\n",
      "Current Loss on iteration 60 3709.8408\n",
      "Current Loss on iteration 61 3707.3125\n",
      "Current Loss on iteration 62 3704.9814\n",
      "Current Loss on iteration 63 3702.8342\n",
      "Current Loss on iteration 64 3700.856\n",
      "Current Loss on iteration 65 3699.0322\n",
      "Current Loss on iteration 66 3697.3484\n",
      "Current Loss on iteration 67 3695.8008\n",
      "Current Loss on iteration 68 3694.3757\n",
      "Current Loss on iteration 69 3693.0579\n",
      "Current Loss on iteration 70 3691.846\n",
      "Current Loss on iteration 71 3690.7253\n",
      "Current Loss on iteration 72 3689.6973\n",
      "Current Loss on iteration 73 3688.75\n",
      "Current Loss on iteration 74 3687.8718\n",
      "Current Loss on iteration 75 3687.0671\n",
      "Current Loss on iteration 76 3686.3252\n",
      "Current Loss on iteration 77 3685.6409\n",
      "Current Loss on iteration 78 3685.0066\n",
      "Current Loss on iteration 79 3684.4272\n",
      "Current Loss on iteration 80 3683.8896\n",
      "Current Loss on iteration 81 3683.3992\n",
      "Current Loss on iteration 82 3682.9434\n",
      "Current Loss on iteration 83 3682.5212\n",
      "Current Loss on iteration 84 3682.1353\n",
      "Current Loss on iteration 85 3681.78\n",
      "Current Loss on iteration 86 3681.4495\n",
      "Current Loss on iteration 87 3681.1482\n",
      "Current Loss on iteration 88 3680.8687\n",
      "Current Loss on iteration 89 3680.6118\n",
      "Current Loss on iteration 90 3680.3762\n",
      "Current Loss on iteration 91 3680.1558\n",
      "Current Loss on iteration 92 3679.955\n",
      "Current Loss on iteration 93 3679.772\n",
      "Current Loss on iteration 94 3679.599\n",
      "Current Loss on iteration 95 3679.44\n",
      "Current Loss on iteration 96 3679.2969\n",
      "Current Loss on iteration 97 3679.1628\n",
      "Current Loss on iteration 98 3679.0405\n",
      "Current Loss on iteration 99 3678.9253\n"
     ]
    }
   ],
   "source": [
    "for i in range(100):\n",
    "    \n",
    "    w, b = train(train_x, train_y, w, b, learning_rate=0.01)\n",
    "    print('Current Loss on iteration', i, \n",
    "          loss(train_y, prediction(train_x, w, b)).numpy())"
   ]
  },
  {
   "cell_type": "code",
   "execution_count": null,
   "metadata": {
    "colab": {},
    "colab_type": "code",
    "id": "9smwOW-1OB7k"
   },
   "outputs": [],
   "source": []
  },
  {
   "cell_type": "code",
   "execution_count": null,
   "metadata": {
    "colab": {},
    "colab_type": "code",
    "id": "9JuLI6bSOB7n"
   },
   "outputs": [],
   "source": []
  },
  {
   "cell_type": "markdown",
   "metadata": {
    "colab_type": "text",
    "id": "DOL2ncA1OB7q"
   },
   "source": [
    "### Get the shapes and values of W and b"
   ]
  },
  {
   "cell_type": "code",
   "execution_count": 190,
   "metadata": {
    "colab": {},
    "colab_type": "code",
    "id": "ZGvtyTeuOB7r"
   },
   "outputs": [
    {
     "data": {
      "text/plain": [
       "TensorShape([Dimension(4), Dimension(1)])"
      ]
     },
     "execution_count": 190,
     "metadata": {},
     "output_type": "execute_result"
    }
   ],
   "source": [
    "w.shape"
   ]
  },
  {
   "cell_type": "code",
   "execution_count": 191,
   "metadata": {
    "colab": {},
    "colab_type": "code",
    "id": "vhDtOv5UOB7x"
   },
   "outputs": [
    {
     "data": {
      "text/plain": [
       "TensorShape([Dimension(1)])"
      ]
     },
     "execution_count": 191,
     "metadata": {},
     "output_type": "execute_result"
    }
   ],
   "source": [
    "b.shape"
   ]
  },
  {
   "cell_type": "markdown",
   "metadata": {
    "colab_type": "text",
    "id": "YJRBuqXhOB7_"
   },
   "source": [
    "### Linear Classification using Keras"
   ]
  },
  {
   "cell_type": "markdown",
   "metadata": {
    "colab_type": "text",
    "id": "8GoNTWXAOB8C",
    "slideshow": {
     "slide_type": "slide"
    }
   },
   "source": [
    "### Building the simple Neural Network in Keras with one neuron in the dense hidden layer.\n",
    "#### Use Mean square error as loss function and sgd as optimizer"
   ]
  },
  {
   "cell_type": "code",
   "execution_count": 192,
   "metadata": {
    "colab": {},
    "colab_type": "code",
    "id": "zpeL5rCTOB8D"
   },
   "outputs": [],
   "source": [
    "model = tf.keras.models.Sequential()\n",
    "model.add(tf.keras.layers.BatchNormalization())\n",
    "model.add(tf.keras.layers.Dense(1,  input_shape=(4,)))"
   ]
  },
  {
   "cell_type": "markdown",
   "metadata": {
    "colab_type": "text",
    "id": "Wt-HYFMEOB8G",
    "slideshow": {
     "slide_type": "slide"
    }
   },
   "source": [
    "### Execute the model"
   ]
  },
  {
   "cell_type": "code",
   "execution_count": 193,
   "metadata": {
    "colab": {},
    "colab_type": "code",
    "id": "66JGJt7GOB8H"
   },
   "outputs": [],
   "source": [
    "#Compile the model - add Loss and Gradient Descent optimizer\n",
    "model.compile(optimizer='sgd', loss='mse')"
   ]
  },
  {
   "cell_type": "code",
   "execution_count": null,
   "metadata": {},
   "outputs": [],
   "source": [
    "train_x, test_x,train_y,test_y = train_test_split(x1, y1, test_size=.3, random_state=7)"
   ]
  },
  {
   "cell_type": "markdown",
   "metadata": {},
   "source": [
    "### Classification using Keras "
   ]
  },
  {
   "cell_type": "code",
   "execution_count": 195,
   "metadata": {},
   "outputs": [
    {
     "name": "stdout",
     "output_type": "stream",
     "text": [
      "Epoch 1/100\n",
      "700/700 [==============================] - 0s 307us/sample - loss: 5247.4612\n",
      "Epoch 2/100\n",
      "700/700 [==============================] - 0s 43us/sample - loss: 5420.1366\n",
      "Epoch 3/100\n",
      "700/700 [==============================] - 0s 49us/sample - loss: 4216.2470\n",
      "Epoch 4/100\n",
      "700/700 [==============================] - 0s 44us/sample - loss: 4605.9146\n",
      "Epoch 5/100\n",
      "700/700 [==============================] - 0s 57us/sample - loss: 4511.6285\n",
      "Epoch 6/100\n",
      "700/700 [==============================] - 0s 50us/sample - loss: 3745.7957\n",
      "Epoch 7/100\n",
      "700/700 [==============================] - 0s 52us/sample - loss: 3984.0476\n",
      "Epoch 8/100\n",
      "700/700 [==============================] - 0s 46us/sample - loss: 4058.1979\n",
      "Epoch 9/100\n",
      "700/700 [==============================] - 0s 46us/sample - loss: 3977.3939\n",
      "Epoch 10/100\n",
      "700/700 [==============================] - 0s 44us/sample - loss: 3774.0420\n",
      "Epoch 11/100\n",
      "700/700 [==============================] - 0s 43us/sample - loss: 4211.9756\n",
      "Epoch 12/100\n",
      "700/700 [==============================] - 0s 53us/sample - loss: 3788.1310\n",
      "Epoch 13/100\n",
      "700/700 [==============================] - 0s 54us/sample - loss: 3795.1411\n",
      "Epoch 14/100\n",
      "700/700 [==============================] - 0s 59us/sample - loss: 3871.8492\n",
      "Epoch 15/100\n",
      "700/700 [==============================] - 0s 43us/sample - loss: 3791.1112\n",
      "Epoch 16/100\n",
      "700/700 [==============================] - 0s 49us/sample - loss: 3727.1872\n",
      "Epoch 17/100\n",
      "700/700 [==============================] - 0s 56us/sample - loss: 3724.6815\n",
      "Epoch 18/100\n",
      "700/700 [==============================] - 0s 63us/sample - loss: 3742.2778\n",
      "Epoch 19/100\n",
      "700/700 [==============================] - 0s 87us/sample - loss: 3712.9953\n",
      "Epoch 20/100\n",
      "700/700 [==============================] - 0s 42us/sample - loss: 3730.8371\n",
      "Epoch 21/100\n",
      "700/700 [==============================] - 0s 52us/sample - loss: 3698.6887\n",
      "Epoch 22/100\n",
      "700/700 [==============================] - 0s 49us/sample - loss: 3729.5488\n",
      "Epoch 23/100\n",
      "700/700 [==============================] - 0s 52us/sample - loss: 3706.8882\n",
      "Epoch 24/100\n",
      "700/700 [==============================] - 0s 44us/sample - loss: 3717.8464\n",
      "Epoch 25/100\n",
      "700/700 [==============================] - 0s 44us/sample - loss: 3723.3886\n",
      "Epoch 26/100\n",
      "700/700 [==============================] - 0s 37us/sample - loss: 3681.8933\n",
      "Epoch 27/100\n",
      "700/700 [==============================] - 0s 43us/sample - loss: 3739.1212\n",
      "Epoch 28/100\n",
      "700/700 [==============================] - 0s 43us/sample - loss: 3702.5157\n",
      "Epoch 29/100\n",
      "700/700 [==============================] - 0s 47us/sample - loss: 3711.2373\n",
      "Epoch 30/100\n",
      "700/700 [==============================] - 0s 53us/sample - loss: 3692.9494\n",
      "Epoch 31/100\n",
      "700/700 [==============================] - 0s 50us/sample - loss: 3693.8513\n",
      "Epoch 32/100\n",
      "700/700 [==============================] - 0s 50us/sample - loss: 3701.7933\n",
      "Epoch 33/100\n",
      "700/700 [==============================] - 0s 49us/sample - loss: 3701.5375\n",
      "Epoch 34/100\n",
      "700/700 [==============================] - 0s 49us/sample - loss: 3696.6477\n",
      "Epoch 35/100\n",
      "700/700 [==============================] - 0s 49us/sample - loss: 3697.3174\n",
      "Epoch 36/100\n",
      "700/700 [==============================] - 0s 47us/sample - loss: 3698.0162\n",
      "Epoch 37/100\n",
      "700/700 [==============================] - 0s 40us/sample - loss: 3690.4646\n",
      "Epoch 38/100\n",
      "700/700 [==============================] - 0s 49us/sample - loss: 3694.2100\n",
      "Epoch 39/100\n",
      "700/700 [==============================] - 0s 50us/sample - loss: 3696.3729\n",
      "Epoch 40/100\n",
      "700/700 [==============================] - 0s 44us/sample - loss: 3685.1409\n",
      "Epoch 41/100\n",
      "700/700 [==============================] - 0s 44us/sample - loss: 3685.3379\n",
      "Epoch 42/100\n",
      "700/700 [==============================] - 0s 52us/sample - loss: 3692.0015\n",
      "Epoch 43/100\n",
      "700/700 [==============================] - 0s 42us/sample - loss: 3691.8909\n",
      "Epoch 44/100\n",
      "700/700 [==============================] - 0s 39us/sample - loss: 3682.2543\n",
      "Epoch 45/100\n",
      "700/700 [==============================] - 0s 46us/sample - loss: 3687.2564\n",
      "Epoch 46/100\n",
      "700/700 [==============================] - 0s 47us/sample - loss: 3681.9386\n",
      "Epoch 47/100\n",
      "700/700 [==============================] - 0s 54us/sample - loss: 3682.3030\n",
      "Epoch 48/100\n",
      "700/700 [==============================] - 0s 52us/sample - loss: 3682.2311\n",
      "Epoch 49/100\n",
      "700/700 [==============================] - 0s 47us/sample - loss: 3681.7936\n",
      "Epoch 50/100\n",
      "700/700 [==============================] - 0s 47us/sample - loss: 3681.6533\n",
      "Epoch 51/100\n",
      "700/700 [==============================] - 0s 53us/sample - loss: 3681.1419\n",
      "Epoch 52/100\n",
      "700/700 [==============================] - 0s 50us/sample - loss: 3679.3974\n",
      "Epoch 53/100\n",
      "700/700 [==============================] - 0s 53us/sample - loss: 3680.7937\n",
      "Epoch 54/100\n",
      "700/700 [==============================] - 0s 53us/sample - loss: 3679.7271\n",
      "Epoch 55/100\n",
      "700/700 [==============================] - 0s 42us/sample - loss: 3680.9822\n",
      "Epoch 56/100\n",
      "700/700 [==============================] - 0s 46us/sample - loss: 3681.5558\n",
      "Epoch 57/100\n",
      "700/700 [==============================] - 0s 46us/sample - loss: 3679.9696\n",
      "Epoch 58/100\n",
      "700/700 [==============================] - 0s 47us/sample - loss: 3678.9392\n",
      "Epoch 59/100\n",
      "700/700 [==============================] - 0s 49us/sample - loss: 3679.1528\n",
      "Epoch 60/100\n",
      "700/700 [==============================] - 0s 46us/sample - loss: 3678.9777\n",
      "Epoch 61/100\n",
      "700/700 [==============================] - 0s 46us/sample - loss: 3679.2097\n",
      "Epoch 62/100\n",
      "700/700 [==============================] - 0s 40us/sample - loss: 3678.2109\n",
      "Epoch 63/100\n",
      "700/700 [==============================] - 0s 57us/sample - loss: 3679.4638\n",
      "Epoch 64/100\n",
      "700/700 [==============================] - 0s 44us/sample - loss: 3679.1162\n",
      "Epoch 65/100\n",
      "700/700 [==============================] - 0s 39us/sample - loss: 3678.7286\n",
      "Epoch 66/100\n",
      "700/700 [==============================] - 0s 43us/sample - loss: 3680.5672\n",
      "Epoch 67/100\n",
      "700/700 [==============================] - 0s 43us/sample - loss: 3679.9175\n",
      "Epoch 68/100\n",
      "700/700 [==============================] - 0s 43us/sample - loss: 3680.3398\n",
      "Epoch 69/100\n",
      "700/700 [==============================] - 0s 42us/sample - loss: 3679.3695\n",
      "Epoch 70/100\n",
      "700/700 [==============================] - 0s 47us/sample - loss: 3679.3149\n",
      "Epoch 71/100\n",
      "700/700 [==============================] - 0s 44us/sample - loss: 3678.8590\n",
      "Epoch 72/100\n",
      "700/700 [==============================] - 0s 50us/sample - loss: 3679.4623\n",
      "Epoch 73/100\n",
      "700/700 [==============================] - 0s 36us/sample - loss: 3681.0671\n",
      "Epoch 74/100\n",
      "700/700 [==============================] - 0s 50us/sample - loss: 3679.7490\n",
      "Epoch 75/100\n",
      "700/700 [==============================] - 0s 49us/sample - loss: 3679.5800\n",
      "Epoch 76/100\n",
      "700/700 [==============================] - 0s 42us/sample - loss: 3680.2921\n",
      "Epoch 77/100\n",
      "700/700 [==============================] - 0s 40us/sample - loss: 3678.7011\n",
      "Epoch 78/100\n",
      "700/700 [==============================] - 0s 49us/sample - loss: 3679.7190\n",
      "Epoch 79/100\n",
      "700/700 [==============================] - 0s 39us/sample - loss: 3679.8562\n",
      "Epoch 80/100\n",
      "700/700 [==============================] - 0s 44us/sample - loss: 3679.0404\n",
      "Epoch 81/100\n",
      "700/700 [==============================] - 0s 40us/sample - loss: 3681.3108\n",
      "Epoch 82/100\n",
      "700/700 [==============================] - 0s 43us/sample - loss: 3678.5281\n",
      "Epoch 83/100\n",
      "700/700 [==============================] - 0s 44us/sample - loss: 3680.2738\n",
      "Epoch 84/100\n",
      "700/700 [==============================] - 0s 46us/sample - loss: 3679.1757\n",
      "Epoch 85/100\n",
      "700/700 [==============================] - 0s 40us/sample - loss: 3678.9215\n",
      "Epoch 86/100\n",
      "700/700 [==============================] - 0s 42us/sample - loss: 3679.6581\n",
      "Epoch 87/100\n",
      "700/700 [==============================] - 0s 52us/sample - loss: 3678.3880\n",
      "Epoch 88/100\n",
      "700/700 [==============================] - 0s 52us/sample - loss: 3678.6495\n",
      "Epoch 89/100\n",
      "700/700 [==============================] - 0s 52us/sample - loss: 3678.0249\n",
      "Epoch 90/100\n",
      "700/700 [==============================] - 0s 44us/sample - loss: 3679.7223\n",
      "Epoch 91/100\n",
      "700/700 [==============================] - 0s 52us/sample - loss: 3679.7084\n",
      "Epoch 92/100\n",
      "700/700 [==============================] - 0s 44us/sample - loss: 3680.2280\n",
      "Epoch 93/100\n"
     ]
    },
    {
     "name": "stdout",
     "output_type": "stream",
     "text": [
      "700/700 [==============================] - 0s 40us/sample - loss: 3678.9661\n",
      "Epoch 94/100\n",
      "700/700 [==============================] - 0s 47us/sample - loss: 3678.6678\n",
      "Epoch 95/100\n",
      "700/700 [==============================] - 0s 44us/sample - loss: 3681.6759\n",
      "Epoch 96/100\n",
      "700/700 [==============================] - 0s 39us/sample - loss: 3678.6400\n",
      "Epoch 97/100\n",
      "700/700 [==============================] - 0s 44us/sample - loss: 3682.6780\n",
      "Epoch 98/100\n",
      "700/700 [==============================] - 0s 44us/sample - loss: 3678.7523\n",
      "Epoch 99/100\n",
      "700/700 [==============================] - 0s 47us/sample - loss: 3678.9947\n",
      "Epoch 100/100\n",
      "700/700 [==============================] - 0s 44us/sample - loss: 3683.1414\n"
     ]
    },
    {
     "data": {
      "text/plain": [
       "<tensorflow.python.keras.callbacks.History at 0xf38a1c7400>"
      ]
     },
     "execution_count": 195,
     "metadata": {},
     "output_type": "execute_result"
    }
   ],
   "source": [
    "model.fit(train_x,train_y, epochs=100)"
   ]
  },
  {
   "cell_type": "code",
   "execution_count": 196,
   "metadata": {},
   "outputs": [
    {
     "name": "stdout",
     "output_type": "stream",
     "text": [
      "_________________________________________________________________\n",
      "Layer (type)                 Output Shape              Param #   \n",
      "=================================================================\n",
      "batch_normalization_v1_4 (Ba multiple                  16        \n",
      "_________________________________________________________________\n",
      "dense_11 (Dense)             multiple                  5         \n",
      "=================================================================\n",
      "Total params: 21\n",
      "Trainable params: 13\n",
      "Non-trainable params: 8\n",
      "_________________________________________________________________\n"
     ]
    }
   ],
   "source": [
    "model.summary()"
   ]
  },
  {
   "cell_type": "markdown",
   "metadata": {},
   "source": [
    "### Load the given Iris data using pandas (Iris.csv)"
   ]
  },
  {
   "cell_type": "code",
   "execution_count": 197,
   "metadata": {},
   "outputs": [],
   "source": [
    "iris_df = pd.read_csv('Iris.csv')"
   ]
  },
  {
   "cell_type": "markdown",
   "metadata": {},
   "source": [
    "### Splitting the data into feature set and target set"
   ]
  },
  {
   "cell_type": "code",
   "execution_count": 198,
   "metadata": {},
   "outputs": [],
   "source": [
    "features = iris_df.drop(columns= ['Species']) \n",
    "\n",
    "\n",
    "target = iris_df[['Species']]"
   ]
  },
  {
   "cell_type": "code",
   "execution_count": 199,
   "metadata": {},
   "outputs": [
    {
     "data": {
      "text/plain": [
       "Id                 int64\n",
       "SepalLengthCm    float64\n",
       "SepalWidthCm     float64\n",
       "PetalLengthCm    float64\n",
       "PetalWidthCm     float64\n",
       "dtype: object"
      ]
     },
     "execution_count": 199,
     "metadata": {},
     "output_type": "execute_result"
    }
   ],
   "source": [
    "features.dtypes"
   ]
  },
  {
   "cell_type": "code",
   "execution_count": 200,
   "metadata": {},
   "outputs": [
    {
     "data": {
      "text/html": [
       "<div>\n",
       "<style scoped>\n",
       "    .dataframe tbody tr th:only-of-type {\n",
       "        vertical-align: middle;\n",
       "    }\n",
       "\n",
       "    .dataframe tbody tr th {\n",
       "        vertical-align: top;\n",
       "    }\n",
       "\n",
       "    .dataframe thead th {\n",
       "        text-align: right;\n",
       "    }\n",
       "</style>\n",
       "<table border=\"1\" class=\"dataframe\">\n",
       "  <thead>\n",
       "    <tr style=\"text-align: right;\">\n",
       "      <th></th>\n",
       "      <th>Id</th>\n",
       "      <th>SepalLengthCm</th>\n",
       "      <th>SepalWidthCm</th>\n",
       "      <th>PetalLengthCm</th>\n",
       "      <th>PetalWidthCm</th>\n",
       "    </tr>\n",
       "  </thead>\n",
       "  <tbody>\n",
       "    <tr>\n",
       "      <td>0</td>\n",
       "      <td>1</td>\n",
       "      <td>5.1</td>\n",
       "      <td>3.5</td>\n",
       "      <td>1.4</td>\n",
       "      <td>0.2</td>\n",
       "    </tr>\n",
       "    <tr>\n",
       "      <td>1</td>\n",
       "      <td>2</td>\n",
       "      <td>4.9</td>\n",
       "      <td>3.0</td>\n",
       "      <td>1.4</td>\n",
       "      <td>0.2</td>\n",
       "    </tr>\n",
       "    <tr>\n",
       "      <td>2</td>\n",
       "      <td>3</td>\n",
       "      <td>4.7</td>\n",
       "      <td>3.2</td>\n",
       "      <td>1.3</td>\n",
       "      <td>0.2</td>\n",
       "    </tr>\n",
       "    <tr>\n",
       "      <td>3</td>\n",
       "      <td>4</td>\n",
       "      <td>4.6</td>\n",
       "      <td>3.1</td>\n",
       "      <td>1.5</td>\n",
       "      <td>0.2</td>\n",
       "    </tr>\n",
       "    <tr>\n",
       "      <td>4</td>\n",
       "      <td>5</td>\n",
       "      <td>5.0</td>\n",
       "      <td>3.6</td>\n",
       "      <td>1.4</td>\n",
       "      <td>0.2</td>\n",
       "    </tr>\n",
       "  </tbody>\n",
       "</table>\n",
       "</div>"
      ],
      "text/plain": [
       "   Id  SepalLengthCm  SepalWidthCm  PetalLengthCm  PetalWidthCm\n",
       "0   1            5.1           3.5            1.4           0.2\n",
       "1   2            4.9           3.0            1.4           0.2\n",
       "2   3            4.7           3.2            1.3           0.2\n",
       "3   4            4.6           3.1            1.5           0.2\n",
       "4   5            5.0           3.6            1.4           0.2"
      ]
     },
     "execution_count": 200,
     "metadata": {},
     "output_type": "execute_result"
    }
   ],
   "source": [
    "\n",
    "features.head(5)"
   ]
  },
  {
   "cell_type": "markdown",
   "metadata": {},
   "source": [
    "### Target set has different categories. So, Label encode them. And convert into one-hot vectors using get_dummies in pandas."
   ]
  },
  {
   "cell_type": "code",
   "execution_count": 201,
   "metadata": {},
   "outputs": [],
   "source": [
    "from sklearn.preprocessing import LabelEncoder\n",
    "Y_processed = pd.DataFrame(target).apply(LabelEncoder().fit_transform)\n",
    "testY = tf.keras.utils.to_categorical(Y_processed, num_classes=3)"
   ]
  },
  {
   "cell_type": "markdown",
   "metadata": {},
   "source": [
    "### Divide the dataset into Training and test (70:30)"
   ]
  },
  {
   "cell_type": "code",
   "execution_count": 202,
   "metadata": {},
   "outputs": [],
   "source": [
    "from sklearn.model_selection import train_test_split\n",
    "\n",
    "train_x, test_x,train_y,test_y = train_test_split(features, testY, test_size=.3, random_state=7)"
   ]
  },
  {
   "cell_type": "markdown",
   "metadata": {},
   "source": [
    "### Model\n",
    "Build the model with following layers: <br>\n",
    "1. First dense layer with 10 neurons with input shape 4 (according to the feature set) <br>\n",
    "2. Second Dense layer with 8 neurons <br>\n",
    "3. Output layer with 3 neurons with softmax activation (output layer, 3 neurons as we have 3 classes) <br>\n",
    "4. Use SGD and categorical_crossentropy loss "
   ]
  },
  {
   "cell_type": "code",
   "execution_count": 203,
   "metadata": {},
   "outputs": [],
   "source": [
    "model = tf.keras.models.Sequential()\n",
    "model.add(tf.keras.layers.BatchNormalization())\n",
    "\n",
    "model.add(tf.keras.layers.Dense(10, activation='relu', input_shape=(4,)))\n",
    "model.add(tf.keras.layers.Dense(8, activation='relu'))\n",
    "model.add(tf.keras.layers.Dense(3, activation='softmax'))\n",
    "\n",
    "#Create optimizer with non-default learning rate\n",
    "sgd_optimizer = tf.keras.optimizers.SGD(lr=0.03)\n",
    "\n",
    "#Compile the model\n",
    "model.compile(optimizer=sgd_optimizer, loss='categorical_crossentropy', metrics=['accuracy'])"
   ]
  },
  {
   "cell_type": "markdown",
   "metadata": {},
   "source": [
    "### Fitting the model and predicting "
   ]
  },
  {
   "cell_type": "code",
   "execution_count": 204,
   "metadata": {},
   "outputs": [
    {
     "name": "stdout",
     "output_type": "stream",
     "text": [
      "Train on 84 samples, validate on 21 samples\n",
      "Epoch 1/30\n",
      "84/84 [==============================] - 0s 5ms/sample - loss: 1.0580 - acc: 0.2381 - val_loss: 1.4069 - val_acc: 0.2857\n",
      "Epoch 2/30\n",
      "84/84 [==============================] - 0s 96us/sample - loss: 1.0044 - acc: 0.3095 - val_loss: 1.4471 - val_acc: 0.2857\n",
      "Epoch 3/30\n",
      "84/84 [==============================] - 0s 131us/sample - loss: 0.9689 - acc: 0.4167 - val_loss: 1.5120 - val_acc: 0.2857\n",
      "Epoch 4/30\n",
      "84/84 [==============================] - 0s 95us/sample - loss: 0.9341 - acc: 0.4643 - val_loss: 1.5495 - val_acc: 0.2857\n",
      "Epoch 5/30\n",
      "84/84 [==============================] - 0s 131us/sample - loss: 0.8933 - acc: 0.5119 - val_loss: 1.5785 - val_acc: 0.2857\n",
      "Epoch 6/30\n",
      "84/84 [==============================] - 0s 167us/sample - loss: 0.8806 - acc: 0.5357 - val_loss: 1.6010 - val_acc: 0.2857\n",
      "Epoch 7/30\n",
      "84/84 [==============================] - 0s 131us/sample - loss: 0.8561 - acc: 0.5595 - val_loss: 1.6371 - val_acc: 0.2857\n",
      "Epoch 8/30\n",
      "84/84 [==============================] - 0s 143us/sample - loss: 0.8386 - acc: 0.5595 - val_loss: 1.6460 - val_acc: 0.2857\n",
      "Epoch 9/30\n",
      "84/84 [==============================] - 0s 155us/sample - loss: 0.8246 - acc: 0.6310 - val_loss: 1.6346 - val_acc: 0.3810\n",
      "Epoch 10/30\n",
      "84/84 [==============================] - 0s 96us/sample - loss: 0.8005 - acc: 0.6786 - val_loss: 1.6495 - val_acc: 0.3810\n",
      "Epoch 11/30\n",
      "84/84 [==============================] - 0s 179us/sample - loss: 0.7881 - acc: 0.7262 - val_loss: 1.6405 - val_acc: 0.3810\n",
      "Epoch 12/30\n",
      "84/84 [==============================] - 0s 167us/sample - loss: 0.7657 - acc: 0.7500 - val_loss: 1.6421 - val_acc: 0.4286\n",
      "Epoch 13/30\n",
      "84/84 [==============================] - 0s 119us/sample - loss: 0.7527 - acc: 0.8095 - val_loss: 1.6061 - val_acc: 0.4286\n",
      "Epoch 14/30\n",
      "84/84 [==============================] - 0s 179us/sample - loss: 0.7463 - acc: 0.8095 - val_loss: 1.5982 - val_acc: 0.4286\n",
      "Epoch 15/30\n",
      "84/84 [==============================] - 0s 119us/sample - loss: 0.7388 - acc: 0.7738 - val_loss: 1.5909 - val_acc: 0.4286\n",
      "Epoch 16/30\n",
      "84/84 [==============================] - 0s 131us/sample - loss: 0.7389 - acc: 0.7619 - val_loss: 1.5916 - val_acc: 0.5238\n",
      "Epoch 17/30\n",
      "84/84 [==============================] - 0s 131us/sample - loss: 0.7118 - acc: 0.7857 - val_loss: 1.5764 - val_acc: 0.5714\n",
      "Epoch 18/30\n",
      "84/84 [==============================] - 0s 155us/sample - loss: 0.6838 - acc: 0.7976 - val_loss: 1.5493 - val_acc: 0.5714\n",
      "Epoch 19/30\n",
      "84/84 [==============================] - 0s 119us/sample - loss: 0.6712 - acc: 0.8095 - val_loss: 1.5111 - val_acc: 0.6190\n",
      "Epoch 20/30\n",
      "84/84 [==============================] - 0s 131us/sample - loss: 0.6719 - acc: 0.8095 - val_loss: 1.4818 - val_acc: 0.6190\n",
      "Epoch 21/30\n",
      "84/84 [==============================] - 0s 119us/sample - loss: 0.6511 - acc: 0.8333 - val_loss: 1.4508 - val_acc: 0.6190\n",
      "Epoch 22/30\n",
      "84/84 [==============================] - 0s 143us/sample - loss: 0.6205 - acc: 0.8333 - val_loss: 1.4230 - val_acc: 0.6190\n",
      "Epoch 23/30\n",
      "84/84 [==============================] - 0s 119us/sample - loss: 0.6311 - acc: 0.8214 - val_loss: 1.3779 - val_acc: 0.6190\n",
      "Epoch 24/30\n",
      "84/84 [==============================] - 0s 107us/sample - loss: 0.5928 - acc: 0.8690 - val_loss: 1.3552 - val_acc: 0.6190\n",
      "Epoch 25/30\n",
      "84/84 [==============================] - 0s 107us/sample - loss: 0.5927 - acc: 0.8452 - val_loss: 1.3257 - val_acc: 0.6190\n",
      "Epoch 26/30\n",
      "84/84 [==============================] - 0s 143us/sample - loss: 0.5937 - acc: 0.7976 - val_loss: 1.3066 - val_acc: 0.6190\n",
      "Epoch 27/30\n",
      "84/84 [==============================] - 0s 119us/sample - loss: 0.5700 - acc: 0.8571 - val_loss: 1.2820 - val_acc: 0.6190\n",
      "Epoch 28/30\n",
      "84/84 [==============================] - 0s 119us/sample - loss: 0.5387 - acc: 0.8690 - val_loss: 1.2441 - val_acc: 0.6190\n",
      "Epoch 29/30\n",
      "84/84 [==============================] - 0s 119us/sample - loss: 0.5145 - acc: 0.9167 - val_loss: 1.2213 - val_acc: 0.6190\n",
      "Epoch 30/30\n",
      "84/84 [==============================] - 0s 143us/sample - loss: 0.5431 - acc: 0.8452 - val_loss: 1.1713 - val_acc: 0.6190\n"
     ]
    },
    {
     "data": {
      "text/plain": [
       "<tensorflow.python.keras.callbacks.History at 0xf38a541b70>"
      ]
     },
     "execution_count": 204,
     "metadata": {},
     "output_type": "execute_result"
    }
   ],
   "source": [
    "model.fit(train_x.values, train_y, validation_split=0.2, epochs=30)"
   ]
  },
  {
   "cell_type": "code",
   "execution_count": 205,
   "metadata": {},
   "outputs": [
    {
     "name": "stdout",
     "output_type": "stream",
     "text": [
      "45/45 [==============================] - 0s 112us/sample - loss: 1.1408 - acc: 0.6444\n"
     ]
    },
    {
     "data": {
      "text/plain": [
       "[1.140827516714732, 0.64444447]"
      ]
     },
     "execution_count": 205,
     "metadata": {},
     "output_type": "execute_result"
    }
   ],
   "source": [
    "model.evaluate(test_x,test_y)"
   ]
  },
  {
   "cell_type": "markdown",
   "metadata": {},
   "source": [
    "### Report Accuracy of the predicted values"
   ]
  },
  {
   "cell_type": "code",
   "execution_count": 169,
   "metadata": {},
   "outputs": [
    {
     "name": "stdout",
     "output_type": "stream",
     "text": [
      "_________________________________________________________________\n",
      "Layer (type)                 Output Shape              Param #   \n",
      "=================================================================\n",
      "batch_normalization_v1_3 (Ba multiple                  20        \n",
      "_________________________________________________________________\n",
      "dense_8 (Dense)              multiple                  60        \n",
      "_________________________________________________________________\n",
      "dense_9 (Dense)              multiple                  88        \n",
      "_________________________________________________________________\n",
      "dense_10 (Dense)             multiple                  27        \n",
      "=================================================================\n",
      "Total params: 195\n",
      "Trainable params: 185\n",
      "Non-trainable params: 10\n",
      "_________________________________________________________________\n"
     ]
    }
   ],
   "source": [
    "model.summary()"
   ]
  },
  {
   "cell_type": "code",
   "execution_count": null,
   "metadata": {},
   "outputs": [],
   "source": []
  }
 ],
 "metadata": {
  "colab": {
   "name": "Linear+classification+using+Tensorflow+and+Keras.ipynb",
   "provenance": [],
   "version": "0.3.2"
  },
  "kernelspec": {
   "display_name": "Python 3",
   "language": "python",
   "name": "python3"
  },
  "language_info": {
   "codemirror_mode": {
    "name": "ipython",
    "version": 3
   },
   "file_extension": ".py",
   "mimetype": "text/x-python",
   "name": "python",
   "nbconvert_exporter": "python",
   "pygments_lexer": "ipython3",
   "version": "3.6.5"
  }
 },
 "nbformat": 4,
 "nbformat_minor": 1
}
