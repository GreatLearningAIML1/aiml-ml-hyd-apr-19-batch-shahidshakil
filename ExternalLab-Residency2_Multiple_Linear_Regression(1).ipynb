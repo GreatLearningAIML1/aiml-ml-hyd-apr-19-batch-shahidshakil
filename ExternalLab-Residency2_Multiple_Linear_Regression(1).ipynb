{
 "cells": [
  {
   "cell_type": "markdown",
   "metadata": {},
   "source": [
    "# External Lab \n",
    "\n",
    "Here each question is of 1 mark."
   ]
  },
  {
   "cell_type": "markdown",
   "metadata": {},
   "source": [
    "# Multiple Linear Regression\n",
    "\n",
    "## Problem Statement\n",
    "\n",
    "Use Multiple Linear Regression to **predict the consumption of petrol** given relevant variables are the petrol tax, the per capita, income, the number of miles of paved highway, and the proportion of the population with driver's licenses.\n",
    "\n",
    "## Dataset\n",
    "\n",
    "There are 48 rows of data.  The data include:\n",
    "\n",
    "      I,  the index;\n",
    "      A1, the petrol tax;\n",
    "      A2, the per capita income;\n",
    "      A3, the number of miles of paved highway;\n",
    "      A4, the proportion of drivers;\n",
    "      B,  the consumption of petrol.\n",
    "\n",
    "### Reference \n",
    "\n",
    "    Helmut Spaeth,\n",
    "    Mathematical Algorithms for Linear Regression,\n",
    "    Academic Press, 1991,\n",
    "    ISBN 0-12-656460-4.\n",
    "\n",
    "    S Weisberg,\n",
    "    Applied Linear Regression,\n",
    "    New York, 1980, pages 32-33.\n",
    "\n",
    "## Question 1 - Exploratory Data Analysis\n",
    "\n",
    "*Read the dataset given in file named **'petrol.csv'**. Check the statistical details of the dataset.*\n",
    "\n",
    "**Hint:** You can use **df.describe()**"
   ]
  },
  {
   "cell_type": "code",
   "execution_count": 65,
   "metadata": {},
   "outputs": [
    {
     "name": "stdout",
     "output_type": "stream",
     "text": [
      "   tax   income   highway     dl   consumption\n",
      "0  9.0     3571      1976  0.525           541\n",
      "1  9.0     4092      1250  0.572           524\n",
      "2  9.0     3865      1586  0.580           561\n",
      "3  7.5     4870      2351  0.529           414\n",
      "4  8.0     4399       431  0.544           410\n",
      "    tax   income   highway     dl   consumption\n",
      "43  7.0     3745      2611  0.508           591\n",
      "44  6.0     5215      2302  0.672           782\n",
      "45  9.0     4476      3942  0.571           510\n",
      "46  7.0     4296      4083  0.623           610\n",
      "47  7.0     5002      9794  0.593           524\n",
      "(48, 5)\n",
      "      tax   income   highway     dl   consumption\n",
      "0    9.00     3571      1976  0.525           541\n",
      "1    9.00     4092      1250  0.572           524\n",
      "2    9.00     3865      1586  0.580           561\n",
      "3    7.50     4870      2351  0.529           414\n",
      "4    8.00     4399       431  0.544           410\n",
      "5   10.00     5342      1333  0.571           457\n",
      "6    8.00     5319     11868  0.451           344\n",
      "7    8.00     5126      2138  0.553           467\n",
      "8    8.00     4447      8577  0.529           464\n",
      "9    7.00     4512      8507  0.552           498\n",
      "10   8.00     4391      5939  0.530           580\n",
      "11   7.50     5126     14186  0.525           471\n",
      "12   7.00     4817      6930  0.574           525\n",
      "13   7.00     4207      6580  0.545           508\n",
      "14   7.00     4332      8159  0.608           566\n",
      "15   7.00     4318     10340  0.586           635\n",
      "16   7.00     4206      8508  0.572           603\n",
      "17   7.00     3718      4725  0.540           714\n",
      "18   7.00     4716      5915  0.724           865\n",
      "19   8.50     4341      6010  0.677           640\n",
      "20   7.00     4593      7834  0.663           649\n",
      "21   8.00     4983       602  0.602           540\n",
      "22   9.00     4897      2449  0.511           464\n",
      "23   9.00     4258      4686  0.517           547\n",
      "24   8.50     4574      2619  0.551           460\n",
      "25   9.00     3721      4746  0.544           566\n",
      "26   8.00     3448      5399  0.548           577\n",
      "27   7.50     3846      9061  0.579           631\n",
      "28   8.00     4188      5975  0.563           574\n",
      "29   9.00     3601      4650  0.493           534\n",
      "30   7.00     3640      6905  0.518           571\n",
      "31   7.00     3333      6594  0.513           554\n",
      "32   8.00     3063      6524  0.578           577\n",
      "33   7.50     3357      4121  0.547           628\n",
      "34   8.00     3528      3495  0.487           487\n",
      "35   6.58     3802      7834  0.629           644\n",
      "36   5.00     4045     17782  0.566           640\n",
      "37   7.00     3897      6385  0.586           704\n",
      "38   8.50     3635      3274  0.663           648\n",
      "39   7.00     4345      3905  0.672           968\n",
      "40   7.00     4449      4639  0.626           587\n",
      "41   7.00     3656      3985  0.563           699\n",
      "42   7.00     4300      3635  0.603           632\n",
      "43   7.00     3745      2611  0.508           591\n",
      "44   6.00     5215      2302  0.672           782\n",
      "45   9.00     4476      3942  0.571           510\n",
      "46   7.00     4296      4083  0.623           610\n",
      "47   7.00     5002      9794  0.593           524\n"
     ]
    }
   ],
   "source": [
    "import pandas as pd\n",
    "petrol_df = pd.read_csv('petrol.csv')\n",
    "print(petrol_df.head())\n",
    "print(petrol_df.tail())\n",
    "print(petrol_df.shape)\n",
    "print(petrol_df)"
   ]
  },
  {
   "cell_type": "code",
   "execution_count": 4,
   "metadata": {},
   "outputs": [
    {
     "data": {
      "text/html": [
       "<div>\n",
       "<style scoped>\n",
       "    .dataframe tbody tr th:only-of-type {\n",
       "        vertical-align: middle;\n",
       "    }\n",
       "\n",
       "    .dataframe tbody tr th {\n",
       "        vertical-align: top;\n",
       "    }\n",
       "\n",
       "    .dataframe thead th {\n",
       "        text-align: right;\n",
       "    }\n",
       "</style>\n",
       "<table border=\"1\" class=\"dataframe\">\n",
       "  <thead>\n",
       "    <tr style=\"text-align: right;\">\n",
       "      <th></th>\n",
       "      <th>tax</th>\n",
       "      <th>income</th>\n",
       "      <th>highway</th>\n",
       "      <th>dl</th>\n",
       "      <th>consumption</th>\n",
       "    </tr>\n",
       "  </thead>\n",
       "  <tbody>\n",
       "    <tr>\n",
       "      <th>count</th>\n",
       "      <td>48.000000</td>\n",
       "      <td>48.000000</td>\n",
       "      <td>48.000000</td>\n",
       "      <td>48.000000</td>\n",
       "      <td>48.000000</td>\n",
       "    </tr>\n",
       "    <tr>\n",
       "      <th>mean</th>\n",
       "      <td>7.668333</td>\n",
       "      <td>4241.833333</td>\n",
       "      <td>5565.416667</td>\n",
       "      <td>0.570333</td>\n",
       "      <td>576.770833</td>\n",
       "    </tr>\n",
       "    <tr>\n",
       "      <th>std</th>\n",
       "      <td>0.950770</td>\n",
       "      <td>573.623768</td>\n",
       "      <td>3491.507166</td>\n",
       "      <td>0.055470</td>\n",
       "      <td>111.885816</td>\n",
       "    </tr>\n",
       "    <tr>\n",
       "      <th>min</th>\n",
       "      <td>5.000000</td>\n",
       "      <td>3063.000000</td>\n",
       "      <td>431.000000</td>\n",
       "      <td>0.451000</td>\n",
       "      <td>344.000000</td>\n",
       "    </tr>\n",
       "    <tr>\n",
       "      <th>25%</th>\n",
       "      <td>7.000000</td>\n",
       "      <td>3739.000000</td>\n",
       "      <td>3110.250000</td>\n",
       "      <td>0.529750</td>\n",
       "      <td>509.500000</td>\n",
       "    </tr>\n",
       "    <tr>\n",
       "      <th>50%</th>\n",
       "      <td>7.500000</td>\n",
       "      <td>4298.000000</td>\n",
       "      <td>4735.500000</td>\n",
       "      <td>0.564500</td>\n",
       "      <td>568.500000</td>\n",
       "    </tr>\n",
       "    <tr>\n",
       "      <th>75%</th>\n",
       "      <td>8.125000</td>\n",
       "      <td>4578.750000</td>\n",
       "      <td>7156.000000</td>\n",
       "      <td>0.595250</td>\n",
       "      <td>632.750000</td>\n",
       "    </tr>\n",
       "    <tr>\n",
       "      <th>max</th>\n",
       "      <td>10.000000</td>\n",
       "      <td>5342.000000</td>\n",
       "      <td>17782.000000</td>\n",
       "      <td>0.724000</td>\n",
       "      <td>968.000000</td>\n",
       "    </tr>\n",
       "  </tbody>\n",
       "</table>\n",
       "</div>"
      ],
      "text/plain": [
       "             tax       income       highway         dl   consumption\n",
       "count  48.000000    48.000000     48.000000  48.000000     48.000000\n",
       "mean    7.668333  4241.833333   5565.416667   0.570333    576.770833\n",
       "std     0.950770   573.623768   3491.507166   0.055470    111.885816\n",
       "min     5.000000  3063.000000    431.000000   0.451000    344.000000\n",
       "25%     7.000000  3739.000000   3110.250000   0.529750    509.500000\n",
       "50%     7.500000  4298.000000   4735.500000   0.564500    568.500000\n",
       "75%     8.125000  4578.750000   7156.000000   0.595250    632.750000\n",
       "max    10.000000  5342.000000  17782.000000   0.724000    968.000000"
      ]
     },
     "execution_count": 4,
     "metadata": {},
     "output_type": "execute_result"
    }
   ],
   "source": [
    "petrol_df.describe()"
   ]
  },
  {
   "cell_type": "markdown",
   "metadata": {},
   "source": [
    "# Question 2 - Cap outliers \n",
    "\n",
    "Find the outliers and cap them. (Use (Q1 - 1.5 * IQR) as the minimum cap and (Q3 + 1.5 * IQR) as the max cap. The decision criteria is you should consider the datapoints which only falls within this range. The data points which fall outside this range are outliers and the entire row needs to be removed"
   ]
  },
  {
   "cell_type": "code",
   "execution_count": 72,
   "metadata": {},
   "outputs": [
    {
     "name": "stdout",
     "output_type": "stream",
     "text": [
      "Index(['tax', ' income', ' highway', ' dl', ' consumption'], dtype='object')\n",
      "The shape of the Data Frame before splitting (48, 5)\n",
      "tax                1.1250\n",
      " income          839.7500\n",
      " highway        4045.7500\n",
      " dl                0.0655\n",
      " consumption     123.2500\n",
      "dtype: float64\n",
      "The shape of the Data Frame after removing outliers (43, 5)\n"
     ]
    },
    {
     "data": {
      "image/png": "[encoded data removed]",
      "text/plain": [
       "<Figure size 432x288 with 5 Axes>"
      ]
     },
     "metadata": {},
     "output_type": "display_data"
    }
   ],
   "source": [
    "from scipy import stats\n",
    "import matplotlib.pyplot as plt\n",
    "columns=petrol_df.columns\n",
    "print(columns)\n",
    "petrol_df.plot(kind='box', subplots=True, layout=(1,5), sharex=False, sharey=False)\n",
    "plt.show\n",
    "print(\"The shape of the Data Frame before splitting {0}\".format(petrol_df.shape))\n",
    "Q1 = petrol_df.quantile(0.25)\n",
    "Q3 = petrol_df.quantile(0.75)\n",
    "IQR = Q3 - Q1\n",
    "print(IQR)\n",
    "updated_df= petrol_df[~((petrol_df < (Q1 - 1.5 * IQR)) |(petrol_df > (Q3 + 1.5 * IQR))).any(axis=1)]\n",
    "print(\"The shape of the Data Frame after removing outliers {}\".format(updated_df.shape))"
   ]
  },
  {
   "cell_type": "markdown",
   "metadata": {},
   "source": [
    "# Question 3 - Independent variables and collinearity \n",
    "Which attributes seems to have stronger association with the dependent variable consumption?"
   ]
  },
  {
   "cell_type": "code",
   "execution_count": 76,
   "metadata": {},
   "outputs": [
    {
     "data": {
      "image/png": "[encoded data removed]",
      "text/plain": [
       "<Figure size 432x288 with 25 Axes>"
      ]
     },
     "metadata": {},
     "output_type": "display_data"
    }
   ],
   "source": [
    "from pandas.plotting import scatter_matrix\n",
    "scatter_matrix(updated_df)\n",
    "plt.show()\n",
    "#We can see that there is postove corelation between the number of DLs,highway and consumption"
   ]
  },
  {
   "cell_type": "code",
   "execution_count": 78,
   "metadata": {},
   "outputs": [
    {
     "data": {
      "text/html": [
       "<div>\n",
       "<style scoped>\n",
       "    .dataframe tbody tr th:only-of-type {\n",
       "        vertical-align: middle;\n",
       "    }\n",
       "\n",
       "    .dataframe tbody tr th {\n",
       "        vertical-align: top;\n",
       "    }\n",
       "\n",
       "    .dataframe thead th {\n",
       "        text-align: right;\n",
       "    }\n",
       "</style>\n",
       "<table border=\"1\" class=\"dataframe\">\n",
       "  <thead>\n",
       "    <tr style=\"text-align: right;\">\n",
       "      <th></th>\n",
       "      <th>tax</th>\n",
       "      <th>income</th>\n",
       "      <th>highway</th>\n",
       "      <th>dl</th>\n",
       "      <th>consumption</th>\n",
       "    </tr>\n",
       "  </thead>\n",
       "  <tbody>\n",
       "    <tr>\n",
       "      <th>tax</th>\n",
       "      <td>1.000000</td>\n",
       "      <td>-0.109537</td>\n",
       "      <td>-0.390602</td>\n",
       "      <td>-0.314702</td>\n",
       "      <td>-0.446116</td>\n",
       "    </tr>\n",
       "    <tr>\n",
       "      <th>income</th>\n",
       "      <td>-0.109537</td>\n",
       "      <td>1.000000</td>\n",
       "      <td>0.051169</td>\n",
       "      <td>0.150689</td>\n",
       "      <td>-0.347326</td>\n",
       "    </tr>\n",
       "    <tr>\n",
       "      <th>highway</th>\n",
       "      <td>-0.390602</td>\n",
       "      <td>0.051169</td>\n",
       "      <td>1.000000</td>\n",
       "      <td>-0.016193</td>\n",
       "      <td>0.034309</td>\n",
       "    </tr>\n",
       "    <tr>\n",
       "      <th>dl</th>\n",
       "      <td>-0.314702</td>\n",
       "      <td>0.150689</td>\n",
       "      <td>-0.016193</td>\n",
       "      <td>1.000000</td>\n",
       "      <td>0.611788</td>\n",
       "    </tr>\n",
       "    <tr>\n",
       "      <th>consumption</th>\n",
       "      <td>-0.446116</td>\n",
       "      <td>-0.347326</td>\n",
       "      <td>0.034309</td>\n",
       "      <td>0.611788</td>\n",
       "      <td>1.000000</td>\n",
       "    </tr>\n",
       "  </tbody>\n",
       "</table>\n",
       "</div>"
      ],
      "text/plain": [
       "                   tax    income   highway        dl   consumption\n",
       "tax           1.000000 -0.109537 -0.390602 -0.314702     -0.446116\n",
       " income      -0.109537  1.000000  0.051169  0.150689     -0.347326\n",
       " highway     -0.390602  0.051169  1.000000 -0.016193      0.034309\n",
       " dl          -0.314702  0.150689 -0.016193  1.000000      0.611788\n",
       " consumption -0.446116 -0.347326  0.034309  0.611788      1.000000"
      ]
     },
     "execution_count": 78,
     "metadata": {},
     "output_type": "execute_result"
    }
   ],
   "source": [
    "correlation = updated_df.corr()\n",
    "correlation"
   ]
  },
  {
   "cell_type": "markdown",
   "metadata": {},
   "source": [
    "### Observing the above correlation values between all the variables, we can see that there is stronger association between the number of drivers and consumption. And comparatively tax has an association in a negative way. \n",
    "Insights :\n",
    "As tax increases the consumption decreases.\n",
    "As number of drivers is more consumption is more"
   ]
  },
  {
   "cell_type": "markdown",
   "metadata": {},
   "source": [
    "# Question 4 - Transform the dataset \n",
    "Divide the data into feature(X) and target(Y) sets."
   ]
  },
  {
   "cell_type": "code",
   "execution_count": 114,
   "metadata": {},
   "outputs": [
    {
     "name": "stdout",
     "output_type": "stream",
     "text": [
      "       dl\n",
      "0   0.525\n",
      "1   0.572\n",
      "2   0.580\n",
      "3   0.529\n",
      "4   0.544\n",
      "6   0.451\n",
      "7   0.553\n",
      "8   0.529\n",
      "9   0.552\n",
      "10  0.530\n",
      "12  0.574\n",
      "13  0.545\n",
      "14  0.608\n",
      "15  0.586\n",
      "16  0.572\n",
      "17  0.540\n",
      "19  0.677\n",
      "20  0.663\n",
      "21  0.602\n",
      "22  0.511\n",
      "23  0.517\n",
      "24  0.551\n",
      "25  0.544\n",
      "26  0.548\n",
      "27  0.579\n",
      "28  0.563\n",
      "29  0.493\n",
      "30  0.518\n",
      "31  0.513\n",
      "32  0.578\n",
      "33  0.547\n",
      "34  0.487\n",
      "35  0.629\n",
      "37  0.586\n",
      "38  0.663\n",
      "40  0.626\n",
      "41  0.563\n",
      "42  0.603\n",
      "43  0.508\n",
      "44  0.672\n",
      "45  0.571\n",
      "46  0.623\n",
      "47  0.593\n"
     ]
    }
   ],
   "source": [
    "X=updated_df[[' dl']]\n",
    "print(X)"
   ]
  },
  {
   "cell_type": "code",
   "execution_count": null,
   "metadata": {},
   "outputs": [],
   "source": [
    "# Y=updated_df[updated_df.columns[4]]\n",
    "Y=updated_df[[' consumption']]\n",
    "print(Y)"
   ]
  },
  {
   "cell_type": "markdown",
   "metadata": {},
   "source": [
    "# Question 5 - Split data into train, test sets \n",
    "Divide the data into training and test sets with 80-20 split using scikit-learn. Print the shapes of training and test feature sets."
   ]
  },
  {
   "cell_type": "code",
   "execution_count": 116,
   "metadata": {},
   "outputs": [],
   "source": [
    "from sklearn.model_selection import train_test_split\n",
    "xTrain, xTest, yTrain, yTest = train_test_split(X, Y, test_size = 0.2, random_state = 0)"
   ]
  },
  {
   "cell_type": "code",
   "execution_count": 117,
   "metadata": {},
   "outputs": [
    {
     "name": "stdout",
     "output_type": "stream",
     "text": [
      "(34, 1) (9, 1) (34, 1) (9, 1)\n"
     ]
    }
   ],
   "source": [
    "print(xTrain.shape, xTest.shape, yTrain.shape, yTest.shape)"
   ]
  },
  {
   "cell_type": "markdown",
   "metadata": {},
   "source": [
    "# Question 6 - Build Model \n",
    "Estimate the coefficients for each input feature. Construct and display a dataframe with coefficients and X.columns as columns"
   ]
  },
  {
   "cell_type": "code",
   "execution_count": 118,
   "metadata": {},
   "outputs": [
    {
     "name": "stdout",
     "output_type": "stream",
     "text": [
      "[[1081.5204082]] [-51.24284876]\n",
      "          dl\n",
      "34  1.554056\n",
      "32  1.844444\n",
      "23  1.649788\n",
      "45  1.822107\n",
      "2   1.850826\n",
      "47  1.892310\n",
      "21  1.921030\n",
      "17  1.723183\n",
      "25  1.735948\n",
      "19  2.160361\n",
      "43  1.621069\n",
      "9   1.761476\n",
      "15  1.869973\n",
      "6   1.439177\n",
      "20  2.115686\n",
      "35  2.007189\n",
      "16  1.825298\n",
      "40  1.997616\n",
      "8   1.688081\n",
      "38  2.115686\n",
      "1   1.825298\n",
      "29  1.573202\n",
      "14  1.940177\n",
      "37  1.869973\n",
      "27  1.847635\n",
      "7   1.764667\n",
      "26  1.748712\n",
      "24  1.758285\n",
      "22  1.630642\n",
      "10  1.691272\n",
      "44  2.144406\n",
      "46  1.988043\n",
      "3   1.688081\n",
      "0   1.675317\n"
     ]
    }
   ],
   "source": [
    "from sklearn import linear_model\n",
    "regressor = linear_model.LinearRegression()\n",
    "regressor.fit(xTrain,yTrain)\n",
    "coeff = regressor.coef_\n",
    "intercept = regressor.intercept_\n",
    "print(coeff,intercept)\n",
    "X_updated=xTrain*3.19108\n",
    "print(X_updated)"
   ]
  },
  {
   "cell_type": "markdown",
   "metadata": {},
   "source": [
    "# R-Square "
   ]
  },
  {
   "cell_type": "markdown",
   "metadata": {},
   "source": [
    "# Question 7 - Evaluate the model \n",
    "Calculate the accuracy score for the above model."
   ]
  },
  {
   "cell_type": "code",
   "execution_count": 127,
   "metadata": {},
   "outputs": [
    {
     "name": "stdout",
     "output_type": "stream",
     "text": [
      "0.020948757264672158\n"
     ]
    },
    {
     "data": {
      "image/png": "[encoded data removed]",
      "text/plain": [
       "<Figure size 432x288 with 1 Axes>"
      ]
     },
     "metadata": {},
     "output_type": "display_data"
    }
   ],
   "source": [
    "#using ordinary least square method for finding R squared\n",
    "import statsmodels.api as sm\n",
    "from sklearn.metrics import r2_score\n",
    "\n",
    "y_pred = regressor.predict(xTest)\n",
    "\n",
    "plt.scatter(xTest, yTest,  color='black')\n",
    "plt.plot(xTest, y_pred, color='blue', linewidth=3)\n",
    "print(r2_score(yTest,y_pred))\n"
   ]
  },
  {
   "cell_type": "markdown",
   "metadata": {},
   "source": [
    "# Question 8: Repeat the same Multi linear regression modelling by adding both Income and Highway features\n",
    "Find R2 \n"
   ]
  },
  {
   "cell_type": "code",
   "execution_count": 144,
   "metadata": {},
   "outputs": [
    {
     "name": "stdout",
     "output_type": "stream",
     "text": [
      "       dl   highway   income\n",
      "0   0.525      1976     3571\n",
      "1   0.572      1250     4092\n",
      "2   0.580      1586     3865\n",
      "3   0.529      2351     4870\n",
      "4   0.544       431     4399\n",
      "6   0.451     11868     5319\n",
      "7   0.553      2138     5126\n",
      "8   0.529      8577     4447\n",
      "9   0.552      8507     4512\n",
      "10  0.530      5939     4391\n",
      "12  0.574      6930     4817\n",
      "13  0.545      6580     4207\n",
      "14  0.608      8159     4332\n",
      "15  0.586     10340     4318\n",
      "16  0.572      8508     4206\n",
      "17  0.540      4725     3718\n",
      "19  0.677      6010     4341\n",
      "20  0.663      7834     4593\n",
      "21  0.602       602     4983\n",
      "22  0.511      2449     4897\n",
      "23  0.517      4686     4258\n",
      "24  0.551      2619     4574\n",
      "25  0.544      4746     3721\n",
      "26  0.548      5399     3448\n",
      "27  0.579      9061     3846\n",
      "28  0.563      5975     4188\n",
      "29  0.493      4650     3601\n",
      "30  0.518      6905     3640\n",
      "31  0.513      6594     3333\n",
      "32  0.578      6524     3063\n",
      "33  0.547      4121     3357\n",
      "34  0.487      3495     3528\n",
      "35  0.629      7834     3802\n",
      "37  0.586      6385     3897\n",
      "38  0.663      3274     3635\n",
      "40  0.626      4639     4449\n",
      "41  0.563      3985     3656\n",
      "42  0.603      3635     4300\n",
      "43  0.508      2611     3745\n",
      "44  0.672      2302     5215\n",
      "45  0.571      3942     4476\n",
      "46  0.623      4083     4296\n",
      "47  0.593      9794     5002\n",
      "(34, 3) (9, 3)\n"
     ]
    }
   ],
   "source": [
    "X_multi=updated_df[[' dl',' highway',' income']]\n",
    "print(X_multi)\n",
    "xmultiTrain, xmultiTest, = train_test_split(X_multi, test_size = 0.2, random_state = 0)\n",
    "print(xmultiTrain.shape,xmultiTest.shape)"
   ]
  },
  {
   "cell_type": "code",
   "execution_count": 145,
   "metadata": {},
   "outputs": [
    {
     "data": {
      "text/plain": [
       "LinearRegression(copy_X=True, fit_intercept=True, n_jobs=1, normalize=False)"
      ]
     },
     "execution_count": 145,
     "metadata": {},
     "output_type": "execute_result"
    }
   ],
   "source": [
    "regressornew = linear_model.LinearRegression()\n",
    "regressornew.fit(xmultiTrain,yTrain)\n"
   ]
  },
  {
   "cell_type": "markdown",
   "metadata": {},
   "source": [
    "# Question 9: Print the coefficients of the multilinear regression model"
   ]
  },
  {
   "cell_type": "code",
   "execution_count": 149,
   "metadata": {},
   "outputs": [
    {
     "name": "stdout",
     "output_type": "stream",
     "text": [
      "[[ 1.12991607e+03  1.13378162e-03 -5.99784216e-02]] [169.52064751]\n"
     ]
    }
   ],
   "source": [
    "coeff_new = regressornew.coef_\n",
    "intercept_new = regressornew.intercept_\n",
    "print(coeff_new,intercept_new)\n"
   ]
  },
  {
   "cell_type": "code",
   "execution_count": 151,
   "metadata": {},
   "outputs": [
    {
     "name": "stdout",
     "output_type": "stream",
     "text": [
      "       dl   highway   income\n",
      "33  0.547      4121     3357\n",
      "41  0.563      3985     3656\n",
      "30  0.518      6905     3640\n",
      "4   0.544       431     4399\n",
      "12  0.574      6930     4817\n",
      "28  0.563      5975     4188\n",
      "31  0.513      6594     3333\n",
      "13  0.545      6580     4207\n",
      "42  0.603      3635     4300\n"
     ]
    }
   ],
   "source": [
    "#using ordinary least square method for finding R squared\n",
    "import statsmodels.api as sm\n",
    "print(xmultiTest)\n",
    "\n",
    "ymulti_pred = regressornew.predict(xmultiTest)\n"
   ]
  },
  {
   "cell_type": "markdown",
   "metadata": {},
   "source": [
    "# Question 10 \n",
    "In one or two sentences give reasoning on R-Square on the basis of above findings\n",
    "Answer"
   ]
  },
  {
   "cell_type": "markdown",
   "metadata": {},
   "source": [
    "### *R squared value increase if we increase the number of independent variables to our analysis"
   ]
  },
  {
   "cell_type": "code",
   "execution_count": 153,
   "metadata": {},
   "outputs": [
    {
     "name": "stdout",
     "output_type": "stream",
     "text": [
      "0.48383117731518954\n"
     ]
    }
   ],
   "source": [
    "from sklearn.metrics import r2_score\n",
    "print(r2_score(yTest,ymulti_pred))"
   ]
  }
 ],
 "metadata": {
  "kernelspec": {
   "display_name": "Python 3",
   "language": "python",
   "name": "python3"
  },
  "language_info": {
   "codemirror_mode": {
    "name": "ipython",
    "version": 3
   },
   "file_extension": ".py",
   "mimetype": "text/x-python",
   "name": "python",
   "nbconvert_exporter": "python",
   "pygments_lexer": "ipython3",
   "version": "3.6.5"
  }
 },
 "nbformat": 4,
 "nbformat_minor": 2
}
