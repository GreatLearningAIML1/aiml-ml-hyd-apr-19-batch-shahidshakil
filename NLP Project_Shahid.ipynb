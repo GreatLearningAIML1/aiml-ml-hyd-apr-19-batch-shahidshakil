{
 "cells": [
  {
   "cell_type": "markdown",
   "metadata": {},
   "source": [
    "# Project Description "
   ]
  },
  {
   "cell_type": "markdown",
   "metadata": {},
   "source": [
    " \n",
    "Classification is probably the most popular task that you would deal with in real life.\n",
    "Text in the form of blogs, posts, articles, etc. is written every second. It is a challenge to predict the information about the writer without knowing about him/her. \n",
    "\n",
    "We are going to create a classifier that predicts multiple features of the author of a given text.\n",
    "We have designed it as a Multilabel classification problem.\n"
   ]
  },
  {
   "cell_type": "markdown",
   "metadata": {},
   "source": [
    "# Dataset \n"
   ]
  },
  {
   "cell_type": "markdown",
   "metadata": {},
   "source": [
    "Blog Authorship Corpus\n",
    "Over 600,000 posts from more than 19 thousand bloggers\n",
    "\n",
    "The Blog Authorship Corpus consists of the collected posts of 19,320 bloggers gathered from blogger.com in August 2004. The corpus incorporates a total of 681,288 posts and over 140 million words - or approximately 35 posts and 7250 words per person.\n",
    "\n",
    "Each blog is presented as a separate file, the name of which indicates a blogger id# and the blogger’s self-provided gender, age, industry, and astrological sign. (All are labeled for gender and age but for many, industry and/or sign is marked as unknown.)\n",
    "\n",
    "All bloggers included in the corpus fall into one of three age groups:\n",
    "8240 \"10s\" blogs (ages 13-17),\n",
    "8086 \"20s\" blogs(ages 23-27)\n",
    "2994 \"30s\" blogs (ages 33-47)\n",
    "\n",
    "For each age group, there is an equal number of male and female bloggers.\n",
    "Each blog in the corpus includes at least 200 occurrences of common English words. All formatting has been stripped with two exceptions. Individual posts within a single blogger are separated by the date of the following post and links within a post are denoted by the label urllink.\n",
    "\n",
    "Link to dataset: https://www.kaggle.com/rtatman/blog-authorship-corpus/downloads/blog-authorship-corpus.zip/2at\n"
   ]
  },
  {
   "cell_type": "markdown",
   "metadata": {},
   "source": [
    "# Approach & Steps "
   ]
  },
  {
   "cell_type": "markdown",
   "metadata": {},
   "source": [
    "1.\tLoad the dataset (5 points)\n",
    "\n",
    "a.\tTip: As the dataset is large, use fewer rows. Check what is working well on your machine and decide accordingly.\n",
    "\n",
    "2.\tPreprocess rows of the “text” column (7.5 points)\n",
    "\n",
    "a.\tRemove unwanted characters\n",
    "\n",
    "b.\tConvert text to lowercase\n",
    "\n",
    "c.\tRemove unwanted spaces\n",
    "\n",
    "d.\tRemove stopwords\n",
    "\n",
    "3.\tAs we want to make this into a multi-label classification problem, you are required to merge all the label columns together, so that we have all the labels together for a particular sentence (7.5 points)\n",
    "\n",
    "a.\tLabel columns to merge: “gender”, “age”, “topic”, “sign”\n",
    "b.\tAfter completing the previous step, there should be only two columns in your data frame i.e. “text” and “labels” as shown in the below image\n",
    "\n",
    "4.\tSeparate features and labels, and split the data into training and testing (5 points)\n",
    "\n",
    "5.\tVectorize the features (5 points)\n",
    "\n",
    "a.\tCreate a Bag of Words using count vectorizer\n",
    "i.\tUse ngram_range=(1, 2)\n",
    "ii.\tVectorize training and testing features\n",
    "\n",
    "b.\tPrint the term-document matrix\n",
    "\n",
    "6.\tCreate a dictionary to get the count of every label i.e. the key will be label name and value will be the total count of the label. Check below image for reference (5 points)\n",
    "\n",
    "7. Transform the labels - (7.5 points)\n",
    "As we have noticed before, in this task each example can have multiple tags. To deal with such kind of prediction, we need to transform labels in a binary form and the prediction will be a mask of 0s and 1s. For this purpose, it is convenient to use MultiLabelBinarizer from sklearn\n",
    "a.\tConvert your train and test labels using MultiLabelBinarizer\n",
    "\n",
    "8.\t Choose a classifier - (5 points)\n",
    "\n",
    "In this task, we suggest using the One-vs-Rest approach, which is implemented in OneVsRestClassifier class. In this approach k classifiers (= number of tags) are trained. As a basic classifier, use LogisticRegression. It is one of the simplest methods, but often it performs good enough in text classification tasks. It might take some time because the number of classifiers to train is large.\n",
    "\n",
    "a.\tUse a linear classifier of your choice, wrap it up in OneVsRestClassifier to train it on every label\n",
    "\n",
    "b.\tAs One-vs-Rest approach might not have been discussed in the sessions, we are providing you the code for that\n",
    "\n",
    "9.\tFit the classifier, make predictions and get the accuracy (5 points)\n",
    "\n",
    "a.\tPrint the following\n",
    "\n",
    "i.\tAccuracy score\n",
    "ii.\tF1 score\n",
    "iii.\tAverage precision score\n",
    "iv.\tAverage recall score\n",
    "v.\tTip: Make sure you are familiar with all of them. How would you expect the things to work for the multi-label scenario? Read about micro/macro/weighted averaging\n",
    "\n",
    "10.\t Print true label and predicted label for any five examples (7.5 points)\n"
   ]
  },
  {
   "cell_type": "markdown",
   "metadata": {},
   "source": [
    "# 1. Load the dataset (5 points)\n",
    "\n",
    "a. Tip: As the dataset is large, use fewer rows. Check what is working well on your machine and decide accordingly."
   ]
  },
  {
   "cell_type": "code",
   "execution_count": 64,
   "metadata": {},
   "outputs": [],
   "source": [
    "from sklearn import metrics\n",
    "import numpy as np\n",
    "import pandas as pd\n",
    "from nltk.sentiment.vader import SentimentIntensityAnalyzer\n",
    "from sklearn.metrics import accuracy_score,classification_report,confusion_matrix\n",
    "import nltk,spacy,string,re\n",
    "from nltk.corpus import stopwords,wordnet\n",
    "from nltk.tokenize import word_tokenize, RegexpTokenizer\n",
    "from sklearn.model_selection import train_test_split\n",
    "from sklearn.feature_extraction.text import CountVectorizer, TfidfVectorizer\n",
    "from sklearn.naive_bayes import MultinomialNB\n",
    "from sklearn.linear_model import LogisticRegression\n",
    "from sklearn.feature_extraction import text\n",
    "from sklearn.preprocessing import MultiLabelBinarizer\n",
    "from sklearn.multiclass import OneVsRestClassifier\n",
    "from sklearn.linear_model import LogisticRegression\n",
    "from sklearn.metrics import classification_report\n",
    "%matplotlib inline "
   ]
  },
  {
   "cell_type": "code",
   "execution_count": 4,
   "metadata": {},
   "outputs": [],
   "source": [
    "blog_data = pd.read_csv(\"blogtext.csv\")"
   ]
  },
  {
   "cell_type": "code",
   "execution_count": 5,
   "metadata": {},
   "outputs": [
    {
     "data": {
      "text/plain": [
       "Index(['id', 'gender', 'age', 'topic', 'sign', 'date', 'text'], dtype='object')"
      ]
     },
     "execution_count": 5,
     "metadata": {},
     "output_type": "execute_result"
    }
   ],
   "source": [
    "blog_data.columns\n"
   ]
  },
  {
   "cell_type": "code",
   "execution_count": 6,
   "metadata": {},
   "outputs": [
    {
     "data": {
      "text/plain": [
       "(681284, 7)"
      ]
     },
     "execution_count": 6,
     "metadata": {},
     "output_type": "execute_result"
    }
   ],
   "source": [
    "blog_data.shape"
   ]
  },
  {
   "cell_type": "code",
   "execution_count": 8,
   "metadata": {},
   "outputs": [
    {
     "data": {
      "text/plain": [
       "0                    Info has been found (+/- 100 pages,...\n",
       "1                    These are the team members:   Drewe...\n",
       "2                    In het kader van kernfusie op aarde...\n",
       "3                          testing!!!  testing!!!          \n",
       "4                      Thanks to Yahoo!'s Toolbar I can ...\n",
       "                                ...                        \n",
       "681279           Dear Susan,  I could write some really ...\n",
       "681280           Dear Susan,  'I have the second yeast i...\n",
       "681281           Dear Susan,  Your 'boyfriend' is fuckin...\n",
       "681282           Dear Susan:    Just to clarify, I am as...\n",
       "681283           Hey everybody...and Susan,  You might a...\n",
       "Name: text, Length: 681284, dtype: object"
      ]
     },
     "execution_count": 8,
     "metadata": {},
     "output_type": "execute_result"
    }
   ],
   "source": [
    "blog_data['text']"
   ]
  },
  {
   "cell_type": "code",
   "execution_count": 11,
   "metadata": {},
   "outputs": [],
   "source": [
    "blog_data_sample = blog_data.head(5000)"
   ]
  },
  {
   "cell_type": "code",
   "execution_count": 13,
   "metadata": {},
   "outputs": [
    {
     "name": "stderr",
     "output_type": "stream",
     "text": [
      "C:\\Users\\SUPERMAN1\\Anaconda3\\lib\\site-packages\\ipykernel_launcher.py:1: SettingWithCopyWarning: \n",
      "A value is trying to be set on a copy of a slice from a DataFrame.\n",
      "Try using .loc[row_indexer,col_indexer] = value instead\n",
      "\n",
      "See the caveats in the documentation: http://pandas.pydata.org/pandas-docs/stable/user_guide/indexing.html#returning-a-view-versus-a-copy\n",
      "  \"\"\"Entry point for launching an IPython kernel.\n"
     ]
    }
   ],
   "source": [
    "blog_data_sample['label'] = blog_data_sample[blog_data_sample.columns[1:5]].apply(lambda x: (','.join(x.dropna().astype(str))),axis=1)"
   ]
  },
  {
   "cell_type": "code",
   "execution_count": 16,
   "metadata": {},
   "outputs": [
    {
     "data": {
      "text/html": [
       "<div>\n",
       "<style scoped>\n",
       "    .dataframe tbody tr th:only-of-type {\n",
       "        vertical-align: middle;\n",
       "    }\n",
       "\n",
       "    .dataframe tbody tr th {\n",
       "        vertical-align: top;\n",
       "    }\n",
       "\n",
       "    .dataframe thead th {\n",
       "        text-align: right;\n",
       "    }\n",
       "</style>\n",
       "<table border=\"1\" class=\"dataframe\">\n",
       "  <thead>\n",
       "    <tr style=\"text-align: right;\">\n",
       "      <th></th>\n",
       "      <th>id</th>\n",
       "      <th>gender</th>\n",
       "      <th>age</th>\n",
       "      <th>topic</th>\n",
       "      <th>sign</th>\n",
       "      <th>date</th>\n",
       "      <th>text</th>\n",
       "      <th>label</th>\n",
       "    </tr>\n",
       "  </thead>\n",
       "  <tbody>\n",
       "    <tr>\n",
       "      <td>0</td>\n",
       "      <td>2059027</td>\n",
       "      <td>male</td>\n",
       "      <td>15</td>\n",
       "      <td>Student</td>\n",
       "      <td>Leo</td>\n",
       "      <td>14,May,2004</td>\n",
       "      <td>Info has been found (+/- 100 pages,...</td>\n",
       "      <td>male,15,Student,Leo</td>\n",
       "    </tr>\n",
       "    <tr>\n",
       "      <td>1</td>\n",
       "      <td>2059027</td>\n",
       "      <td>male</td>\n",
       "      <td>15</td>\n",
       "      <td>Student</td>\n",
       "      <td>Leo</td>\n",
       "      <td>13,May,2004</td>\n",
       "      <td>These are the team members:   Drewe...</td>\n",
       "      <td>male,15,Student,Leo</td>\n",
       "    </tr>\n",
       "    <tr>\n",
       "      <td>2</td>\n",
       "      <td>2059027</td>\n",
       "      <td>male</td>\n",
       "      <td>15</td>\n",
       "      <td>Student</td>\n",
       "      <td>Leo</td>\n",
       "      <td>12,May,2004</td>\n",
       "      <td>In het kader van kernfusie op aarde...</td>\n",
       "      <td>male,15,Student,Leo</td>\n",
       "    </tr>\n",
       "    <tr>\n",
       "      <td>3</td>\n",
       "      <td>2059027</td>\n",
       "      <td>male</td>\n",
       "      <td>15</td>\n",
       "      <td>Student</td>\n",
       "      <td>Leo</td>\n",
       "      <td>12,May,2004</td>\n",
       "      <td>testing!!!  testing!!!</td>\n",
       "      <td>male,15,Student,Leo</td>\n",
       "    </tr>\n",
       "    <tr>\n",
       "      <td>4</td>\n",
       "      <td>3581210</td>\n",
       "      <td>male</td>\n",
       "      <td>33</td>\n",
       "      <td>InvestmentBanking</td>\n",
       "      <td>Aquarius</td>\n",
       "      <td>11,June,2004</td>\n",
       "      <td>Thanks to Yahoo!'s Toolbar I can ...</td>\n",
       "      <td>male,33,InvestmentBanking,Aquarius</td>\n",
       "    </tr>\n",
       "  </tbody>\n",
       "</table>\n",
       "</div>"
      ],
      "text/plain": [
       "        id gender  age              topic      sign          date  \\\n",
       "0  2059027   male   15            Student       Leo   14,May,2004   \n",
       "1  2059027   male   15            Student       Leo   13,May,2004   \n",
       "2  2059027   male   15            Student       Leo   12,May,2004   \n",
       "3  2059027   male   15            Student       Leo   12,May,2004   \n",
       "4  3581210   male   33  InvestmentBanking  Aquarius  11,June,2004   \n",
       "\n",
       "                                                text  \\\n",
       "0             Info has been found (+/- 100 pages,...   \n",
       "1             These are the team members:   Drewe...   \n",
       "2             In het kader van kernfusie op aarde...   \n",
       "3                   testing!!!  testing!!!             \n",
       "4               Thanks to Yahoo!'s Toolbar I can ...   \n",
       "\n",
       "                                label  \n",
       "0                 male,15,Student,Leo  \n",
       "1                 male,15,Student,Leo  \n",
       "2                 male,15,Student,Leo  \n",
       "3                 male,15,Student,Leo  \n",
       "4  male,33,InvestmentBanking,Aquarius  "
      ]
     },
     "execution_count": 16,
     "metadata": {},
     "output_type": "execute_result"
    }
   ],
   "source": [
    "blog_data_sample.head()"
   ]
  },
  {
   "cell_type": "code",
   "execution_count": 18,
   "metadata": {},
   "outputs": [
    {
     "data": {
      "text/plain": [
       "id        5000\n",
       "gender    5000\n",
       "age       5000\n",
       "topic     5000\n",
       "sign      5000\n",
       "date      5000\n",
       "text      5000\n",
       "label     5000\n",
       "dtype: int64"
      ]
     },
     "execution_count": 18,
     "metadata": {},
     "output_type": "execute_result"
    }
   ],
   "source": [
    "blog_data_sample.count()"
   ]
  },
  {
   "cell_type": "code",
   "execution_count": 28,
   "metadata": {
    "scrolled": true
   },
   "outputs": [
    {
     "data": {
      "text/plain": [
       "<matplotlib.axes._subplots.AxesSubplot at 0xd28fa6b3c8>"
      ]
     },
     "execution_count": 28,
     "metadata": {},
     "output_type": "execute_result"
    },
    {
     "data": {
      "image/png": "[encoded data removed]",
      "text/plain": [
       "<Figure size 432x288 with 1 Axes>"
      ]
     },
     "metadata": {},
     "output_type": "display_data"
    }
   ],
   "source": [
    "blog_data_sample.text.str.len().plot()"
   ]
  },
  {
   "cell_type": "markdown",
   "metadata": {},
   "source": [
    "# 2. Preprocess rows of the “text” column (7.5 points)\n",
    "\n",
    "a. Remove unwanted characters\n",
    "\n",
    "b. Convert text to lowercase\n",
    "\n",
    "c. Remove unwanted spaces\n",
    "\n",
    "d. Remove stopwords"
   ]
  },
  {
   "cell_type": "markdown",
   "metadata": {},
   "source": [
    "# 3. As we want to make this into a multi-label classification problem, you are required to merge all the label columns together, so that we have all the labels together for a particular sentence (7.5 points)\n",
    "a. Label columns to merge: “gender”, “age”, “topic”, “sign” b. After completing the previous step, there should be only two columns in your data frame i.e. “text” and “labels” as shown in the below image\n",
    "\n"
   ]
  },
  {
   "cell_type": "code",
   "execution_count": 19,
   "metadata": {},
   "outputs": [],
   "source": [
    "blog_data_sample = blog_data_sample.drop(columns=['gender','age','topic','sign','id','date'])"
   ]
  },
  {
   "cell_type": "code",
   "execution_count": 21,
   "metadata": {},
   "outputs": [
    {
     "data": {
      "text/html": [
       "<div>\n",
       "<style scoped>\n",
       "    .dataframe tbody tr th:only-of-type {\n",
       "        vertical-align: middle;\n",
       "    }\n",
       "\n",
       "    .dataframe tbody tr th {\n",
       "        vertical-align: top;\n",
       "    }\n",
       "\n",
       "    .dataframe thead th {\n",
       "        text-align: right;\n",
       "    }\n",
       "</style>\n",
       "<table border=\"1\" class=\"dataframe\">\n",
       "  <thead>\n",
       "    <tr style=\"text-align: right;\">\n",
       "      <th></th>\n",
       "      <th>text</th>\n",
       "      <th>label</th>\n",
       "    </tr>\n",
       "  </thead>\n",
       "  <tbody>\n",
       "    <tr>\n",
       "      <td>0</td>\n",
       "      <td>Info has been found (+/- 100 pages,...</td>\n",
       "      <td>male,15,Student,Leo</td>\n",
       "    </tr>\n",
       "    <tr>\n",
       "      <td>1</td>\n",
       "      <td>These are the team members:   Drewe...</td>\n",
       "      <td>male,15,Student,Leo</td>\n",
       "    </tr>\n",
       "    <tr>\n",
       "      <td>2</td>\n",
       "      <td>In het kader van kernfusie op aarde...</td>\n",
       "      <td>male,15,Student,Leo</td>\n",
       "    </tr>\n",
       "    <tr>\n",
       "      <td>3</td>\n",
       "      <td>testing!!!  testing!!!</td>\n",
       "      <td>male,15,Student,Leo</td>\n",
       "    </tr>\n",
       "    <tr>\n",
       "      <td>4</td>\n",
       "      <td>Thanks to Yahoo!'s Toolbar I can ...</td>\n",
       "      <td>male,33,InvestmentBanking,Aquarius</td>\n",
       "    </tr>\n",
       "  </tbody>\n",
       "</table>\n",
       "</div>"
      ],
      "text/plain": [
       "                                                text  \\\n",
       "0             Info has been found (+/- 100 pages,...   \n",
       "1             These are the team members:   Drewe...   \n",
       "2             In het kader van kernfusie op aarde...   \n",
       "3                   testing!!!  testing!!!             \n",
       "4               Thanks to Yahoo!'s Toolbar I can ...   \n",
       "\n",
       "                                label  \n",
       "0                 male,15,Student,Leo  \n",
       "1                 male,15,Student,Leo  \n",
       "2                 male,15,Student,Leo  \n",
       "3                 male,15,Student,Leo  \n",
       "4  male,33,InvestmentBanking,Aquarius  "
      ]
     },
     "execution_count": 21,
     "metadata": {},
     "output_type": "execute_result"
    }
   ],
   "source": [
    "blog_data_sample.head()"
   ]
  },
  {
   "cell_type": "code",
   "execution_count": 25,
   "metadata": {},
   "outputs": [
    {
     "name": "stdout",
     "output_type": "stream",
     "text": [
      "text     5000\n",
      "label    5000\n",
      "dtype: int64\n",
      "(5000, 2)\n"
     ]
    }
   ],
   "source": [
    "print(blog_data_sample.count())\n",
    "print(blog_data_sample.shape)\n"
   ]
  },
  {
   "cell_type": "code",
   "execution_count": 36,
   "metadata": {},
   "outputs": [],
   "source": [
    "nlp = spacy.load('en_core_web_sm')\n",
    "l1 = ('Yay','btw','cool','Yahoo','legit','Hmmm','mmm','So...')\n",
    "nlp.Defaults.stop_words.add(l1)\n"
   ]
  },
  {
   "cell_type": "code",
   "execution_count": 14,
   "metadata": {},
   "outputs": [],
   "source": [
    "#for i in range(len(new_data.text)):\n",
    " #   new_data.text[i] = new_data.text[i].lower()"
   ]
  },
  {
   "cell_type": "code",
   "execution_count": 37,
   "metadata": {},
   "outputs": [
    {
     "data": {
      "text/plain": [
       "0                  Info has been found (+/- 100 pages,...\n",
       "1                  These are the team members:   Drewe...\n",
       "2                  In het kader van kernfusie op aarde...\n",
       "3                        testing!!!  testing!!!          \n",
       "4                    Thanks to Yahoo!'s Toolbar I can ...\n",
       "                              ...                        \n",
       "4995           So... I had another one of those dreams...\n",
       "4996           mmm... strawberry tea for breakfast. To...\n",
       "4997           Yay for a new layout!!  Yeah, I know, I...\n",
       "4998           Ok, so I lied... Fed up isn't playing F...\n",
       "4999           well, today I went to church and talked...\n",
       "Name: text, Length: 5000, dtype: object"
      ]
     },
     "execution_count": 37,
     "metadata": {},
     "output_type": "execute_result"
    }
   ],
   "source": [
    "blog_data_sample.text"
   ]
  },
  {
   "cell_type": "code",
   "execution_count": 16,
   "metadata": {},
   "outputs": [
    {
     "data": {
      "text/plain": [
       "text     object\n",
       "label    object\n",
       "dtype: object"
      ]
     },
     "execution_count": 16,
     "metadata": {},
     "output_type": "execute_result"
    }
   ],
   "source": [
    "new_data.dtypes"
   ]
  },
  {
   "cell_type": "code",
   "execution_count": 40,
   "metadata": {},
   "outputs": [
    {
     "name": "stdout",
     "output_type": "stream",
     "text": [
      "Wall time: 0 ns\n"
     ]
    }
   ],
   "source": [
    "for i in range(len(blog_data_sample.text)):\n",
    "    tokenizer = RegexpTokenizer(r'\\w+')\n",
    "    blog_data_sample.text[i] = blog_data_sample.text[i].lower()\n",
    "    word_tokens = tokenizer.tokenize(new_data.text[i])\n",
    "    filtered_sentence = [w for w in word_tokens if not w in stopwords.words('english')] \n",
    "    filtered_sentence = [] \n",
    "    for w in word_tokens: \n",
    "        if w not in (nlp.Defaults.stop_words or string.punctuation):\n",
    "\n",
    "            filtered_sentence.append(re.sub(r\"[^a-zA-Z0-9]+\", ' ',w ))\n",
    "   \n",
    "    blog_data_sample.text[i] = \" \".join(filtered_sentence)\n",
    "\n",
    "%time"
   ]
  },
  {
   "cell_type": "code",
   "execution_count": 41,
   "metadata": {},
   "outputs": [
    {
     "data": {
      "text/plain": [
       "0       info found 100 pages 4 5 mb pdf files wait unt...\n",
       "1       team members drewes van der laag urllink mail ...\n",
       "2       het kader van kernfusie op aarde maak je eigen...\n",
       "3                                         testing testing\n",
       "4       thanks yahoo s toolbar capture urls popups mea...\n",
       "                              ...                        \n",
       "4995    dreams night time telling fault bobby driving ...\n",
       "4996    mmm strawberry tea breakfast tomorrow think de...\n",
       "4997    yay new layout yeah know need complicated even...\n",
       "4998    ok lied fed isn t playing friday night underdo...\n",
       "4999    today went church talked music director half h...\n",
       "Name: text, Length: 5000, dtype: object"
      ]
     },
     "execution_count": 41,
     "metadata": {},
     "output_type": "execute_result"
    }
   ],
   "source": [
    "blog_data_sample.text"
   ]
  },
  {
   "cell_type": "code",
   "execution_count": 42,
   "metadata": {},
   "outputs": [],
   "source": [
    "X = blog_data_sample.text\n",
    "Y = blog_data_sample.label"
   ]
  },
  {
   "cell_type": "code",
   "execution_count": 43,
   "metadata": {},
   "outputs": [],
   "source": [
    "X_train, X_test, y_train, y_test = train_test_split(X, Y, random_state=524)"
   ]
  },
  {
   "cell_type": "code",
   "execution_count": 44,
   "metadata": {},
   "outputs": [
    {
     "name": "stdout",
     "output_type": "stream",
     "text": [
      "Wall time: 0 ns\n"
     ]
    }
   ],
   "source": [
    "def tokenize_test(vect):\n",
    "    X_train_dtm = vect.fit_transform(X_train)\n",
    "    print('Features: ', X_train_dtm.shape[1])\n",
    "    X_test_dtm = vect.transform(X_test)\n",
    "    nb = MultinomialNB()\n",
    "    nb.fit(X_train_dtm, y_train)\n",
    "    y_train_pred = nb.predict(X_train_dtm)\n",
    "    y_pred_class = nb.predict(X_test_dtm)\n",
    "    print('Train Accuracy for NB : ', metrics.accuracy_score(y_train,y_train_pred))\n",
    "    print('Test Accuracy for NB: ', metrics.accuracy_score(y_test, y_pred_class))\n",
    "    logreg = LogisticRegression(C=1e9)\n",
    "    logreg.fit(X_train_dtm, y_train)\n",
    "    y_pred_class_LR = logreg.predict(X_test_dtm)\n",
    "    y_train_LR = logreg.predict(X_train_dtm)\n",
    "    print('Train Accuracy for LR: ',metrics.accuracy_score(y_train, y_train_LR))\n",
    "    print('Test Accuracy for LR: ',metrics.accuracy_score(y_test, y_pred_class_LR))\n",
    "%time"
   ]
  },
  {
   "cell_type": "code",
   "execution_count": 45,
   "metadata": {},
   "outputs": [
    {
     "name": "stdout",
     "output_type": "stream",
     "text": [
      "Features:  234515\n",
      "Train Accuracy for NB :  0.8813333333333333\n",
      "Test Accuracy for NB:  0.5656\n"
     ]
    },
    {
     "name": "stderr",
     "output_type": "stream",
     "text": [
      "C:\\Users\\SUPERMAN1\\Anaconda3\\lib\\site-packages\\sklearn\\linear_model\\logistic.py:432: FutureWarning: Default solver will be changed to 'lbfgs' in 0.22. Specify a solver to silence this warning.\n",
      "  FutureWarning)\n",
      "C:\\Users\\SUPERMAN1\\Anaconda3\\lib\\site-packages\\sklearn\\linear_model\\logistic.py:469: FutureWarning: Default multi_class will be changed to 'auto' in 0.22. Specify the multi_class option to silence this warning.\n",
      "  \"this warning.\", FutureWarning)\n"
     ]
    },
    {
     "name": "stdout",
     "output_type": "stream",
     "text": [
      "Train Accuracy for LR:  0.9981333333333333\n",
      "Test Accuracy for LR:  0.64\n"
     ]
    }
   ],
   "source": [
    "# include 1-grams and 2-grams\n",
    "vect = CountVectorizer(ngram_range=(1, 2))\n",
    "tokenize_test(vect)"
   ]
  },
  {
   "cell_type": "code",
   "execution_count": 46,
   "metadata": {},
   "outputs": [
    {
     "name": "stdout",
     "output_type": "stream",
     "text": [
      "Features:  234515\n",
      "Train Accuracy for NB :  0.8813333333333333\n",
      "Test Accuracy for NB:  0.5656\n"
     ]
    }
   ],
   "source": [
    "X_train_dtm = vect.fit_transform(X_train)\n",
    "print('Features: ', X_train_dtm.shape[1])\n",
    "X_test_dtm = vect.transform(X_test)\n",
    "nb = MultinomialNB()\n",
    "nb.fit(X_train_dtm, y_train)\n",
    "y_train_pred = nb.predict(X_train_dtm)\n",
    "y_pred_class = nb.predict(X_test_dtm)\n",
    "print('Train Accuracy for NB : ', metrics.accuracy_score(y_train,y_train_pred))\n",
    "print('Test Accuracy for NB: ', metrics.accuracy_score(y_test, y_pred_class))"
   ]
  },
  {
   "cell_type": "code",
   "execution_count": 47,
   "metadata": {},
   "outputs": [
    {
     "name": "stdout",
     "output_type": "stream",
     "text": [
      "['000 employees', '000 english', '000 far', '000 fighter', '000 financial', '000 flights', '000 ground', '000 guess', '000 human', '000 insurance', '000 jesus', '000 jobs', '000 layers', '000 like', '000 loan', '000 microsoft', '000 miles', '000 month', '000 new', '000 order', '000 payment', '000 people', '000 pledge', '000 points', '000 pound', '000 relief', '000 rich', '000 slaughtered', '000 square', '000 strangers', '000 tanks', '000 texas', '000 times', '000 troops', '000 turn', '000 urllink', '000 usd', '000 votes', '000 wants', '000 won', '000 year', '000 years', '000 yes', '000058', '000058 html', '000miles', '000miles away', '000th', '000th time', '001', '001 dollars', '001 jillian', '002', '002 middle', '003', '003 love', '004', '004 nickname', '005', '005 gender', '006', '006 age', '007', '007 birthday', '007 jersey', '008', '008 height', '009', '009 hair', '00am', '00am know', '00am ride', '00pm', '00pm especially', '00pm figured', '00pm hahahhahaha', '01', '01 08', '01 22', '01 known', '01 role', '010', '010 eye', '010203', '010203 hehehe', '011', '011 race', '012', '012 glasses', '01234', '01234 time', '0128', '0128 euro', '013', '013 braces', '014', '014 949', '014 hair', '015', '015 born', '016', '016 current', '017', '017 zodiac', '018', '018 languages', '019', '019 nationality', '02', '02 00', '02 18', '02 23', '02 25', '02 added', '02 argue', '02 faced', '02 ll', '02 lott', '02 personal', '02 pet', '02 republicans', '02 statement', '02 took', '02 urllink', '020', '020 bad', '021', '021 piercings', '022', '022 piercings', '023', '023 tattoos', '024', '024 tattoos', '025', '025 today', '0251', '0251 lee', '026', '026 time', '027', '027 ready', '028', '028 mother', '029', '029 father', '03', '03 03', '03 10', '03 11', '03 13', '03 15', '03 16', '03 22', '03 41', '03 afternoon', '03 calvin', '03 chewbacca', '03 god', '03 harmony', '03 hate', '03 knows', '03 love', '03 pass', '03 pm', '03 sarah', '03 sigh', '03 won', '03 world', '03 wouldn', '030', '030 step', '031', '031 brother', '031120', '031120 482', '032', '032 sister', '0327554', '033', '033 favorite', '034', '034 favorite', '0346', '0346 otis', '035', '035 favorite', '036', '036 worst', '037', '037 best', '038', '038 parents', '039', '039 family', '04', '04 10', '04 16', '04 19', '04 added', '04 apocalypse', '04 asses', '04 brainer', '04 bush', '04 cia', '04 climate', '04 compassionate', '04 don', '04 economy', '04 email', '04 gooder', '04 heart', '04 leave', '04 liked', '04 making', '04 president', '04 putting', '04 thanks', '04 time', '04 trustworthy', '04 truth', '04 vote', '04 wars', '04 yes', '040', '040 pets', '041', '041 names', '042', '042 kind', '043', '043 school', '044', '044 drop', '045', '045 current', '046', '046 favorite', '047', '047 favorite', '048', '048 favorite', '049', '049 favorite', '05', '05 07', '05 08', '05 11', '05 13', '05 16', '05 29', '05 31', '05 35', '05 44', '05 cried', '05 drugwar', '05 jul', '05 makes', '05 quickly', '05 short', '050', '050 favorite', '051', '051 favorite', '052', '052 buy', '053', '053 play', '054', '054 extracurricular', '055', '055 popular', '056', '056 favorite', '057', '057 favorite', '058', '058 favorite', '059', '059 favorite', '06', '06 03', '06 04', '06 05', '06 07', '06 09', '06 10', '06 11', '06 12', '06 13', '06 hard', '06 pm', '06 type', '060', '060 humiliating', '061', '061 number', '062', '062 clothing', '063', '063 shoes', '064', '064 saying', '065', '065 tv', '066', '066 sport', '067', '067 vegetable', '068', '068 480', '068 fruit', '069', '069 movie', '06th', '06th 1987', '07', '07 07', '07 20', '07 2004', '07 21', '07 24', '07 26', '07 29', '07 46', '07 climate', '07 lied', '07 man', '07 wow', '070', '070 magazine', '071', '071 actor', '072', '072 actress', '073', '073 candy', '074', '074 gum', '075', '075 scent', '076', '076 candy', '077', '077 ice', '078', '078 color', '079', '079 season', '08', '08 12', '08 13', '08 29', '08 30am', '08 60ii', '08 contact', '08 gots', '08 said', '08 sensitive', '08 wanted', '080', '080 holiday', '081', '081 band', '082', '082 singer', '083', '083 group', '084', '084 rapper', '085', '085 type', '086', '086 thing', '087', '087 place', '088', '088 radio', '089', '089 tv', '09', '09 11', '09 15', '09 26', '09 cheated', '09 coolest', '09 politics', '090', '090 junk', '090653', '090653 html', '091', '091 overall', '092', '092 store', '093', '093 shoe', '094', '094 fast', '095', '095 restaurant', '096', '096 shape', '097', '097 time', '098', '098 country', '099', '099 state', '09comp', '09comp html', '10', '10 00', '10 000', '10 000th', '10 11', '10 12', '10 13', '10 14', '10 15', '10 15am', '10 16', '10 20', '10 22', '10 23', '10 27', '10 29', '10 30', '10 30am', '10 318', '10 45', '10 45am', '10 45pm', '10 950', '10 advertising', '10 best', '10 bible', '10 bucks', '10 cats', '10 clock', '10 collect', '10 come', '10 comeing', '10 coolest', '10 cs', '10 cut', '10 days', '10 dec', '10 didn', '10 difficulty']\n"
     ]
    }
   ],
   "source": [
    "feature_names = vect.get_feature_names()\n",
    "print(feature_names[50:500])"
   ]
  },
  {
   "cell_type": "code",
   "execution_count": 48,
   "metadata": {},
   "outputs": [
    {
     "data": {
      "text/plain": [
       "4245    female,34,indUnk,Sagittarius\n",
       "3217        male,35,Technology,Aries\n",
       "4948        female,17,indUnk,Scorpio\n",
       "3106        male,35,Technology,Aries\n",
       "Name: label, dtype: object"
      ]
     },
     "execution_count": 48,
     "metadata": {},
     "output_type": "execute_result"
    }
   ],
   "source": [
    "y_train.head(4)"
   ]
  },
  {
   "cell_type": "code",
   "execution_count": 49,
   "metadata": {},
   "outputs": [],
   "source": [
    "d = {}"
   ]
  },
  {
   "cell_type": "code",
   "execution_count": 50,
   "metadata": {},
   "outputs": [],
   "source": [
    "d = y_train.apply(lambda x : pd.value_counts(x.split(\",\"))).sum(axis = 0).to_dict()"
   ]
  },
  {
   "cell_type": "code",
   "execution_count": 52,
   "metadata": {},
   "outputs": [],
   "source": [
    "mlb = MultiLabelBinarizer()"
   ]
  },
  {
   "cell_type": "code",
   "execution_count": 53,
   "metadata": {},
   "outputs": [],
   "source": [
    "y_train_mlb = mlb.fit_transform(y_train)"
   ]
  },
  {
   "cell_type": "code",
   "execution_count": 54,
   "metadata": {},
   "outputs": [],
   "source": [
    "y_test_mlb = mlb.transform(y_test)"
   ]
  },
  {
   "cell_type": "code",
   "execution_count": 56,
   "metadata": {},
   "outputs": [],
   "source": [
    "LR = LogisticRegression(solver = 'lbfgs',random_state= 111)"
   ]
  },
  {
   "cell_type": "code",
   "execution_count": 57,
   "metadata": {},
   "outputs": [],
   "source": [
    "clf = OneVsRestClassifier(LR)"
   ]
  },
  {
   "cell_type": "code",
   "execution_count": 58,
   "metadata": {},
   "outputs": [],
   "source": [
    "names = vect.get_feature_names()"
   ]
  },
  {
   "cell_type": "code",
   "execution_count": 59,
   "metadata": {},
   "outputs": [
    {
     "data": {
      "text/plain": [
       "array([[1, 0, 0, ..., 0, 0, 0],\n",
       "       [1, 0, 0, ..., 0, 0, 1],\n",
       "       [1, 0, 1, ..., 0, 0, 0],\n",
       "       ...,\n",
       "       [1, 0, 0, ..., 0, 0, 1],\n",
       "       [1, 0, 0, ..., 0, 0, 0],\n",
       "       [1, 0, 0, ..., 0, 0, 0]])"
      ]
     },
     "execution_count": 59,
     "metadata": {},
     "output_type": "execute_result"
    }
   ],
   "source": [
    "y_train_mlb"
   ]
  },
  {
   "cell_type": "code",
   "execution_count": 60,
   "metadata": {},
   "outputs": [
    {
     "name": "stderr",
     "output_type": "stream",
     "text": [
      "C:\\Users\\SUPERMAN1\\Anaconda3\\lib\\site-packages\\sklearn\\multiclass.py:76: UserWarning: Label 0 is present in all training examples.\n",
      "  str(classes[c]))\n",
      "C:\\Users\\SUPERMAN1\\Anaconda3\\lib\\site-packages\\sklearn\\multiclass.py:76: UserWarning: Label 25 is present in all training examples.\n",
      "  str(classes[c]))\n",
      "C:\\Users\\SUPERMAN1\\Anaconda3\\lib\\site-packages\\sklearn\\multiclass.py:76: UserWarning: Label 29 is present in all training examples.\n",
      "  str(classes[c]))\n",
      "C:\\Users\\SUPERMAN1\\Anaconda3\\lib\\site-packages\\sklearn\\multiclass.py:76: UserWarning: Label 35 is present in all training examples.\n",
      "  str(classes[c]))\n",
      "C:\\Users\\SUPERMAN1\\Anaconda3\\lib\\site-packages\\sklearn\\multiclass.py:76: UserWarning: Label 36 is present in all training examples.\n",
      "  str(classes[c]))\n"
     ]
    },
    {
     "name": "stdout",
     "output_type": "stream",
     "text": [
      "Wall time: 0 ns\n"
     ]
    }
   ],
   "source": [
    "clf.fit(X_train_dtm,y_train_mlb)\n",
    "%time"
   ]
  },
  {
   "cell_type": "code",
   "execution_count": 61,
   "metadata": {},
   "outputs": [],
   "source": [
    "y_pred_clf = clf.predict(X_test_dtm)"
   ]
  },
  {
   "cell_type": "code",
   "execution_count": 62,
   "metadata": {},
   "outputs": [
    {
     "name": "stdout",
     "output_type": "stream",
     "text": [
      "0.4832\n"
     ]
    }
   ],
   "source": [
    "print(metrics.accuracy_score(y_test_mlb,y_pred_clf))"
   ]
  },
  {
   "cell_type": "code",
   "execution_count": 65,
   "metadata": {},
   "outputs": [
    {
     "name": "stdout",
     "output_type": "stream",
     "text": [
      "              precision    recall  f1-score   support\n",
      "\n",
      "           0       1.00      1.00      1.00      1250\n",
      "           1       0.75      0.27      0.39        45\n",
      "           2       0.86      0.47      0.61       236\n",
      "           3       0.65      0.35      0.45       236\n",
      "           4       0.85      0.91      0.88       805\n",
      "           5       0.85      0.50      0.63       267\n",
      "           6       0.84      0.86      0.85       739\n",
      "           7       0.20      0.02      0.03        53\n",
      "           8       0.79      0.21      0.33       111\n",
      "           9       0.00      0.00      0.00        23\n",
      "          10       0.83      0.86      0.85       711\n",
      "          11       1.00      0.32      0.48        41\n",
      "          12       0.67      0.22      0.33        64\n",
      "          13       0.76      0.20      0.32        65\n",
      "          14       0.00      0.00      0.00        24\n",
      "          15       0.87      0.48      0.62        27\n",
      "          16       0.70      0.32      0.44       163\n",
      "          17       0.00      0.00      0.00        14\n",
      "          18       1.00      0.14      0.25         7\n",
      "          19       0.50      0.06      0.11        17\n",
      "          20       0.89      0.31      0.46        26\n",
      "          21       0.82      0.58      0.68       423\n",
      "          22       0.84      0.86      0.85       616\n",
      "          23       0.80      0.47      0.59       335\n",
      "          24       1.00      0.08      0.14        13\n",
      "          25       1.00      1.00      1.00      1250\n",
      "          26       0.84      0.31      0.45       116\n",
      "          27       0.88      0.90      0.89       817\n",
      "          28       0.85      0.67      0.75       520\n",
      "          29       1.00      1.00      1.00      1250\n",
      "          30       0.85      0.66      0.74       413\n",
      "          31       0.85      0.90      0.87       825\n",
      "          32       0.85      0.89      0.87       590\n",
      "          33       0.97      1.00      0.98      1208\n",
      "          34       0.82      0.50      0.62       358\n",
      "          35       1.00      1.00      1.00      1250\n",
      "          36       1.00      1.00      1.00      1250\n",
      "          37       1.00      1.00      1.00      1245\n",
      "          38       0.86      0.90      0.88       819\n",
      "          39       0.82      0.14      0.24       127\n",
      "          40       0.70      0.24      0.36        80\n",
      "          41       0.94      0.99      0.97      1170\n",
      "          42       0.86      0.95      0.91       951\n",
      "          43       0.82      0.65      0.72       400\n",
      "          44       0.81      0.64      0.71       396\n",
      "          45       1.00      0.35      0.52        40\n",
      "          46       0.00      0.00      0.00         0\n",
      "          47       0.85      0.89      0.87       590\n",
      "\n",
      "   micro avg       0.91      0.86      0.88     21976\n",
      "   macro avg       0.77      0.54      0.60     21976\n",
      "weighted avg       0.90      0.86      0.87     21976\n",
      " samples avg       0.91      0.85      0.88     21976\n",
      "\n"
     ]
    },
    {
     "name": "stderr",
     "output_type": "stream",
     "text": [
      "C:\\Users\\SUPERMAN1\\Anaconda3\\lib\\site-packages\\sklearn\\metrics\\classification.py:1437: UndefinedMetricWarning: Precision and F-score are ill-defined and being set to 0.0 in labels with no predicted samples.\n",
      "  'precision', 'predicted', average, warn_for)\n",
      "C:\\Users\\SUPERMAN1\\Anaconda3\\lib\\site-packages\\sklearn\\metrics\\classification.py:1439: UndefinedMetricWarning: Recall and F-score are ill-defined and being set to 0.0 in labels with no true samples.\n",
      "  'recall', 'true', average, warn_for)\n"
     ]
    }
   ],
   "source": [
    "print(classification_report(y_test_mlb, y_pred_clf))"
   ]
  },
  {
   "cell_type": "code",
   "execution_count": 66,
   "metadata": {},
   "outputs": [
    {
     "data": {
      "text/plain": [
       "0.8349521666813599"
      ]
     },
     "execution_count": 66,
     "metadata": {},
     "output_type": "execute_result"
    }
   ],
   "source": [
    "metrics.average_precision_score(y_test_mlb, y_pred_clf,average='micro')"
   ]
  },
  {
   "cell_type": "code",
   "execution_count": 67,
   "metadata": {},
   "outputs": [
    {
     "data": {
      "text/plain": [
       "0.8563887877684747"
      ]
     },
     "execution_count": 67,
     "metadata": {},
     "output_type": "execute_result"
    }
   ],
   "source": [
    "metrics.recall_score(y_test_mlb, y_pred_clf, labels=None, pos_label=1, average='micro', sample_weight=None)"
   ]
  },
  {
   "cell_type": "code",
   "execution_count": 68,
   "metadata": {},
   "outputs": [
    {
     "data": {
      "text/plain": [
       "array([[1, 0, 0, 0, 1, 0, 1, 0, 0, 0, 1, 0, 0, 0, 0, 0, 0, 0, 0, 0, 0, 0,\n",
       "        1, 0, 0, 1, 0, 1, 0, 1, 0, 1, 1, 1, 0, 1, 1, 1, 1, 0, 0, 1, 1, 0,\n",
       "        0, 0, 0, 1],\n",
       "       [1, 0, 0, 0, 1, 1, 0, 0, 0, 0, 0, 0, 0, 0, 0, 0, 0, 0, 0, 0, 0, 1,\n",
       "        0, 1, 0, 1, 0, 0, 1, 1, 1, 1, 0, 1, 1, 1, 1, 1, 0, 0, 0, 1, 1, 1,\n",
       "        1, 0, 0, 0],\n",
       "       [1, 0, 0, 0, 1, 0, 1, 0, 0, 0, 1, 0, 0, 0, 0, 0, 0, 0, 0, 0, 0, 0,\n",
       "        1, 0, 0, 1, 0, 1, 0, 1, 0, 1, 1, 1, 0, 1, 1, 1, 1, 0, 0, 1, 1, 0,\n",
       "        0, 0, 0, 1],\n",
       "       [1, 0, 0, 0, 1, 0, 1, 0, 0, 0, 1, 0, 0, 0, 0, 0, 0, 0, 0, 0, 0, 0,\n",
       "        1, 0, 0, 1, 0, 1, 0, 1, 0, 1, 1, 1, 0, 1, 1, 1, 1, 0, 0, 1, 1, 0,\n",
       "        0, 0, 0, 1],\n",
       "       [1, 0, 1, 0, 0, 0, 0, 0, 0, 0, 0, 0, 0, 0, 0, 0, 1, 0, 0, 0, 0, 1,\n",
       "        0, 0, 0, 1, 1, 0, 1, 1, 1, 0, 0, 1, 0, 1, 1, 1, 0, 0, 0, 1, 0, 1,\n",
       "        1, 0, 0, 0]])"
      ]
     },
     "execution_count": 68,
     "metadata": {},
     "output_type": "execute_result"
    }
   ],
   "source": [
    "y_pred_clf[10:15]"
   ]
  },
  {
   "cell_type": "code",
   "execution_count": 70,
   "metadata": {},
   "outputs": [
    {
     "data": {
      "text/plain": [
       "array([[1, 0, 0, 0, 1, 0, 1, 0, 0, 0, 1, 0, 0, 0, 0, 0, 0, 0, 0, 0, 0, 0,\n",
       "        1, 0, 0, 1, 0, 1, 0, 1, 0, 1, 1, 1, 0, 1, 1, 1, 1, 0, 0, 1, 1, 0,\n",
       "        0, 0, 0, 1],\n",
       "       [1, 0, 0, 0, 1, 1, 0, 0, 0, 0, 0, 0, 0, 0, 0, 0, 0, 0, 0, 0, 0, 1,\n",
       "        0, 1, 0, 1, 0, 0, 1, 1, 1, 1, 0, 1, 1, 1, 1, 1, 0, 0, 0, 1, 1, 1,\n",
       "        1, 0, 0, 0],\n",
       "       [1, 0, 0, 0, 1, 0, 1, 0, 0, 0, 1, 0, 0, 0, 0, 0, 0, 0, 0, 0, 0, 0,\n",
       "        1, 0, 0, 1, 0, 1, 0, 1, 0, 1, 1, 1, 0, 1, 1, 1, 1, 0, 0, 1, 1, 0,\n",
       "        0, 0, 0, 1],\n",
       "       [1, 0, 1, 0, 0, 0, 1, 0, 0, 0, 0, 0, 1, 0, 0, 0, 0, 0, 0, 0, 0, 1,\n",
       "        0, 0, 0, 1, 0, 1, 1, 1, 1, 0, 0, 0, 0, 1, 1, 1, 0, 0, 0, 1, 0, 1,\n",
       "        1, 0, 0, 0],\n",
       "       [1, 0, 1, 0, 0, 0, 1, 0, 0, 0, 0, 0, 0, 0, 0, 0, 1, 0, 0, 0, 0, 1,\n",
       "        0, 0, 0, 1, 1, 0, 1, 1, 1, 0, 0, 1, 0, 1, 1, 1, 0, 0, 0, 1, 0, 1,\n",
       "        1, 0, 0, 0]])"
      ]
     },
     "execution_count": 70,
     "metadata": {},
     "output_type": "execute_result"
    }
   ],
   "source": [
    "y_test_mlb[10:15]"
   ]
  }
 ],
 "metadata": {
  "kernelspec": {
   "display_name": "Python 3",
   "language": "python",
   "name": "python3"
  },
  "language_info": {
   "codemirror_mode": {
    "name": "ipython",
    "version": 3
   },
   "file_extension": ".py",
   "mimetype": "text/x-python",
   "name": "python",
   "nbconvert_exporter": "python",
   "pygments_lexer": "ipython3",
   "version": "3.6.5"
  }
 },
 "nbformat": 4,
 "nbformat_minor": 2
}
