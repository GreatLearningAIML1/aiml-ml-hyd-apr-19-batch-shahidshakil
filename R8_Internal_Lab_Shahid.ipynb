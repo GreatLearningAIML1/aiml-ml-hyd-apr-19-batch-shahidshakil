{
  "nbformat": 4,
  "nbformat_minor": 0,
  "metadata": {
    "accelerator": "GPU",
    "colab": {
      "name": ".~R8_Internal_Lab_Questions-HYD_AIML_Nov18-1.ipynb",
      "provenance": [],
      "collapsed_sections": []
    },
    "kernelspec": {
      "display_name": "Python 3",
      "language": "python",
      "name": "python3"
    },
    "language_info": {
      "codemirror_mode": {
        "name": "ipython",
        "version": 3
      },
      "file_extension": ".py",
      "mimetype": "text/x-python",
      "name": "python",
      "nbconvert_exporter": "python",
      "pygments_lexer": "ipython3",
      "version": "3.6.5"
    }
  },
  "cells": [
    {
      "cell_type": "markdown",
      "metadata": {
        "colab_type": "text",
        "id": "NFfDTfhlaEI_"
      },
      "source": [
        "# Transfer Learning MNIST"
      ]
    },
    {
      "cell_type": "markdown",
      "metadata": {
        "colab_type": "text",
        "id": "rNwbqCFRaEJC"
      },
      "source": [
        "* Train a simple convnet on the MNIST dataset the first 5 digits [0..4].\n",
        "* Freeze convolutional layers and fine-tune dense layers for the classification of digits [5..9]."
      ]
    },
    {
      "cell_type": "markdown",
      "metadata": {
        "colab_type": "text",
        "id": "IXrn3heBaEJa"
      },
      "source": [
        "### Import MNIST data and create 2 datasets with one dataset having digits from 0 to 4 and other from 5 to 9 "
      ]
    },
    {
      "cell_type": "markdown",
      "metadata": {
        "colab_type": "text",
        "id": "poVVTgTMndNA"
      },
      "source": [
        "#### Import the mnist dataset from keras datasets"
      ]
    },
    {
      "cell_type": "code",
      "metadata": {
        "colab_type": "code",
        "id": "pjDuiK6ztgOK",
        "colab": {}
      },
      "source": [
        "import tensorflow as tf\n",
        "import numpy as np\n",
        "import keras\n",
        "import pandas as pd\n",
        "from keras.models import Sequential\n",
        "from keras.layers import Dense, Dropout, Flatten\n",
        "from keras.layers import Conv2D, MaxPooling2D\n",
        "from sklearn import metrics\n",
        "from sklearn.metrics import classification_report\n",
        "from tensorflow import keras\n",
        "import tensorflow as tf\n",
        "import numpy as np\n",
        "tf.reset_default_graph()\n",
        "tf.set_random_seed(42)"
      ],
      "execution_count": 0,
      "outputs": []
    },
    {
      "cell_type": "markdown",
      "metadata": {
        "colab_type": "text",
        "id": "KMOJ66rpnh6C"
      },
      "source": [
        "#### Creating two datasets one with digits below 5 and one with 5 and above"
      ]
    },
    {
      "cell_type": "code",
      "metadata": {
        "colab_type": "code",
        "id": "Xa33p7rdniFx",
        "colab": {}
      },
      "source": [
        "(x_train, y_train), (x_test, y_test) = tf.keras.datasets.mnist.load_data()\n",
        "x_train_lt5 = x_train[y_train < 5]\n",
        "y_train_lt5 = y_train[y_train < 5]\n",
        "x_test_lt5 = x_test[y_test < 5]\n",
        "y_test_lt5 = y_test[y_test < 5]\n",
        "\n",
        "x_train_gt5 = x_train[y_train >= 5]\n",
        "y_train_gt5 = y_train[y_train >= 5] - 5  # make classes start at 0 for\n",
        "x_test_gt5 = x_test[y_test >= 5]         # np_utils.to_categorical\n",
        "y_test_gt5 = y_test[y_test >= 5] - 5"
      ],
      "execution_count": 0,
      "outputs": []
    },
    {
      "cell_type": "markdown",
      "metadata": {
        "colab_type": "text",
        "id": "9qU14lYL9A5g"
      },
      "source": [
        "### Check \n",
        "\n",
        "Verify shapes of x_train, y_train, x_test and y_test for both the datasets with the below given shapes."
      ]
    },
    {
      "cell_type": "code",
      "metadata": {
        "colab_type": "code",
        "id": "9cx1YQbCor2r",
        "colab": {
          "base_uri": "https://localhost:8080/",
          "height": 84
        },
        "outputId": "57a3f90c-41e2-417f-fcb4-35944006a0b7"
      },
      "source": [
        "print(x_train.shape)\n",
        "print(y_train.shape)\n",
        "print(x_test.shape)\n",
        "print(y_test.shape)"
      ],
      "execution_count": 148,
      "outputs": [
        {
          "output_type": "stream",
          "text": [
            "(60000, 28, 28)\n",
            "(60000,)\n",
            "(10000, 28, 28)\n",
            "(10000,)\n"
          ],
          "name": "stdout"
        }
      ]
    },
    {
      "cell_type": "code",
      "metadata": {
        "colab_type": "code",
        "id": "Z9OrszhJ0SgJ",
        "outputId": "7385d11d-6c18-4779-d623-d185bda59514",
        "colab": {
          "base_uri": "https://localhost:8080/",
          "height": 84
        }
      },
      "source": [
        "print(x_train_lt5.shape)\n",
        "print(y_train_lt5.shape)\n",
        "print(x_test_lt5.shape)\n",
        "print(y_test_lt5.shape)"
      ],
      "execution_count": 149,
      "outputs": [
        {
          "output_type": "stream",
          "text": [
            "(30596, 28, 28)\n",
            "(30596,)\n",
            "(5139, 28, 28)\n",
            "(5139,)\n"
          ],
          "name": "stdout"
        }
      ]
    },
    {
      "cell_type": "code",
      "metadata": {
        "colab_type": "code",
        "id": "sJswV4xk9jQS",
        "outputId": "a2ea05d4-a58d-4a1c-a777-500367394d9d",
        "colab": {
          "base_uri": "https://localhost:8080/",
          "height": 84
        }
      },
      "source": [
        "print(x_train_gt5.shape)\n",
        "print(y_train_gt5.shape)\n",
        "print(x_test_gt5.shape)\n",
        "print(y_test_gt5.shape)"
      ],
      "execution_count": 150,
      "outputs": [
        {
          "output_type": "stream",
          "text": [
            "(29404, 28, 28)\n",
            "(29404,)\n",
            "(4861, 28, 28)\n",
            "(4861,)\n"
          ],
          "name": "stdout"
        }
      ]
    },
    {
      "cell_type": "markdown",
      "metadata": {
        "colab_type": "text",
        "id": "cB9BPFzr9oDF"
      },
      "source": [
        "### Let us take only the dataset (x_train, y_train, x_test, y_test) for Integers 0 to 4 in MNIST\n",
        "### Reshape x_train and x_test to a 4 Dimensional array (channel = 1) to pass it into a Conv2D layer"
      ]
    },
    {
      "cell_type": "code",
      "metadata": {
        "colab_type": "code",
        "id": "FlQRPfFzaEJx",
        "colab": {}
      },
      "source": [
        "x_train_lt5 = x_train_lt5.reshape(len(x_train_lt5),28,28,1)\n",
        "x_train_gt5 = x_train_gt5.reshape(len(x_train_gt5),28,28,1)\n",
        "x_test_lt5 = x_test_lt5.reshape(len(x_test_lt5),28,28,1)\n",
        "x_test_gt5 = x_test_gt5.reshape(len(x_test_gt5),28,28,1)"
      ],
      "execution_count": 0,
      "outputs": []
    },
    {
      "cell_type": "markdown",
      "metadata": {
        "colab_type": "text",
        "id": "jLQr-b3F-hw8"
      },
      "source": [
        "### Change into float32 datatype and Normalize x_train and x_test by dividing it by 255.0"
      ]
    },
    {
      "cell_type": "code",
      "metadata": {
        "colab_type": "code",
        "id": "PlEZIAG5-g2I",
        "colab": {}
      },
      "source": [
        "x_train_lt5 = x_train_lt5/255\n",
        "x_test_lt5 = x_test_lt5/255"
      ],
      "execution_count": 0,
      "outputs": []
    },
    {
      "cell_type": "markdown",
      "metadata": {
        "colab_type": "text",
        "id": "ZSQrJFHgocNA"
      },
      "source": [
        "### Check\n",
        "\n",
        "Verify the shapes of the X_train and X_test with the shapes given below."
      ]
    },
    {
      "cell_type": "markdown",
      "metadata": {
        "id": "yjRU0HeplYzA",
        "colab_type": "text"
      },
      "source": [
        ""
      ]
    },
    {
      "cell_type": "code",
      "metadata": {
        "colab_type": "code",
        "id": "0EdVW3SwpG5g",
        "colab": {
          "base_uri": "https://localhost:8080/",
          "height": 84
        },
        "outputId": "b9aa38e9-ae98-415a-a4bd-a261166018bb"
      },
      "source": [
        "print('x_train_lt5' ,x_train_lt5.shape)\n",
        "print('x_train_gt5' , x_train_gt5.shape)\n",
        "print('x_test_lt5', x_test_lt5.shape)\n",
        "print('x_test_gt5', x_test_gt5.shape)"
      ],
      "execution_count": 153,
      "outputs": [
        {
          "output_type": "stream",
          "text": [
            "x_train_lt5 (30596, 28, 28, 1)\n",
            "x_train_gt5 (29404, 28, 28, 1)\n",
            "x_test_lt5 (5139, 28, 28, 1)\n",
            "x_test_gt5 (4861, 28, 28, 1)\n"
          ],
          "name": "stdout"
        }
      ]
    },
    {
      "cell_type": "code",
      "metadata": {
        "colab_type": "code",
        "id": "utZ2zrpDoej9",
        "outputId": "563bbac2-eab5-4a1a-c350-fd561738cb48",
        "colab": {
          "base_uri": "https://localhost:8080/",
          "height": 50
        }
      },
      "source": [
        "print('X_train shape:', x_train_lt5.shape)\n",
        "print('X_test shape:', x_test_lt5.shape)"
      ],
      "execution_count": 154,
      "outputs": [
        {
          "output_type": "stream",
          "text": [
            "X_train shape: (30596, 28, 28, 1)\n",
            "X_test shape: (5139, 28, 28, 1)\n"
          ],
          "name": "stdout"
        }
      ]
    },
    {
      "cell_type": "markdown",
      "metadata": {
        "colab_type": "text",
        "id": "pytVBaw4-vMi"
      },
      "source": [
        "### Use One-hot encoding to divide y_train and y_test into required no of output classes"
      ]
    },
    {
      "cell_type": "code",
      "metadata": {
        "colab_type": "code",
        "id": "V48xiua4-uUi",
        "colab": {}
      },
      "source": [
        "y_train_lt5  = keras.utils.to_categorical(y_train_lt5, 5)\n",
        "y_test_lt5 = keras.utils.to_categorical(y_test_lt5 , 5)"
      ],
      "execution_count": 0,
      "outputs": []
    },
    {
      "cell_type": "markdown",
      "metadata": {
        "colab_type": "text",
        "id": "elPkI44g_C2b"
      },
      "source": [
        "### Build a sequential model with 2 Convolutional layers with 32 kernels of size (3,3) followed by a Max pooling layer of size (2,2) followed by a drop out layer to be trained for classification of digits 0-4  "
      ]
    },
    {
      "cell_type": "code",
      "metadata": {
        "colab_type": "code",
        "id": "nOeyulnRp1Hp",
        "colab": {}
      },
      "source": [
        "model = Sequential()\n",
        "\n",
        "#Add a Convolutional Layer with 32 filters of size 3X3 and activation function as 'ReLU' \n",
        "model.add(Conv2D(32, kernel_size=(3, 3),\n",
        "                 activation='relu',\n",
        "                 input_shape=(28,28,1),name='conv_1'))\n",
        "\n",
        "#Add a Convolutional Layer with 64 filters of size 3X3 and activation function as 'ReLU' \n",
        "model.add(Conv2D(32, (3, 3), activation='relu',name='conv_2'))\n",
        "\n",
        "#Add a MaxPooling Layer of size 2X2 \n",
        "model.add(MaxPooling2D(pool_size=(2, 2),name='max_1'))\n",
        "\n",
        "#Apply Dropout with 0.25 probability \n",
        "model.add(Dropout(0.25,name='drop_1'))"
      ],
      "execution_count": 0,
      "outputs": []
    },
    {
      "cell_type": "code",
      "metadata": {
        "colab_type": "code",
        "id": "MU09mm9F89gO",
        "colab": {}
      },
      "source": [
        ""
      ],
      "execution_count": 0,
      "outputs": []
    },
    {
      "cell_type": "markdown",
      "metadata": {
        "colab_type": "text",
        "id": "sJQaycRO_3Au"
      },
      "source": [
        "### Post that flatten the data and add 2 Dense layers with 128 neurons and neurons = output classes with activation = 'relu' and 'softmax' respectively. Add dropout layer inbetween if necessary  "
      ]
    },
    {
      "cell_type": "code",
      "metadata": {
        "colab_type": "code",
        "id": "vOZeRbK7t9AT",
        "colab": {}
      },
      "source": [
        "#Flatten the layer\n",
        "model.add(Flatten())\n",
        "\n",
        "#Add Fully Connected Layer with 128 units and activation function as 'ReLU'\n",
        "model.add(Dense(128, activation='relu',name='dense_1'))\n",
        "\n",
        "#Apply Dropout with 0.5 probability \n",
        "model.add(Dropout(0.5,name='drop_2'))\n",
        "\n",
        "#Add Fully Connected Layer with 10 units and activation function as 'softmax'\n",
        "model.add(Dense(5, activation='softmax',name='dense_3'))"
      ],
      "execution_count": 0,
      "outputs": []
    },
    {
      "cell_type": "markdown",
      "metadata": {
        "colab_type": "text",
        "id": "my1P09bxAv8H"
      },
      "source": [
        "### Print the training and test accuracy for 5 epochs"
      ]
    },
    {
      "cell_type": "code",
      "metadata": {
        "colab_type": "code",
        "id": "yf7F8Gdutbf0",
        "colab": {
          "base_uri": "https://localhost:8080/",
          "height": 202
        },
        "outputId": "d78de2a5-1a64-41a9-aa68-1530d0427dd9"
      },
      "source": [
        "from keras.optimizers import Adam\n",
        "from keras.losses import categorical_crossentropy\n",
        "\n",
        "#To use adam optimizer for learning weights with learning rate = 0.001\n",
        "optimizer = Adam(lr=0.001)\n",
        "#Set the loss function and optimizer for the model training\n",
        "model.compile(loss=categorical_crossentropy,\n",
        "              optimizer=optimizer,\n",
        "              metrics=['accuracy'])\n",
        "#Training on the dataset\n",
        "model.fit(x_train_lt5, y_train_lt5,\n",
        "          batch_size=100,\n",
        "          epochs=5,\n",
        "          verbose=1,\n",
        "          validation_data=(x_test_lt5, y_test_lt5))\n",
        "predictions_train = model.predict(x_train_lt5)\n",
        "predictions_test = model.predict(x_test_lt5)"
      ],
      "execution_count": 158,
      "outputs": [
        {
          "output_type": "stream",
          "text": [
            "Train on 30596 samples, validate on 5139 samples\n",
            "Epoch 1/5\n",
            "30596/30596 [==============================] - 4s 136us/step - loss: 0.0076 - acc: 0.9972 - val_loss: 0.0066 - val_acc: 0.9981\n",
            "Epoch 2/5\n",
            "30596/30596 [==============================] - 4s 124us/step - loss: 0.0051 - acc: 0.9984 - val_loss: 0.0047 - val_acc: 0.9988\n",
            "Epoch 3/5\n",
            "30596/30596 [==============================] - 4s 123us/step - loss: 0.0034 - acc: 0.9986 - val_loss: 0.0049 - val_acc: 0.9981\n",
            "Epoch 4/5\n",
            "30596/30596 [==============================] - 4s 122us/step - loss: 0.0046 - acc: 0.9983 - val_loss: 0.0044 - val_acc: 0.9988\n",
            "Epoch 5/5\n",
            "30596/30596 [==============================] - 4s 122us/step - loss: 0.0047 - acc: 0.9985 - val_loss: 0.0031 - val_acc: 0.9988\n"
          ],
          "name": "stdout"
        }
      ]
    },
    {
      "cell_type": "code",
      "metadata": {
        "id": "Z1BlorJz1p0n",
        "colab_type": "code",
        "colab": {
          "base_uri": "https://localhost:8080/",
          "height": 470
        },
        "outputId": "5240aa3b-3500-4097-f07e-cdea7498c340"
      },
      "source": [
        "print(\"Train Accuracy: \", metrics.accuracy_score(np.argmax(y_train_lt5, axis=1), np.argmax(predictions_train, axis=1)))\n",
        "print(\"Classification Report for train data\")\n",
        "print(classification_report(np.argmax(y_train_lt5, axis=1), np.argmax(predictions_train, axis=1)))\n",
        "print(\"Test Accuracy: \", metrics.accuracy_score(np.argmax(y_test_lt5, axis=1), np.argmax(predictions_test, axis=1)))\n",
        "#print(\"Classification Report for test data\")\n",
        "print(classification_report(np.argmax(y_test_lt5, axis=1), np.argmax(predictions_test, axis=1)))"
      ],
      "execution_count": 159,
      "outputs": [
        {
          "output_type": "stream",
          "text": [
            "Train Accuracy:  0.9999673159890182\n",
            "Classification Report for train data\n",
            "              precision    recall  f1-score   support\n",
            "\n",
            "           0       1.00      1.00      1.00      5923\n",
            "           1       1.00      1.00      1.00      6742\n",
            "           2       1.00      1.00      1.00      5958\n",
            "           3       1.00      1.00      1.00      6131\n",
            "           4       1.00      1.00      1.00      5842\n",
            "\n",
            "    accuracy                           1.00     30596\n",
            "   macro avg       1.00      1.00      1.00     30596\n",
            "weighted avg       1.00      1.00      1.00     30596\n",
            "\n",
            "Test Accuracy:  0.9988324576765908\n",
            "              precision    recall  f1-score   support\n",
            "\n",
            "           0       1.00      1.00      1.00       980\n",
            "           1       1.00      1.00      1.00      1135\n",
            "           2       1.00      1.00      1.00      1032\n",
            "           3       1.00      1.00      1.00      1010\n",
            "           4       1.00      1.00      1.00       982\n",
            "\n",
            "    accuracy                           1.00      5139\n",
            "   macro avg       1.00      1.00      1.00      5139\n",
            "weighted avg       1.00      1.00      1.00      5139\n",
            "\n"
          ],
          "name": "stdout"
        }
      ]
    },
    {
      "cell_type": "markdown",
      "metadata": {
        "colab_type": "text",
        "id": "z78o3WIjaEJ3"
      },
      "source": [
        "### Use the model trained on 0 to 4 digit classification and train it on the dataset which has digits 5 to 9  (Using Transfer learning keeping only the dense layers to be trainable)\n",
        "\n",
        "### Make only the dense layers to be trainable and convolutional layers to be non-trainable"
      ]
    },
    {
      "cell_type": "markdown",
      "metadata": {
        "colab_type": "text",
        "id": "DqRYoYlXCw_L"
      },
      "source": [
        "#### Check model summary to see model layer names"
      ]
    },
    {
      "cell_type": "code",
      "metadata": {
        "colab_type": "code",
        "id": "k24fHhlUslH6",
        "outputId": "a7861f1c-22e9-4d5c-a691-c26ea9e6cfd7",
        "colab": {
          "base_uri": "https://localhost:8080/",
          "height": 420
        }
      },
      "source": [
        "for layers in model.layers:\n",
        "    print(layers.name)\n",
        "    if('dense' not in layers.name):\n",
        "        layers.trainable = False\n",
        "        print(layers.name + 'is not trainable\\n')\n",
        "    if('dense' in layers.name):\n",
        "        print(layers.name + ' is trainable\\n')"
      ],
      "execution_count": 160,
      "outputs": [
        {
          "output_type": "stream",
          "text": [
            "conv_1\n",
            "conv_1is not trainable\n",
            "\n",
            "conv_2\n",
            "conv_2is not trainable\n",
            "\n",
            "max_1\n",
            "max_1is not trainable\n",
            "\n",
            "drop_1\n",
            "drop_1is not trainable\n",
            "\n",
            "flatten_1\n",
            "flatten_1is not trainable\n",
            "\n",
            "dense_1\n",
            "dense_1 is trainable\n",
            "\n",
            "drop_2\n",
            "drop_2is not trainable\n",
            "\n",
            "dense_3\n",
            "dense_3 is trainable\n",
            "\n"
          ],
          "name": "stdout"
        }
      ]
    },
    {
      "cell_type": "markdown",
      "metadata": {
        "colab_type": "text",
        "id": "8908wI0itQZ7"
      },
      "source": [
        "### Do the required preprocessing for `x_train_gt5` also same as `x_train_lt5` and for `y_train_gt5` same as `y_train_lt5`\n",
        "\n",
        "1. Reshape\n",
        "2. Change to float32 datatype\n",
        "3. Normalize (dividing with 255)\n",
        "4. y_train and y_test Convert into one-hot vectors"
      ]
    },
    {
      "cell_type": "code",
      "metadata": {
        "colab_type": "code",
        "id": "lCFcYHTm6-cE",
        "colab": {}
      },
      "source": [
        "x_train_gt5 = x_train_gt5/255\n",
        "x_test_gt5 = x_test_gt5/255\n",
        "# y_train_gt5 = y_train_gt5/255\n",
        "# y_test_gt5 = y_test_gt5/255\n"
      ],
      "execution_count": 0,
      "outputs": []
    },
    {
      "cell_type": "markdown",
      "metadata": {
        "colab_type": "text",
        "id": "1SYDxFsvuAVE"
      },
      "source": [
        "### Check\n",
        "\n",
        "Verify the shapes with the given below."
      ]
    },
    {
      "cell_type": "code",
      "metadata": {
        "colab_type": "code",
        "id": "wJc7PvvCuGVa",
        "colab": {}
      },
      "source": [
        ""
      ],
      "execution_count": 0,
      "outputs": []
    },
    {
      "cell_type": "code",
      "metadata": {
        "colab_type": "code",
        "id": "5AANrUvVt_6U",
        "outputId": "1c45ffe2-e0a9-40c5-db48-25c175b7a50c",
        "colab": {
          "base_uri": "https://localhost:8080/",
          "height": 84
        }
      },
      "source": [
        "print(x_train_gt5.shape)\n",
        "print(y_train_gt5.shape)\n",
        "print(x_test_gt5.shape)\n",
        "print(y_test_gt5.shape)"
      ],
      "execution_count": 162,
      "outputs": [
        {
          "output_type": "stream",
          "text": [
            "(29404, 28, 28, 1)\n",
            "(29404,)\n",
            "(4861, 28, 28, 1)\n",
            "(4861,)\n"
          ],
          "name": "stdout"
        }
      ]
    },
    {
      "cell_type": "markdown",
      "metadata": {
        "colab_type": "text",
        "id": "SoDozqghCJZ4"
      },
      "source": [
        "## Print the accuracy for classification of digits 5 to 9"
      ]
    },
    {
      "cell_type": "code",
      "metadata": {
        "colab_type": "code",
        "id": "9fCxgb5s49Cj",
        "colab": {}
      },
      "source": [
        "y_train_gt5 = keras.utils.to_categorical(y_train_gt5, 5)\n",
        "y_test_gt5 = keras.utils.to_categorical(y_test_gt5, 5)"
      ],
      "execution_count": 0,
      "outputs": []
    },
    {
      "cell_type": "code",
      "metadata": {
        "colab_type": "code",
        "id": "LRWizZIpCUKg",
        "colab": {}
      },
      "source": [
        ""
      ],
      "execution_count": 0,
      "outputs": []
    },
    {
      "cell_type": "code",
      "metadata": {
        "id": "iG8VkUmWB_4c",
        "colab_type": "code",
        "colab": {
          "base_uri": "https://localhost:8080/",
          "height": 759
        },
        "outputId": "757231ae-4046-4af0-fd8a-e7972c3f4317"
      },
      "source": [
        "#Training on the dataset\n",
        "config = tf.ConfigProto(\n",
        "    device_count={'GPU': 1},\n",
        "    intra_op_parallelism_threads=1,\n",
        "    allow_soft_placement=True\n",
        ")\n",
        "\n",
        "config.gpu_options.allow_growth = True\n",
        "config.gpu_options.per_process_gpu_memory_fraction = 0.6\n",
        "\n",
        "session = tf.Session(config=config)\n",
        "with session.as_default():\n",
        "  with session.graph.as_default():\n",
        "    model.fit(x_train_gt5, y_train_gt5,\n",
        "    batch_size=100,\n",
        "    epochs=20,\n",
        "    verbose=1,\n",
        "    validation_data=(x_test_gt5, y_test_gt5))\n",
        "    predictions_train = model.predict(x_train_gt5)\n",
        "    predictions_test = model.predict(x_test_gt5)"
      ],
      "execution_count": 164,
      "outputs": [
        {
          "output_type": "stream",
          "text": [
            "Train on 29404 samples, validate on 4861 samples\n",
            "Epoch 1/20\n"
          ],
          "name": "stdout"
        },
        {
          "output_type": "stream",
          "text": [
            "/usr/local/lib/python3.6/dist-packages/keras/engine/training.py:493: UserWarning: Discrepancy between trainable weights and collected trainable weights, did you set `model.trainable` without calling `model.compile` after ?\n",
            "  'Discrepancy between trainable weights and collected trainable'\n"
          ],
          "name": "stderr"
        },
        {
          "output_type": "stream",
          "text": [
            "29404/29404 [==============================] - 4s 138us/step - loss: 0.1939 - acc: 0.9365 - val_loss: 0.0378 - val_acc: 0.9868\n",
            "Epoch 2/20\n",
            "29404/29404 [==============================] - 4s 122us/step - loss: 0.0575 - acc: 0.9822 - val_loss: 0.0312 - val_acc: 0.9899\n",
            "Epoch 3/20\n",
            "29404/29404 [==============================] - 4s 121us/step - loss: 0.0384 - acc: 0.9879 - val_loss: 0.0252 - val_acc: 0.9922\n",
            "Epoch 4/20\n",
            "29404/29404 [==============================] - 4s 121us/step - loss: 0.0348 - acc: 0.9892 - val_loss: 0.0213 - val_acc: 0.9928\n",
            "Epoch 5/20\n",
            "29404/29404 [==============================] - 4s 120us/step - loss: 0.0263 - acc: 0.9921 - val_loss: 0.0180 - val_acc: 0.9944\n",
            "Epoch 6/20\n",
            "29404/29404 [==============================] - 4s 123us/step - loss: 0.0221 - acc: 0.9926 - val_loss: 0.0206 - val_acc: 0.9928\n",
            "Epoch 7/20\n",
            "29404/29404 [==============================] - 4s 121us/step - loss: 0.0181 - acc: 0.9942 - val_loss: 0.0193 - val_acc: 0.9942\n",
            "Epoch 8/20\n",
            "29404/29404 [==============================] - 4s 121us/step - loss: 0.0182 - acc: 0.9937 - val_loss: 0.0171 - val_acc: 0.9940\n",
            "Epoch 9/20\n",
            "29404/29404 [==============================] - 4s 122us/step - loss: 0.0151 - acc: 0.9951 - val_loss: 0.0187 - val_acc: 0.9947\n",
            "Epoch 10/20\n",
            "29404/29404 [==============================] - 4s 120us/step - loss: 0.0143 - acc: 0.9953 - val_loss: 0.0213 - val_acc: 0.9938\n",
            "Epoch 11/20\n",
            "29404/29404 [==============================] - 4s 123us/step - loss: 0.0121 - acc: 0.9961 - val_loss: 0.0310 - val_acc: 0.9903\n",
            "Epoch 12/20\n",
            "29404/29404 [==============================] - 4s 121us/step - loss: 0.0128 - acc: 0.9957 - val_loss: 0.0178 - val_acc: 0.9951\n",
            "Epoch 13/20\n",
            "29404/29404 [==============================] - 4s 122us/step - loss: 0.0104 - acc: 0.9963 - val_loss: 0.0197 - val_acc: 0.9951\n",
            "Epoch 14/20\n",
            "29404/29404 [==============================] - 4s 122us/step - loss: 0.0111 - acc: 0.9961 - val_loss: 0.0162 - val_acc: 0.9957\n",
            "Epoch 15/20\n",
            "29404/29404 [==============================] - 4s 122us/step - loss: 0.0076 - acc: 0.9974 - val_loss: 0.0172 - val_acc: 0.9951\n",
            "Epoch 16/20\n",
            "29404/29404 [==============================] - 4s 122us/step - loss: 0.0092 - acc: 0.9969 - val_loss: 0.0259 - val_acc: 0.9940\n",
            "Epoch 17/20\n",
            "29404/29404 [==============================] - 4s 121us/step - loss: 0.0083 - acc: 0.9973 - val_loss: 0.0265 - val_acc: 0.9936\n",
            "Epoch 18/20\n",
            "29404/29404 [==============================] - 4s 121us/step - loss: 0.0080 - acc: 0.9973 - val_loss: 0.0214 - val_acc: 0.9936\n",
            "Epoch 19/20\n",
            "29404/29404 [==============================] - 4s 122us/step - loss: 0.0075 - acc: 0.9977 - val_loss: 0.0265 - val_acc: 0.9934\n",
            "Epoch 20/20\n",
            "29404/29404 [==============================] - 4s 123us/step - loss: 0.0081 - acc: 0.9973 - val_loss: 0.0214 - val_acc: 0.9942\n"
          ],
          "name": "stdout"
        }
      ]
    },
    {
      "cell_type": "markdown",
      "metadata": {
        "colab_type": "text",
        "id": "0zDuRecXzEtr"
      },
      "source": [
        "# Text classification using TF-IDF"
      ]
    },
    {
      "cell_type": "markdown",
      "metadata": {
        "colab_type": "text",
        "id": "xMPlEJhHzb6P"
      },
      "source": [
        "###  Load the dataset from sklearn.datasets"
      ]
    },
    {
      "cell_type": "code",
      "metadata": {
        "colab_type": "code",
        "id": "Fe-B59u3zHNb",
        "colab": {}
      },
      "source": [
        "from sklearn.datasets import fetch_20newsgroups"
      ],
      "execution_count": 0,
      "outputs": []
    },
    {
      "cell_type": "code",
      "metadata": {
        "colab_type": "code",
        "id": "PRrMemVQzbHU",
        "colab": {}
      },
      "source": [
        "categories = ['alt.atheism', 'soc.religion.christian', 'comp.graphics', 'sci.med']"
      ],
      "execution_count": 0,
      "outputs": []
    },
    {
      "cell_type": "markdown",
      "metadata": {
        "colab_type": "text",
        "id": "-sZX0UbJzmg5"
      },
      "source": [
        "### Training data"
      ]
    },
    {
      "cell_type": "code",
      "metadata": {
        "colab_type": "code",
        "id": "CITr_5aXziJ2",
        "colab": {}
      },
      "source": [
        "twenty_train = fetch_20newsgroups(subset='train', categories=categories, shuffle=True, random_state=42)"
      ],
      "execution_count": 0,
      "outputs": []
    },
    {
      "cell_type": "markdown",
      "metadata": {
        "colab_type": "text",
        "id": "xcESc5QXzr6p"
      },
      "source": [
        "### Test data"
      ]
    },
    {
      "cell_type": "code",
      "metadata": {
        "colab_type": "code",
        "id": "ysInblUMzpvl",
        "colab": {}
      },
      "source": [
        "twenty_test = fetch_20newsgroups(subset='test', categories=categories, shuffle=True, random_state=42)"
      ],
      "execution_count": 0,
      "outputs": []
    },
    {
      "cell_type": "markdown",
      "metadata": {
        "colab_type": "text",
        "id": "DriL2yZ50DQq"
      },
      "source": [
        "###  a.  You can access the values for the target variable using .target attribute \n",
        "###  b. You can access the name of the class in the target variable with .target_names\n"
      ]
    },
    {
      "cell_type": "code",
      "metadata": {
        "colab_type": "code",
        "id": "vlUuai99z1hX",
        "colab": {
          "base_uri": "https://localhost:8080/",
          "height": 34
        },
        "outputId": "9f7854d0-1a86-4237-db20-49e464de2193"
      },
      "source": [
        "twenty_train.target"
      ],
      "execution_count": 169,
      "outputs": [
        {
          "output_type": "execute_result",
          "data": {
            "text/plain": [
              "array([1, 1, 3, ..., 2, 2, 2])"
            ]
          },
          "metadata": {
            "tags": []
          },
          "execution_count": 169
        }
      ]
    },
    {
      "cell_type": "code",
      "metadata": {
        "colab_type": "code",
        "id": "VEKzaDfSz5E-",
        "colab": {
          "base_uri": "https://localhost:8080/",
          "height": 34
        },
        "outputId": "76c09b58-9de8-44ae-dd6a-e54d01344d43"
      },
      "source": [
        "twenty_train.target_names"
      ],
      "execution_count": 170,
      "outputs": [
        {
          "output_type": "execute_result",
          "data": {
            "text/plain": [
              "['alt.atheism', 'comp.graphics', 'sci.med', 'soc.religion.christian']"
            ]
          },
          "metadata": {
            "tags": []
          },
          "execution_count": 170
        }
      ]
    },
    {
      "cell_type": "code",
      "metadata": {
        "colab_type": "code",
        "id": "clBMKHzC0_N1",
        "colab": {
          "base_uri": "https://localhost:8080/",
          "height": 121
        },
        "outputId": "bda6e23d-5fd2-4a82-82e1-ad6cb29d5656"
      },
      "source": [
        "twenty_train.data[0:5]"
      ],
      "execution_count": 171,
      "outputs": [
        {
          "output_type": "execute_result",
          "data": {
            "text/plain": [
              "['From: sd345@city.ac.uk (Michael Collier)\\nSubject: Converting images to HP LaserJet III?\\nNntp-Posting-Host: hampton\\nOrganization: The City University\\nLines: 14\\n\\nDoes anyone know of a good way (standard PC application/PD utility) to\\nconvert tif/img/tga files into LaserJet III format.  We would also like to\\ndo the same, converting to HPGL (HP plotter) files.\\n\\nPlease email any response.\\n\\nIs this the correct group?\\n\\nThanks in advance.  Michael.\\n-- \\nMichael Collier (Programmer)                 The Computer Unit,\\nEmail: M.P.Collier@uk.ac.city                The City University,\\nTel: 071 477-8000 x3769                      London,\\nFax: 071 477-8565                            EC1V 0HB.\\n',\n",
              " \"From: ani@ms.uky.edu (Aniruddha B. Deglurkar)\\nSubject: help: Splitting a trimming region along a mesh \\nOrganization: University Of Kentucky, Dept. of Math Sciences\\nLines: 28\\n\\n\\n\\n\\tHi,\\n\\n\\tI have a problem, I hope some of the 'gurus' can help me solve.\\n\\n\\tBackground of the problem:\\n\\tI have a rectangular mesh in the uv domain, i.e  the mesh is a \\n\\tmapping of a 3d Bezier patch into 2d. The area in this domain\\n\\twhich is inside a trimming loop had to be rendered. The trimming\\n\\tloop is a set of 2d Bezier curve segments.\\n\\tFor the sake of notation: the mesh is made up of cells.\\n\\n\\tMy problem is this :\\n\\tThe trimming area has to be split up into individual smaller\\n\\tcells bounded by the trimming curve segments. If a cell\\n\\tis wholly inside the area...then it is output as a whole ,\\n\\telse it is trivially rejected. \\n\\n\\tDoes any body know how thiss can be done, or is there any algo. \\n\\tsomewhere for doing this.\\n\\n\\tAny help would be appreciated.\\n\\n\\tThanks, \\n\\tAni.\\n-- \\nTo get irritated is human, to stay cool, divine.\\n\",\n",
              " \"From: djohnson@cs.ucsd.edu (Darin Johnson)\\nSubject: Re: harrassed at work, could use some prayers\\nOrganization: =CSE Dept., U.C. San Diego\\nLines: 63\\n\\n(Well, I'll email also, but this may apply to other people, so\\nI'll post also.)\\n\\n>I've been working at this company for eight years in various\\n>engineering jobs.  I'm female.  Yesterday I counted and realized that\\n>on seven different occasions I've been sexually harrassed at this\\n>company.\\n\\n>I dreaded coming back to work today.  What if my boss comes in to ask\\n>me some kind of question...\\n\\nYour boss should be the person bring these problems to.  If he/she\\ndoes not seem to take any action, keep going up higher and higher.\\nSexual harrassment does not need to be tolerated, and it can be an\\nenormous emotional support to discuss this with someone and know that\\nthey are trying to do something about it.  If you feel you can not\\ndiscuss this with your boss, perhaps your company has a personnel\\ndepartment that can work for you while preserving your privacy.  Most\\ncompanies will want to deal with this problem because constant anxiety\\ndoes seriously affect how effectively employees do their jobs.\\n\\nIt is unclear from your letter if you have done this or not.  It is\\nnot inconceivable that management remains ignorant of employee\\nproblems/strife even after eight years (it's a miracle if they do\\nnotice).  Perhaps your manager did not bring to the attention of\\nhigher ups?  If the company indeed does seem to want to ignore the\\nentire problem, there may be a state agency willing to fight with\\nyou.  (check with a lawyer, a women's resource center, etc to find out)\\n\\nYou may also want to discuss this with your paster, priest, husband,\\netc.  That is, someone you know will not be judgemental and that is\\nsupportive, comforting, etc.  This will bring a lot of healing.\\n\\n>So I returned at 11:25, only to find that ever single\\n>person had already left for lunch.  They left at 11:15 or so.  No one\\n>could be bothered to call me at the other building, even though my\\n>number was posted.\\n\\nThis happens to a lot of people.  Honest.  I believe it may seem\\nto be due to gross insensitivity because of the feelings you are\\ngoing through.  People in offices tend to be more insensitive while\\nworking than they normally are (maybe it's the hustle or stress or...)\\nI've had this happen to me a lot, often because they didn't realize\\nmy car was broken, etc.  Then they will come back and wonder why I\\ndidn't want to go (this would tend to make me stop being angry at\\nbeing ignored and make me laugh).  Once, we went off without our\\nboss, who was paying for the lunch :-)\\n\\n>For this\\n>reason I hope good Mr. Moderator allows me this latest indulgence.\\n\\nWell, if you can't turn to the computer for support, what would\\nwe do?  (signs of the computer age :-)\\n\\nIn closing, please don't let the hateful actions of a single person\\nharm you.  They are doing it because they are still the playground\\nbully and enjoy seeing the hurt they cause.  And you should not\\naccept the opinions of an imbecile that you are worthless - much\\nwiser people hold you in great esteem.\\n-- \\nDarin Johnson\\ndjohnson@ucsd.edu\\n  - Luxury!  In MY day, we had to make do with 5 bytes of swap...\\n\",\n",
              " 'From: s0612596@let.rug.nl (M.M. Zwart)\\nSubject: catholic church poland\\nOrganization: Faculteit der Letteren, Rijksuniversiteit Groningen, NL\\nLines: 10\\n\\nHello,\\n\\nI\\'m writing a paper on the role of the catholic church in Poland after 1989. \\nCan anyone tell me more about this, or fill me in on recent books/articles(\\nin english, german or french). Most important for me is the role of the \\nchurch concerning the abortion-law, religious education at schools,\\nbirth-control and the relation church-state(government). Thanx,\\n\\n                                                 Masja,\\n\"M.M.Zwart\"<s0612596@let.rug.nl>\\n',\n",
              " 'From: stanly@grok11.columbiasc.ncr.com (stanly)\\nSubject: Re: Elder Brother\\nOrganization: NCR Corp., Columbia SC\\nLines: 15\\n\\nIn article <Apr.8.00.57.41.1993.28246@athos.rutgers.edu> REXLEX@fnal.gov writes:\\n>In article <Apr.7.01.56.56.1993.22824@athos.rutgers.edu> shrum@hpfcso.fc.hp.com\\n>Matt. 22:9-14 \\'Go therefore to the main highways, and as many as you find\\n>there, invite to the wedding feast.\\'...\\n\\n>hmmmmmm.  Sounds like your theology and Christ\\'s are at odds. Which one am I \\n>to believe?\\n\\nIn this parable, Jesus tells the parable of the wedding feast. \"The kingdom\\nof heaven is like unto a certain king which made a marriage for his son\".\\nSo the wedding clothes were customary,  and \"given\" to those who \"chose\" to\\nattend.  This man \"refused\" to wear the clothes.  The wedding clothes are\\nequalivant to the \"clothes of righteousness\".  When Jesus died for our sins,\\nthose \"clothes\" were then provided.  Like that man, it is our decision to\\nput the clothes on.\\n']"
            ]
          },
          "metadata": {
            "tags": []
          },
          "execution_count": 171
        }
      ]
    },
    {
      "cell_type": "markdown",
      "metadata": {
        "colab_type": "text",
        "id": "hTz4EaN_1WGc"
      },
      "source": [
        "### Now with dependent and independent data available for both train and test datasets, using TfidfVectorizer fit and transform the training data and test data and get the tfidf features for both"
      ]
    },
    {
      "cell_type": "code",
      "metadata": {
        "colab_type": "code",
        "id": "H5G477f81C0Z",
        "colab": {}
      },
      "source": [
        "from sklearn.feature_extraction.text import CountVectorizer, TfidfVectorizer\n",
        "from sklearn.naive_bayes import MultinomialNB\n",
        "from sklearn.linear_model import LogisticRegression\n",
        "from sklearn.model_selection import train_test_split"
      ],
      "execution_count": 0,
      "outputs": []
    },
    {
      "cell_type": "code",
      "metadata": {
        "id": "4j0h5I8YMtS6",
        "colab_type": "code",
        "colab": {}
      },
      "source": [
        "X_train = twenty_train.data\n",
        "X_test = twenty_test.data\n",
        "y_train = twenty_train.target\n",
        "y_test = twenty_test.target\n",
        "# split the new DataFrame into training and testing sets [Default test size = 25%]\n",
        "#X_train, X_test, y_train, y_test = train_test_split(twenty_train, twenty_test, random_state=123)\n",
        "X_train = twenty_train.data\n",
        "X_test = twenty_test.data\n",
        "y_train = twenty_train.target\n",
        "y_test = twenty_test.target\n",
        "# split the new DataFrame into training and testing sets [Default test size = 25%]\n",
        "#X_train, X_test, y_train, y_test = train_test_split(twenty_train, twenty_test, random_state=123)"
      ],
      "execution_count": 0,
      "outputs": []
    },
    {
      "cell_type": "markdown",
      "metadata": {
        "colab_type": "text",
        "id": "tp_fDINJ1t4L"
      },
      "source": [
        "### Use logisticRegression with tfidf features as input and targets as output and train the model and report the train and test accuracy score"
      ]
    },
    {
      "cell_type": "code",
      "metadata": {
        "colab_type": "code",
        "id": "THlN2b5d1yQp",
        "colab": {
          "base_uri": "https://localhost:8080/",
          "height": 171
        },
        "outputId": "cc24b0a3-6bf1-4dac-e1bd-02e4336c4b32"
      },
      "source": [
        "from sklearn.metrics import accuracy_score\n",
        "from sklearn import metrics\n",
        "tfid = TfidfVectorizer(ngram_range=(1, 2),max_df=1.0,min_df=1)\n",
        "X_train_dtm = tfid.fit_transform(X_train)\n",
        "print('Features: ', X_train_dtm.shape[1])\n",
        "X_test_dtm = tfid.transform(X_test)\n",
        "print('Features: ', X_test_dtm.shape[1])\n",
        "logreg = LogisticRegression(C=1e9)\n",
        "logreg.fit(X_train_dtm, y_train)\n",
        "y_pred_class_LR = logreg.predict(X_test_dtm)\n",
        "#print(metrics.accuracy_score(y_test, y_pred_class))\n",
        "y_train_LR = logreg.predict(X_train_dtm)\n",
        "print('Train Accuracy for LR: ',metrics.accuracy_score(y_train, y_train_LR))\n",
        "print('Test Accuracy for LR: ',metrics.accuracy_score(y_test, y_pred_class_LR))"
      ],
      "execution_count": 178,
      "outputs": [
        {
          "output_type": "stream",
          "text": [
            "Features:  299984\n",
            "Features:  299984\n"
          ],
          "name": "stdout"
        },
        {
          "output_type": "stream",
          "text": [
            "/usr/local/lib/python3.6/dist-packages/sklearn/linear_model/logistic.py:432: FutureWarning: Default solver will be changed to 'lbfgs' in 0.22. Specify a solver to silence this warning.\n",
            "  FutureWarning)\n",
            "/usr/local/lib/python3.6/dist-packages/sklearn/linear_model/logistic.py:469: FutureWarning: Default multi_class will be changed to 'auto' in 0.22. Specify the multi_class option to silence this warning.\n",
            "  \"this warning.\", FutureWarning)\n"
          ],
          "name": "stderr"
        },
        {
          "output_type": "stream",
          "text": [
            "Train Accuracy for LR:  1.0\n",
            "Test Accuracy for LR:  0.9267643142476698\n"
          ],
          "name": "stdout"
        }
      ]
    },
    {
      "cell_type": "code",
      "metadata": {
        "id": "RXLlUTszNsNd",
        "colab_type": "code",
        "colab": {}
      },
      "source": [
        "tfidf = TfidfVectorizer(ngram_range=(1, 3),max_df=1.0,min_df=1)\n",
        "#NB_test(vect)\n",
        "nb = MultinomialNB()\n",
        "nb.fit(X_train_dtm, y_train)\n",
        "y_train_pred = nb.predict(X_train_dtm)\n",
        "y_pred_class = nb.predict(X_test_dtm)"
      ],
      "execution_count": 0,
      "outputs": []
    },
    {
      "cell_type": "code",
      "metadata": {
        "id": "6P7KL1ovM9Gy",
        "colab_type": "code",
        "colab": {
          "base_uri": "https://localhost:8080/",
          "height": 50
        },
        "outputId": "e8c6ff1f-e3f2-4c89-d659-a4fc92cc04b4"
      },
      "source": [
        "print('Train Accuracy for NB : ', metrics.accuracy_score(y_train,y_train_pred))\n",
        "print('Test Accuracy for NB: ', metrics.accuracy_score(y_test, y_pred_class))"
      ],
      "execution_count": 180,
      "outputs": [
        {
          "output_type": "stream",
          "text": [
            "Train Accuracy for NB :  0.9813912272928667\n",
            "Test Accuracy for NB:  0.8229027962716379\n"
          ],
          "name": "stdout"
        }
      ]
    }
  ]
}